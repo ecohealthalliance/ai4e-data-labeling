{
 "cells": [
  {
   "cell_type": "code",
   "execution_count": 1,
   "metadata": {},
   "outputs": [],
   "source": [
    "%load_ext autoreload\n",
    "%autoreload 2"
   ]
  },
  {
   "cell_type": "code",
   "execution_count": 1,
   "metadata": {},
   "outputs": [],
   "source": [
    "import time\n",
    "import os\n",
    "import sys\n",
    "import multiprocessing as mp\n",
    "import pymongo\n",
    "from pubcrawler.article import Article\n",
    "from epitator.annodoc import AnnoDoc\n",
    "from epitator.annotier import AnnoTier\n",
    "from epitator.geoname_annotator import GeonameAnnotator\n",
    "\n",
    "from reporter import Reporter, MongoQueryReporter"
   ]
  },
  {
   "cell_type": "code",
   "execution_count": 3,
   "metadata": {},
   "outputs": [],
   "source": [
    "import re"
   ]
  },
  {
   "cell_type": "markdown",
   "metadata": {},
   "source": [
    "Find one article and count geonames"
   ]
  },
  {
   "cell_type": "code",
   "execution_count": 4,
   "metadata": {},
   "outputs": [],
   "source": [
    "articles = pymongo.MongoClient(\"localhost\", 27017).pmc.articles\n",
    "geoname_annotator = GeonameAnnotator()"
   ]
  },
  {
   "cell_type": "code",
   "execution_count": 5,
   "metadata": {},
   "outputs": [],
   "source": [
    "record = articles.find_one(\"5005014\")"
   ]
  },
  {
   "cell_type": "code",
   "execution_count": 7,
   "metadata": {},
   "outputs": [
    {
     "ename": "NameError",
     "evalue": "name 'geospans' is not defined",
     "output_type": "error",
     "traceback": [
      "\u001b[0;31m---------------------------------------------------------------------------\u001b[0m",
      "\u001b[0;31mNameError\u001b[0m                                 Traceback (most recent call last)",
      "\u001b[0;32m<ipython-input-7-cd6fc2bc2845>\u001b[0m in \u001b[0;36m<module>\u001b[0;34m\u001b[0m\n\u001b[1;32m      8\u001b[0m     \u001b[0marticle\u001b[0m\u001b[0;34m.\u001b[0m\u001b[0mtiers\u001b[0m\u001b[0;34m.\u001b[0m\u001b[0mupdate\u001b[0m\u001b[0;34m(\u001b[0m\u001b[0;34m{\u001b[0m\u001b[0;34m\"parentheticals\"\u001b[0m\u001b[0;34m:\u001b[0m \u001b[0marticle\u001b[0m\u001b[0;34m.\u001b[0m\u001b[0mcreate_regex_tier\u001b[0m\u001b[0;34m(\u001b[0m\u001b[0;34m\"\\(.*?\\)\"\u001b[0m\u001b[0;34m)\u001b[0m\u001b[0;34m}\u001b[0m\u001b[0;34m)\u001b[0m\u001b[0;34m\u001b[0m\u001b[0;34m\u001b[0m\u001b[0m\n\u001b[1;32m      9\u001b[0m     \u001b[0mall_geospans\u001b[0m \u001b[0;34m=\u001b[0m \u001b[0marticle\u001b[0m\u001b[0;34m.\u001b[0m\u001b[0mtiers\u001b[0m\u001b[0;34m[\u001b[0m\u001b[0;34m\"geonames\"\u001b[0m\u001b[0;34m]\u001b[0m\u001b[0;34m\u001b[0m\u001b[0;34m\u001b[0m\u001b[0m\n\u001b[0;32m---> 10\u001b[0;31m     \u001b[0mgeospans\u001b[0m \u001b[0;34m=\u001b[0m \u001b[0mAnnoTier\u001b[0m\u001b[0;34m(\u001b[0m\u001b[0;34m[\u001b[0m\u001b[0mspan\u001b[0m \u001b[0;32mfor\u001b[0m \u001b[0mspan\u001b[0m \u001b[0;32min\u001b[0m \u001b[0mgeospans\u001b[0m \u001b[0;32mif\u001b[0m \u001b[0mspan\u001b[0m\u001b[0;34m.\u001b[0m\u001b[0mmetadata\u001b[0m\u001b[0;34m[\u001b[0m\u001b[0;34m\"geoname\"\u001b[0m\u001b[0;34m]\u001b[0m\u001b[0;34m.\u001b[0m\u001b[0mscore\u001b[0m \u001b[0;34m>\u001b[0m \u001b[0;36m0.13\u001b[0m\u001b[0;34m]\u001b[0m\u001b[0;34m)\u001b[0m\u001b[0;34m\u001b[0m\u001b[0;34m\u001b[0m\u001b[0m\n\u001b[0m\u001b[1;32m     11\u001b[0m     \u001b[0mparentheticals\u001b[0m \u001b[0;34m=\u001b[0m \u001b[0marticle\u001b[0m\u001b[0;34m.\u001b[0m\u001b[0mtiers\u001b[0m\u001b[0;34m[\u001b[0m\u001b[0;34m\"parentheticals\"\u001b[0m\u001b[0;34m]\u001b[0m\u001b[0;34m\u001b[0m\u001b[0;34m\u001b[0m\u001b[0m\n\u001b[1;32m     12\u001b[0m     \u001b[0mnonparen_geospans\u001b[0m \u001b[0;34m=\u001b[0m \u001b[0mgeospans\u001b[0m\u001b[0;34m.\u001b[0m\u001b[0msubtract_overlaps\u001b[0m\u001b[0;34m(\u001b[0m\u001b[0mparentheticals\u001b[0m\u001b[0;34m)\u001b[0m\u001b[0;34m\u001b[0m\u001b[0;34m\u001b[0m\u001b[0m\n",
      "\u001b[0;31mNameError\u001b[0m: name 'geospans' is not defined"
     ]
    }
   ],
   "source": [
    "if len(record[\"extracted_text\"]) > 100000:\n",
    "    all_geospans = 0\n",
    "    n_geospans = 0\n",
    "    geospan_density = 0\n",
    "else:\n",
    "    article = AnnoDoc(record[\"extracted_text\"])\n",
    "    article.add_tier(geoname_annotator)\n",
    "    article.tiers.update({\"parentheticals\": article.create_regex_tier(\"\\(.*?\\)\")})\n",
    "    all_geospans = article.tiers[\"geonames\"]\n",
    "    geospans = AnnoTier([span for span in geospans if span.metadata[\"geoname\"].score > 0.13])\n",
    "    parentheticals = article.tiers[\"parentheticals\"]\n",
    "    nonparen_geospans = geospans.subtract_overlaps(parentheticals)\n",
    "    paren_geospans = geospans.subtract_overlaps(nonparen_geospans)\n",
    "    \n",
    "    n_all_geospans = len(all_geospans)\n",
    "    n_geospans = len(geospans)\n",
    "    n_nonparen_geospans = len(nonparen_geospans)\n",
    "    n_paren_geospans = len(paren_geospans)\n",
    "    geospan_density = n_geospans / len(record[\"extracted_text\"])\n",
    "    nonparen_geospan_density = n_nonparen_geospans / len(record[\"extracted_text\"])\n",
    "    paren_geospan_density = n_paren_geospans / len(record[\"extracted_text\"])\n",
    "articles.update_one(\n",
    "            i,\n",
    "            {\n",
    "                \"$set\": {\n",
    "                    \"article_meta.all_geospans\": all_geospans,\n",
    "                    \"article_meta.n_geospans\": n_geospans,\n",
    "                    \"article_meta.geospan_density\": geospan_density,\n",
    "                }\n",
    "            },\n",
    "        )"
   ]
  },
  {
   "cell_type": "code",
   "execution_count": null,
   "metadata": {},
   "outputs": [],
   "source": []
  },
  {
   "cell_type": "code",
   "execution_count": 7,
   "metadata": {},
   "outputs": [
    {
     "data": {
      "text/plain": [
       "dict_keys(['spacy.sentences', 'spacy.noun_chunks', 'spacy.tokens', 'spacy.nes', 'nes', 'tokens', 'ngrams', 'geonames'])"
      ]
     },
     "execution_count": 7,
     "metadata": {},
     "output_type": "execute_result"
    }
   ],
   "source": [
    "article.tiers.keys()"
   ]
  },
  {
   "cell_type": "code",
   "execution_count": 25,
   "metadata": {},
   "outputs": [],
   "source": [
    "article.tiers.update({\"parentheticals\": article.create_regex_tier(\"\\(.*?\\)\")})\n",
    "parentheticals = article.tiers[\"parentheticals\"]\n",
    "nonparen_geospans = geospans.subtract_overlaps(parentheticals)\n",
    "paren_geospans = geospans.subtract_overlaps(nonparen_geospans)"
   ]
  },
  {
   "cell_type": "code",
   "execution_count": 29,
   "metadata": {},
   "outputs": [
    {
     "data": {
      "text/plain": [
       "[(AnnoSpan(4364-4395, University of Wisconsin (WIS)), []),\n",
       " (AnnoSpan(5579-5610, University of Wisconsin (WIS)), []),\n",
       " (AnnoSpan(8775-8784, Largo), []),\n",
       " (AnnoSpan(10154-10162, Jamshīdī), []),\n",
       " (AnnoSpan(10718-10733, Monroe), []),\n",
       " (AnnoSpan(11024-11038, Logan), []),\n",
       " (AnnoSpan(11093-11105, Manassas), []),\n",
       " (AnnoSpan(11142-11154, Manassas), []),\n",
       " (AnnoSpan(11233-11249, Grand Island), []),\n",
       " (AnnoSpan(11841-11857, Grand Island), []),\n",
       " (AnnoSpan(12284-12296, San Jose), []),\n",
       " (AnnoSpan(12335-12346, Ashland), []),\n",
       " (AnnoSpan(12948-12959, Raleigh), []),\n",
       " (AnnoSpan(12978-12991, San Diego County), []),\n",
       " (AnnoSpan(13142-13160, Franklin Lakes), []),\n",
       " (AnnoSpan(13481-13492, Raleigh), []),\n",
       " (AnnoSpan(15064-15076, Portland), []),\n",
       " (AnnoSpan(15336-15340, Isfahan), []),\n",
       " (AnnoSpan(15631-15644, Billerica), []),\n",
       " (AnnoSpan(15789-15791, Wisconsin), []),\n",
       " (AnnoSpan(16142-16150, Spearman), []),\n",
       " (AnnoSpan(16336-16344, Spearman), []),\n",
       " (AnnoSpan(17827-17839, Newfoundland and Labrador), []),\n",
       " (AnnoSpan(27660-27665, Isfahan), []),\n",
       " (AnnoSpan(28012-28016, Isfahan), []),\n",
       " (AnnoSpan(28192-28196, Isfahan), []),\n",
       " (AnnoSpan(28623-28627, Isfahan), []),\n",
       " (AnnoSpan(28772-28776, Isfahan), []),\n",
       " (AnnoSpan(28848-28852, Isfahan), []),\n",
       " (AnnoSpan(29554-29558, Isfahan), []),\n",
       " (AnnoSpan(29804-29808, Isfahan), []),\n",
       " (AnnoSpan(31355-31359, Isfahan), []),\n",
       " (AnnoSpan(32209-32213, Isfahan), []),\n",
       " (AnnoSpan(33592-33596, Isfahan), []),\n",
       " (AnnoSpan(35679-35691, Newfoundland and Labrador), []),\n",
       " (AnnoSpan(40827-40831, Isfahan), []),\n",
       " (AnnoSpan(43442-43446, Isfahan), [])]"
      ]
     },
     "execution_count": 29,
     "metadata": {},
     "output_type": "execute_result"
    }
   ],
   "source": [
    "list(geospans.group_spans_by_containing_span(parentheticals))"
   ]
  },
  {
   "cell_type": "code",
   "execution_count": 151,
   "metadata": {},
   "outputs": [],
   "source": [
    "match = matches[1]"
   ]
  },
  {
   "cell_type": "code",
   "execution_count": 152,
   "metadata": {},
   "outputs": [
    {
     "data": {
      "text/plain": [
       "('',)"
      ]
     },
     "execution_count": 152,
     "metadata": {},
     "output_type": "execute_result"
    }
   ],
   "source": [
    "match.groups(0)"
   ]
  },
  {
   "cell_type": "code",
   "execution_count": 149,
   "metadata": {},
   "outputs": [
    {
     "data": {
      "text/plain": [
       "127"
      ]
     },
     "execution_count": 149,
     "metadata": {},
     "output_type": "execute_result"
    }
   ],
   "source": [
    "match.end()"
   ]
  },
  {
   "cell_type": "code",
   "execution_count": 160,
   "metadata": {},
   "outputs": [],
   "source": [
    "nonparen_tier = article.create_regex_tier(\"(<=\\(.*?\\)(.*?))\", label = \"non-parenthetical\")\n",
    "for span in nonparen_tier:\n",
    "    print(\"text: {}\".format(span.text))"
   ]
  },
  {
   "cell_type": "code",
   "execution_count": null,
   "metadata": {},
   "outputs": [],
   "source": []
  },
  {
   "cell_type": "code",
   "execution_count": 98,
   "metadata": {},
   "outputs": [
    {
     "name": "stdout",
     "output_type": "stream",
     "text": [
      "text: Mid-substance rupture of the canine cranial cruciate ligament (CrCL)\n",
      "text:  and associated stifle osteoarthritis (OA)\n",
      "text:  is an important veterinary health problem [1]. Cruciate ligament rupture (CR)\n",
      "text:  causes stifle joint instability and is not typically associated with contact trauma. Contralateral CR often develops, suggesting that the disease is a complex trait in which both genetic and environmental factors may increase risk of CR [1]. The dog is an important model for human anterior cruciate ligament (ACL)\n",
      "text: Intrinsic healing of the CrCL/ACL is a research focus in veterinary and human medicine. Mesenchymal stem cells (also commonly known as mesenchymal stromal cells, MSCs)\n",
      "text:  are multipotent adult progenitor cells that reside in virtually all tissues, including bone marrow (BM)\n",
      "text: The early phase of the CrCL rupture mechanism, in which damage to CrCL matrix leads to partial CR in a stable stifle is not understood. Also, little is known about intrinsic healing of partial CR. In dogs, stifle osteoarthritis (OA)\n",
      "text: All procedures were performed in accordance with the recommendations in the Guide for the Care and Use of Laboratory Animals of the National Institutes of Health and the American Veterinary Medical Association, and with specific approval from the Animal Care & Use committee of the School of Veterinary Medicine, University of Wisconsin-Madison (V1070)\n",
      "text: The study design is illustrated in Fig 1. After ex vivo culture expansion of MSCs from an autologous BM aspirate that was collected during tibial plateau leveling osteotomy (TPLO)\n",
      "text:  treatment of the index stifle with CR, BM-MSCs were administered by intravenous injection and intra-articular injection into the contralateral stifle with partial CR. Bilateral stifle radiographs, and blood and bilateral stifle synovial fluid samples were collected at diagnosis and study entry, and 8 weeks after BM-MSC injection. A blood sample was also collected at 4 weeks after BM-MSC injection. Circulating T lymphocyte subsets were analyzed by flow cytometry at each visit after isolation of peripheral blood mononuclear cells (PBMCs)\n",
      "text: . C-reactive protein (CRP)\n",
      "text:  and cytokine concentrations in serum and synovial fluid were determined by ELISA. Total nucleated cell count (TNCC)\n",
      "text: Initially, weight-bearing latero-medial stifle radiographs were made bilaterally to determine the functional length of the CrCL under load [28]. Orthogonal cranio-caudal and medio-lateral radiographic views of the stifle were subsequently obtained bilaterally under sedation. Synovial effusion and osteophytosis were used to evaluate the severity of stifle OA [1]. These criteria were selected based on high reproducibility [29]. The most important early radiographic sign of stifle OA in dogs with CR is development of synovial effusion and associated compression of the infrapatellar fat pad [1,16]. Synovial effusion and osteophytosis were graded subjectively on a scale from 0–2 (0—normal, 1—mild, 2—severe)\n",
      "text:  [1]. Both cranial and caudal stifle joint spaces were examined in this assessment. Cranially, the extent of effusion and the shape of the infrapatellar fat pad were considered. Caudal bulging of the joint capsule was also evaluated during grading. Osteophytosis was graded subjectively on a scale from 0–3 (0—normal, 1—mild, 2—moderate, 3—severe)\n",
      "text:  based on the severity of osteophytosis at the margins of the stifle joint [1]. In addition, the tibial plateau angle (TPA)\n",
      "text:  was calculated from the lateral radiographic views of the index and contralateral tibias with the stifle and tarsus held in ninety degrees of flexion. The functional length of the CrCL (mm)\n",
      "text:  (CrCL_d)\n",
      "text:  was determined from the distance between the femoral and tibial attachments on weight-bearing lateral radiographs [28]. CrCL_d was normalized to body size using the length of the patella. Radiographic scoring was performed by a single observer (PM)\n",
      "text: Before TPLO treatment, a medial parapatellar mini-arthrotomy was made in the index stifle with CR. The joint was examined using a 2.7 or 2.9 mm 30° rigid arthroscope (Linvatec, Largo, FL)\n",
      "text:  placed in the mini-arthrotomy incision. Stifle joint regions (lateral and medial pouches, lateral and medial femoro-tibial joint compartments, the intercondylar notch, and the femoro-patellar joint)\n",
      "text:  were examined arthroscopically [11]. Severity of synovitis and cruciate ligament damage was graded arthroscopically using a standardized scoring system [11]. Three parameters describing macroscopic inflammation were evaluated for each joint region: Synovial hypertrophy, vascularity, and synovitis [11]. Additionally, global synovitis severity was scored using a visual analog scale (VAS)\n",
      "text:  (0–100)\n",
      "text:  for each stifle joint, with 0 representing no inflammation, and 100 signifying the most severe inflammation [11]. The CrCL and the caudal cruciate ligament (CdCL)\n",
      "text: During TPLO treatment, femoral BM aspirates were collected using a 13g Jamshidi needle that was placed into the distal femoral metaphysis through the proximal end of the mini-arthrotomy incision. Physiologic saline (20ml 0.9% NaCl containing 20IU/ml of heparin)\n",
      "text: BM aspirates were maintained at room temperature overnight and then processed for culturing the next day. Mononuclear cells were isolated by Leucosep tubes (Greiner Bio-one, Monroe, NC, USA)\n",
      "text:  according to the manufacturer’s protocol. Red blood cells (RBC)\n",
      "text:  were lysed with incubation for 3 minutes in RBC lysis buffer and mononuclear cells were suspended in alpha minimum essential media (α-MEM, Mediatech Inc., Nanassas, VA)\n",
      "text:  supplemented with 10% fetal bovine serum (FBS- Hyclone, Logan, UT, USA)\n",
      "text: , 1X non-essential amino acids (NEAA, Mediatech Inc., Manassas, VA)\n",
      "text: , 4 mM L-glutamine (Mediatech Inc., Manassas, VA)\n",
      "text: , and 100U/mL penicillin, 0.01 mg/mL streptomycin sulfate (Life Technologies, Grand Island. NY)\n",
      "text: Systemic and local injections of BM-MSCs were performed as soon as sufficient numbers of cells were available. Plated BM-MSC cells were detached from culture flasks with trypLE (Life Technologies, Grand Island. NY)\n",
      "text: A BD FACS Calibur flow cytometer (BD Biosciences, San Jose, CA)\n",
      "text:  and FlowJo software (Tree Star Inc., Ashland, OR)\n",
      "text:  were used for these analyses. Fluorochrome-labeled antibodies for anti-canine CD34, CD44, CD45, CD29, and CD90 were used for cell surface marker analysis of cultured bone marrow cells. Cultured cells were fixed in 2% paraformaldehyde in PBS pH 7.4 and stored protected from light at 2–8°C for flow cytometry analysis. Histogram plots were examined for mononuclear cell populations of interest to confirm that cultured cells were BM-MSCs: CD44 (YKIX337.8.7)\n",
      "text: , CD90 (YKIX337.217)\n",
      "text:  and CD29 (TS2/16)\n",
      "text:  positive and CD34 (clone 1H6)\n",
      "text:  and CD45 (clone YKIX716.13)\n",
      "text:  negative (CD44, CD90, CD34, CD45, Abd Serotec, Raleigh, NC; CD29, Biolegend, San Diego, CA)\n",
      "text: For analysis of circulating T lymphocyte subsets, PBMCs were isolated using cell separation tubes (BD Vacutainer^TM CPT^TM, Becton Dickinson, Franklin Lakes, NJ)\n",
      "text:  from blood samples. The volume of blood collected was recorded to allow absolute quantification of cell subsets. PBMC were prepared for flow cytometry [12], and stained with fluorochrome-labeled monoclonal antibodies for anti-canine CD3 (clone CA17.2A12)\n",
      "text: , CD4 (clone YK1X302.9)\n",
      "text: , and CD8 (clone YCATE55.9)\n",
      "text:  (Abd Serotec, Raleigh, NC)\n",
      "text: Direct smears of synovial fluid were stained with Wright-Giemsa stain. Quality control for direct smears was as described [27]. Manual counting of synovial cells on each smear was performed using a validated method for TNCC estimation [27]. All nucleated cells in a field were counted, including those with pyknotic and karyorrhectic nuclei, cells forming groups, and naked nuclei. A cell was considered within the counting field if at least half the cell was within the microscopic field. Nucleated cells in fifteen 400x fields were counted and the mean number of nucleated cells per 400x field was determined. After correction for the dimensions of the 400x field area, TNCC was then estimated using the regression formula (y = 0.45x-0.36)\n",
      "text: CRP is a marker of inflammation that is typically elevated in dogs with inflammatory arthritis and falls in response to anti-inflammatory therapy [33,34]. Serum and synovial CRP was measured using a canine-specific ELISA (ICL Inc., Portland, OR)\n",
      "text: Serum and synovial fluid cytokine concentrations were measured for a panel of 13 cytokines (Granulocyte macrophage colony-stimulating factor GM-CSF, interferon gamma IFNγ, chemokine [C-X-C motif] ligand 1 CXCL1, CXCL8, CXCL10, chemokine [C-C motif] ligand 2 CCL2, interleukin 2 IL-2, IL-6, IL-7, IL-10, IL-15, IL-18, tumor necrosis factor alpha TNFα)\n",
      "text: , using a canine-specific magnetic bead assay (Milliplex MAP Canine Cytokine Panel, EMD Millipore Corporation, Billerica, MA)\n",
      "text: . The assay was performed according to the manufacturer’s instructions using a Luminex MAGPIX with XPONENT software ver. 4.2 (Luminex, Madison, WI)\n",
      "text: Data were reported as mean±standard error or median (range)\n",
      "text:  as appropriate. The Shapiro-Wilk’s test was used to determine if data approximated a normal distribution. The Wilcoxon signed rank test or the Friedman test was used to determine whether outcome variables were significantly influenced by treatment. The Pearson or Spearman Rank correlation tests were used to determine whether T lymphocyte subsets were related to radiographic severity of synovial effusion or OA on radiographic views made at diagnosis. The Spearman Rank correlation test was used to determine whether dependent variables at diagnosis were correlated with development of a second CR. A one-tail test was used for analysis of radiographic and CRP data, as it has been shown that development of CR is positively correlated with radiographic severity score and elevated CRP values [1,33]. Results were considered significant at P<0.05. Correlation and Bayesian network (BN)\n",
      "text:  plots were also drawn using R version 3.1.3 (http://www.r-project.org)\n",
      "text:  to examine the interrelationship and changes in the pattern of the network of inflammatory biomarkers before and after BM-MSC injection [35]. The Markov blanket of the outcome variable (i.e. BM-MSC injection treatment)\n",
      "text: Summary data are presented in Table 1. There was 1 male, three castrated males, and 7 ovariohysterectomized females. Breeds were Saint Bernard (n = 2)\n",
      "text: , American Pit Bull Terrier (n = 2)\n",
      "text: , mixed breed (n = 2)\n",
      "text: , and one dog of each of the following breeds: Labrador Retriever, Golden Retriever, English Springer Spaniel, Rottweiler, Newfoundland, Mastiff. Left (n = 6)\n",
      "text:  and right (n = 6)\n",
      "text:  complete CR were identified. One dog was lost to follow-up at 8 weeks, although the owner reported that the dog was doing well. In one dog (#12)\n",
      "text: , very mild cranial drawer (Grade II sprain)\n",
      "text: Dog age (years)\n",
      "text: Body weight (kg)\n",
      "text: 4 week recheck (days)\n",
      "text: 8 week recheck (days)\n",
      "text: No complications were detected clinically with BM aspiration or BM-MSC injections. Treatment was performed at passage 2 (n = 7)\n",
      "text: , 3 (n = 2)\n",
      "text: , 4 (n = 1)\n",
      "text: , and 5 (n = 2)\n",
      "text: . The time from BM aspiration to BM-MSC injection was 47±10.3 days (range 19, 139)\n",
      "text: . BM-MSCs were CD29^+, CD44^+, CD90^+, and CD34^- and C45^-, confirming the MSC phenotype (Fig 2)\n",
      "text: 10.1371/journal.pone.0159095.g002Fig 2 The phenotype of cultured bone marrow-derived mesenchymal stem cells (BM-MSCs)\n",
      "text: At diagnosis, synovial effusion (P<0.05)\n",
      "text:  and osteophytosis (P = 0.01)\n",
      "text:  were increased in the complete CR stifle, compared with the contralateral partial CR stifle (Table 2, Fig 3)\n",
      "text: . There were no significant changes in effusion or osteophytosis after BM-MSC injection. At diagnosis, CrCL_d was increased in the complete CR stifle, compared with the contralateral stifle (P<0.005)\n",
      "text: . CrCL_d was lower in the TPLO-treated stifle at 8 weeks (P = 0.06)\n",
      "text: 10.1371/journal.pone.0159095.g003Fig 3 Radiographic synovial effusion and osteophytosis in dogs with unilateral complete cruciate ligament rupture and contralateral partial cruciate ligament rupture.Orthogonal stifle radiographic views of the unstable stifle with complete cruciate ligament rupture (CR)\n",
      "text:  (A,B)\n",
      "text:  and the contralateral stable stifle with partial CR (C,D)\n",
      "text:  in a four old mixed breed dog at trial entry. Synovial effusion with compression of the infrapatellar fat pat and caudal bulging of the joint capsule is evident in both stifles. Peri-articular osteophytosis is present in both stifles and is particularly evident on the distal pole of the patella, the trochlea ridges of the distal femur, and the margins of the tibial plateau. Osteophytosis is more severe in the stifle with complete CR in this dog. Overall, at diagnosis and trial entry, stifle synovial effusion (P<0.05)\n",
      "text:  and osteophytosis (P = 0.01)\n",
      "text:  were increased in the unstable stifle with complete cruciate ligament rupture (CR)\n",
      "text: Synovial effusion severity score\t1.5 (1, 2)\n",
      "text: \t2 (1, 2)\n",
      "text: \t2 (2, 2)\n",
      "text: a\t2 (1, 2)\n",
      "text: Osteophytosis severity score\t1 (1, 3)\n",
      "text: 1 (1, 3)\n",
      "text: \t2 (1, 3)\n",
      "text: b\t2 (2, 3)\n",
      "text: CrCLd (mm)\n",
      "text: Absolute numbers of the CD4^+, CD8^+, CD4^-CD8^- and CD4^+CD8^+ T lymphocyte subsets in the peripheral circulation at 4 and 8 weeks after BM-MSC treatment were not significantly changed (Table 3)\n",
      "text: . Numbers of circulating CD4^+ and CD4^-CD8^- T lymphocyte subsets were generally lower at 4 weeks and similar to baseline at 8 weeks. The proportion of CD8^+ T lymphocytes was lower at 8 weeks, compared with diagnosis (P = 0.06)\n",
      "text: . Median counts were lower at 4 and 8 weeks after treatment, when compared with diagnosis. Several individual dogs (#1, #4, #10, #12)\n",
      "text:  with high counts for CD3^+, CD4^+, CD8^+, and CD4^-CD8^- T cell subsets showed suppression of T cell subset numbers at 4 and 8 weeks after BM-MSC treatment (S1 and S2 Tables)\n",
      "text: . Dogs #4 and #10 developed contralateral CR. Other individual dogs (#3, #6, #9)\n",
      "text:  showed elevation in CD3^+, CD4^+, CD8^+, and CD4^-CD8^- T cell subset numbers at 4 and 8 weeks after BM-MSC treatment, when compared with diagnosis (S1 and S2 Tables)\n",
      "text: CD3+\tAbsolute count\t0.051 (0.001, 0.357)\n",
      "text: \t0.007 (0.000, 0.898)\n",
      "text: \t0.044 (0.000, 0.172)\n",
      "text: CD3+\tProportional count\t0.81 (0.63, 0.94)\n",
      "text: \t0.765 (0.65, 0.92)\n",
      "text: \t0.80 (0.50, 0.85)\n",
      "text: CD4+\tAbsolute count\t0.023 (0.001, 0.171)\n",
      "text: \t0.004 (0.000, 0.614)\n",
      "text: \t0.026 (0.000, 0.114)\n",
      "text: CD4+\tProportional count\t0.415 (0.20, 0.59)\n",
      "text: \t0.44 (0.32, 0.66)\n",
      "text: \t0.48 (0.25, 0.53)\n",
      "text: CD8+\tAbsolute count\t0.011 (0.000, 0.110)\n",
      "text: \t0.002 (0.000, 0.189)\n",
      "text: \t0.008 (0.000, 0.058)\n",
      "text: CD8+\tProportional count\t0.18 (0.10, 0.57)\n",
      "text: \t0.16 (0.10, 0.43)\n",
      "text: \ta0.15 (0.09, 0.33)\n",
      "text: CD4-CD8-\tAbsolute count\t0.031 (0.001, 0.099)\n",
      "text: \t0.004 (0.000, 0.378)\n",
      "text: \t0.023 (0.000, 0.069)\n",
      "text: CD4-CD8-\tProportional count\t0.365 (0.25, 0.63)\n",
      "text: \t0.375 (0.23, 0.54)\n",
      "text: \t0.38 (0.29, 0.64)\n",
      "text: CD4+CD8+\tAbsolute count\t0.000 (0.000, 0.005)\n",
      "text: \t0.000 (0.000, 0.001)\n",
      "text: \t0.000 (0.000, 0.012)\n",
      "text: CD4+CD8+\tProportional count\t0.00 (0.00, 0.00)\n",
      "text: \t0.00 (0.00, 0.14)\n",
      "text: \t0.00 (0.00, 0.07)\n",
      "text: There were no significant changes in synovial fluid TNCC at eight weeks after BM-MSC treatment in either stifle. In partial CR stifles, TNCC was 0.54 (0.00,11.45)\n",
      "text:  and 0.66 (0, 2.87)\n",
      "text:  x1000/μL at diagnosis and 8 weeks after BM-MSC injection respectively. In the CR stifle, TNCC was 0.06 (0.00, 4.30)\n",
      "text:  and 0.84 (0.00, 30.09)\n",
      "text: Serum CRP at diagnosis, 4, and 8 weeks after BM-MSC injection was 4015 (955, 94978)\n",
      "text: , 747 (460, 5594)\n",
      "text: , and 1632 (445, 12142)\n",
      "text:  μg/L respectively (Fig 4)\n",
      "text: . Serum CRP was decreased at 4 weeks, compared with diagnosis (P<0.01)\n",
      "text: . Synovial CRP in partial CR stifle at diagnosis and 8 weeks after BM-MSC injection was 452 (131, 9815)\n",
      "text:  and 341 (66, 1713)\n",
      "text:  μg/L (Fig 4)\n",
      "text: . Synovial CRP in complete CR stifles at diagnosis and 8 weeks after BM-MSC injection was 586 (235, 15265)\n",
      "text:  and 303 (63, 1338)\n",
      "text:  μg/L, a significant reduction (P<0.01)\n",
      "text: . At diagnosis, synovial CRP and synovial/serum CRP ratio in the complete CR stifle were increased, when compared with the contralateral partial CR stifle (P<0.05)\n",
      "text:  (Fig 4)\n",
      "text: . Synovial/serum ratio was used to assess synovial inflammation relative to background systemic inflammation. In dogs that developed a second CR, synovial fluid/serum CRP ratio was elevated in the partial CR stifle at diagnosis. At 8 weeks, synovial/serum CRP ratio was higher than at diagnosis in partial CR stifles that did not experience a second CR (Fig 5)\n",
      "text: 10.1371/journal.pone.0159095.g004Fig 4 Effect of autologous bone marrow-derived mesenchymal stem cell (BM-MSC)\n",
      "text:  treatment on serum and stifle synovial fluid C-reactive protein (CRP)\n",
      "text:  in dogs with cruciate ligament rupture (CR)\n",
      "text: .(A)\n",
      "text:  Median serum CRP concentration was significantly decreased at 4 weeks after MSC treatment, compared with diagnosis. Median serum CRP was also lower at 8 weeks, compared with diagnosis. (B)\n",
      "text:  At diagnosis, CRP concentrations in synovial fluid were increased in the unstable stifle with CR (Ruptured)\n",
      "text: , compared with the stable contralateral stifle with partial CR (Partial)\n",
      "text: . In the unstable CR stifle and the stable partial CR stifle, median synovial fluid CRP was lower at 8 weeks, compared with diagnosis. This change was significant for the unstable stifle (P<0.05)\n",
      "text: . (C)\n",
      "text: 10.1371/journal.pone.0159095.g005Fig 5 Synovial fluid/serum C-reactive protein (CRP)\n",
      "text:  ratio in stifle joints of dogs with stable partial cruciate ligament rupture (CR)\n",
      "text:  before and after treatment with bone marrow-derived mesenchymal stem cell treatment.At diagnosis, synovial fluid/serum CRP ratio was elevated in the partial CR stifles of dogs that developed a second CR (n = 3)\n",
      "text:  within the study period, when compared with the dogs that did not develop a second CR (n = 8)\n",
      "text: Serum CXCL8 was increased at 8 weeks 1841 (408, 4392)\n",
      "text:  ng/L, compared with diagnosis 1040 (0, 5534)\n",
      "text:  ng/L (P<0.05)\n",
      "text: . Serum CXCL8 was also higher at 4 weeks 2388 (344, 4287)\n",
      "text:  ng/L, when compared with diagnosis (P = 0.08)\n",
      "text:  (Fig 6)\n",
      "text: . Synovial CXCL8 was similar at diagnosis and at 8 weeks in both stifles (Fig 6)\n",
      "text: 10.1371/journal.pone.0159095.g006Fig 6 Effect of autologous bone marrow-derived mesenchymal stem cell (BM-MSC)\n",
      "text:  treatment on serum and stifle synovial fluid chemokine [C-X-C motif] ligand 8 (CXCL8)\n",
      "text:  and stifle synovial fluid interferon gamma (IFN-γ)\n",
      "text:  and interleukin 6 (IL-6)\n",
      "text: .(A)\n",
      "text:  Median serum CXCL8 concentration was significantly increased at 8 weeks after MSC treatment, compared with diagnosis. Median serum CXCL8 was also higher at 4 weeks, compared with diagnosis. (B)\n",
      "text:  Synovial CXCL8 concentrations were similar at diagnosis and at 8 weeks in both stifles. (C)\n",
      "text:  Suppression of synovial fluid IFNγ was evident in both stifles after intra-articular and intravenous injection of BM-MSCs, particularly the partial cruciate rupture stifle that was injected with BM-MSCs. Serum IFNγ was not significantly influenced by treatment. (D)\n",
      "text: Serum CXCL1, CCL2, GM-CSF, IFNγ, IL-6, IL-10, IL-15, and IL-18 were not significantly altered by BM-MSC injection. Median concentrations were similar at each time point. Serum IFNγ was detected in three dogs at diagnosis (143.5, 42.3, and 261.0 ng/L)\n",
      "text: . IFNγ was not detected in any dogs at 4 weeks and was detected in 2 dogs at 8 weeks. Serum IL-6 was detected in three dogs at diagnosis, 1 dog at 4 weeks and 2 dogs at 8 weeks. Serum IL-10 was detected in 4 dogs at diagnosis (84.7, 12.8, 193, and 124.9 ng/L)\n",
      "text: , but was not detected in any dog at 4 weeks and was detected in 3 dogs at 8 weeks. Median serum IL-18 was lower at 4 (7.4 ng/L)\n",
      "text:  and 8 weeks (7.4 ng/L)\n",
      "text: , when compared with diagnosis (10.7 ng/L)\n",
      "text: , but this difference was not significant. Synovial CXCL1, CCL2, GM-CSF, IL-15, IL-10, and IL-18 were not significantly influenced by BM-MSC injection over the study period and median concentrations were similar at each time point. Suppression of synovial IFNγ from 14.7 (0, 83.8)\n",
      "text:  to 0.8 (0, 274)\n",
      "text:  ng/L was evident after BM-MSC injection in the partial CR stifle (Fig 6)\n",
      "text: . Synovial IL-6 concentrations were higher in the partial CR stifle, compared with the unstable stifle (Fig 6)\n",
      "text: . Similar to the effect on IFNγ, suppression of synovial IL-6 from 87.5 (0, 1871)\n",
      "text:  to 7.05 (0, 1160)\n",
      "text:  ng/L in the complete CR stifle and 193.9 (0, 500)\n",
      "text:  to 132.0 (0, 1582)\n",
      "text:  ng/L in the partial CR stifle was seen with BM-MSC injection (Fig 6)\n",
      "text: IL-2 was not detected in serum or synovial fluid from the CR stifle. In the partial CR stifle, IL-2 was detected in 1 dog at both time points and 1 dog at diagnosis. IL-7 was detected in the serum of one dog at diagnosis, 4 and 8 weeks after BM-MSC injection (465, 403, and 408 ng/L, respectively)\n",
      "text: In the 3 dogs that developed a second CR, serum CXCL8 was higher at 4 and 8 weeks, compared with diagnosis. Serum CCL2 was higher at 8 weeks, compared with diagnosis in two of these dogs. Serum GM-CSF (82.3 ng/L)\n",
      "text: , IFNγ (284.7 ng/L)\n",
      "text: , IL-10 (89.9 ng/L)\n",
      "text: Correlation and network analysis of CRP and cytokine concentrations was performed to evaluate changes in the pattern of markers before and after BM-MSC injection. In serum, correlation of inflammatory markers before and after BM-MSC treatment were similar. However, strong positive correlations between CXCL1, CXCL8, and CCL2 and CRP became much weaker after BM-MSC injection. The weak correlation between IL-7 and CRP became much stronger after BM-MSC injection (Fig 7)\n",
      "text: . BN representation of serum cytokine data showed that serum CRP was influenced by IL-7 and IL-10 as well BM-MSC injection. CXCL8 and IL-18 were also influenced by BM-MSC injection and IL-18 in turn influenced IFNγ (Fig 8)\n",
      "text: 10.1371/journal.pone.0159095.g007Fig 7 Correlation plots of the panel of inflammatory biomarkers in serum and synovial fluid before and after autologous bone marrow-derived mesenchymal stem cell (BM-MSC)\n",
      "text:  injection.(A,B)\n",
      "text:  In serum, strong positive correlations between CXCL1, CXCL8, and CCL2 and CRP became much weaker after BM-MSC injection. The weak correlation between IL-7 and CRP became much stronger after BM-MSC injection. (C,D)\n",
      "text:  In synovial fluid from the complete CR stifle, correlation of CCL2 and TNFα with other cytokines was strengthened after BM-MSC injection. The strong correlation between CRP and IL-10 became much weaker after BM-MSC injection. (EF)\n",
      "text: 10.1371/journal.pone.0159095.g008Fig 8 Bayesian networks derived from a panel of inflammatory biomarkers in serum and synovial fluid before and after autologous bone marrow-derived mesenchymal stem cell (BM-MSC)\n",
      "text:  injection.(A)\n",
      "text:  In serum, CRP was influenced by IL-7 and IL-10 as well BM-MSC injection. CXCL8 and IL-18 were also influenced by BM-MSC injection and in turn IL-18 influenced IFNγ concentrations. (B)\n",
      "text:  In synovial fluid in the complete CR stifle, there was a complex network in which CRP, CXCL1, GM-CSF, and IL-10 showed conditional dependencies with BM-MSC injection. Ultimately, TNFα concentrations were strongly influenced by several pro-inflammatory cytokines. (C)\n",
      "text:  In synovial fluid in the stable partial CR stifle, there was a much less complex network in which no strong dependencies on BM-MSC injection were identified. CRP, CCL2, CXCL8 and IL-10 were weakly influenced by BM-MSC injection. The orange node indicates the time-dependent effect of BM-MSC injection. The light blue colored nodes indicate the Markov blankets of the network that identify a subset of cytokines directly influenced by BM-MSC injection. Thicker arcs indicate higher connection strength between nodes (i.e. variables)\n",
      "text: In synovial fluid from the complete CR stifle, correlation of CCL2 and TNFα with other cytokines and of CXCL1 with several other cytokines was strengthened after BM-MSC injection. The strong correlation between CRP and IL-10 became much weaker after BM-MSC injection (Fig 7)\n",
      "text: . Averaged BN analysis identified a complex interaction in which CRP, CXCL1, GM-CSF, and IL-10 were influenced by BM-MSC injection. Ultimately, TNFα concentrations were strongly influenced by several pro-inflammatory cytokines (Fig 8)\n",
      "text: In synovial fluid from the partial CR stifle, a number of cytokines were weakly correlated before treatment. These correlations because much stronger after BM-MSC injection with the exception of CXCL1. Correlations between CRP and IL-6, IL-10, CXCL1 and CXCL8 became much weaker after BM-MSC injection (Fig 7)\n",
      "text: . The averaged BN analysis identified a much less complex network in which no strong dependencies on BM-MSC injection were identified. CRP, CCL2, CXCL8, and IL-10 were weakly influenced by BM-MSC injection (Fig 8)\n",
      "text: Three of 11 dogs (27%)\n",
      "text:  developed a second complete CR at 19, 82, and 144 days after diagnosis and trial entry (S3 Table, Figs 4 and 5)\n",
      "text: . Breeds of these dogs were a Newfoundland, an American Pit Bull Terrier, and a Golden Retriever. Severity of synovial effusion (S_R = 0.58, P<0.09)\n",
      "text:  in the partial CR stifle was correlated with development of a second CR. Synovial/serum CRP ratio at diagnosis in the stable partial CR stifle was also correlated with a second CR (S_R = 0.78, P<0.01)\n",
      "text: . TNCC in the stable partial CR stifle, synovitis severity in the complete CR stifle assessed arthroscopically, T lymphocyte numbers and proportions in the peripheral circulation, normalized CrCL_d in the partial CR stifle, and serum CRP at diagnosis were not correlated with second CR. Serum CCL2 (S_R = -0.64, P<0.05)\n",
      "text:  and serum IL-18 (S_R = -0.54, P = 0.095)\n",
      "text: BM-MSC injection also induced changes in serum and stifle synovial fluid cytokine concentrations. The increases in serum CXCL8 after BM-MSC injection were not associated with significant changes in synovial CXCL8, although higher synovial CXCL8 was found in the partial CR stifles after intra-articular injection of BM-MSCs. The correlation between serum CXCL8 and CRP became much weaker after BM-MSC injection. Changes in CXCL8 concentrations are likely a consequence of BM-MSC injection, as secretion of CXCL8 and related chemokines is a typical feature of cultured BM-MSCs [36]. In stifle synovial fluid, suppression of IFNγ and IL-6 was also evident after BM-MSC injection. These observations likely reflect the immune-modulatory effects of BM-MSCs on macrophages and T lymphocytes [49,51–54]. Correlation of synovial CCL2 with other cytokines in both stifles was enhanced after BM-MSC injection. Importantly, the pattern of correlation between synovial cytokines was strongly and positively enhanced by BM-MSC injection in the partial CR stifle, suggesting that the MSCs are acting on an upstream master regulator, such as a transcription factor, that influences the cytokine network within the stifle joint environment. At 8 weeks, stifle synovial/serum CRP ratio was higher than at diagnosis in dogs with partial CR that did not experience a second CR, suggesting that additional anti-inflammatory treatment may be needed to augment potential risk reduction second CR [49]. Enhancement of immunomodulation by MSCs could be accomplished in several ways [55–57]. For example, treatment with substance P during culturing of late passage cells could reduce senescence [55]. Use of a three-dimension spheroid culture method for MSCs enhances MSC production of prostaglandin E2 (PGE2)\n",
      "text: (XLS)\n",
      "text: (DOCX)\n",
      "text: (DOCX)\n",
      "text: Association of systemic and local biomarkers with development of a second cruciate ligament rupture (CR)\n",
      "text: (DOCX)\n",
      "text: Click here for additional data file.\n",
      "text: \n"
     ]
    }
   ],
   "source": [
    "nonparen_tier = article.create_regex_tier(\"(.*?)(?:\\(.*?\\)|$)\", label = \"non-parenthetical\")\n",
    "for span in nonparen_tier:\n",
    "    print(\"text: {}\".format(span.text))"
   ]
  },
  {
   "cell_type": "code",
   "execution_count": 81,
   "metadata": {},
   "outputs": [
    {
     "name": "stdout",
     "output_type": "stream",
     "text": [
      "ligament\n",
      "ligament\n",
      "ligament\n",
      "ligament\n",
      "ligament\n",
      "ligament\n",
      "ligament\n",
      "ligament\n",
      "ligament\n",
      "ligament\n",
      "ligament\n",
      "ligament\n",
      "ligament\n",
      "ligament\n",
      "ligament\n",
      "ligament\n",
      "ligament\n",
      "ligament\n",
      "ligament\n",
      "ligament\n"
     ]
    }
   ],
   "source": [
    "nonparen_tier = article.create_regex_tier(\"(?<!\\().*?(?![\\)])\", label = \"non-parenthetical\")\n",
    "for span in nonparen_tier:\n",
    "    print(\"{}\".format(span.text))"
   ]
  },
  {
   "cell_type": "code",
   "execution_count": 34,
   "metadata": {},
   "outputs": [
    {
     "ename": "NameError",
     "evalue": "name 'i' is not defined",
     "output_type": "error",
     "traceback": [
      "\u001b[0;31m---------------------------------------------------------------------------\u001b[0m",
      "\u001b[0;31mNameError\u001b[0m                                 Traceback (most recent call last)",
      "\u001b[0;32m<ipython-input-34-15c32e7d7551>\u001b[0m in \u001b[0;36m<module>\u001b[0;34m\u001b[0m\n\u001b[1;32m      1\u001b[0m articles.update_one(\n\u001b[0;32m----> 2\u001b[0;31m     \u001b[0mi\u001b[0m\u001b[0;34m,\u001b[0m\u001b[0;34m\u001b[0m\u001b[0;34m\u001b[0m\u001b[0m\n\u001b[0m\u001b[1;32m      3\u001b[0m     {\n\u001b[1;32m      4\u001b[0m         \"$set\": {\n\u001b[1;32m      5\u001b[0m             \u001b[0;34m\"article_meta.all_geospans\"\u001b[0m\u001b[0;34m:\u001b[0m \u001b[0mall_geospans\u001b[0m\u001b[0;34m,\u001b[0m\u001b[0;34m\u001b[0m\u001b[0;34m\u001b[0m\u001b[0m\n",
      "\u001b[0;31mNameError\u001b[0m: name 'i' is not defined"
     ]
    }
   ],
   "source": [
    "articles.update_one(\n",
    "    i,\n",
    "    {\n",
    "        \"$set\": {\n",
    "            \"article_meta.all_geospans\": all_geospans,\n",
    "            \"article_meta.n_geospans\": n_geospans,\n",
    "            \"article_meta.geospan_density\": geospan_density,\n",
    "        }\n",
    "    },\n",
    ")"
   ]
  },
  {
   "cell_type": "code",
   "execution_count": 20,
   "metadata": {},
   "outputs": [
    {
     "data": {
      "text/html": [
       "<div>\n",
       "<style scoped>\n",
       "    .dataframe tbody tr th:only-of-type {\n",
       "        vertical-align: middle;\n",
       "    }\n",
       "\n",
       "    .dataframe tbody tr th {\n",
       "        vertical-align: top;\n",
       "    }\n",
       "\n",
       "    .dataframe thead th {\n",
       "        text-align: right;\n",
       "    }\n",
       "</style>\n",
       "<table border=\"1\" class=\"dataframe\">\n",
       "  <thead>\n",
       "    <tr style=\"text-align: right;\">\n",
       "      <th></th>\n",
       "      <th>n_spans</th>\n",
       "      <th>n_spans_over90</th>\n",
       "      <th>text_matches</th>\n",
       "      <th>any_matches</th>\n",
       "    </tr>\n",
       "  </thead>\n",
       "  <tbody>\n",
       "    <tr>\n",
       "      <th>0</th>\n",
       "      <td>26</td>\n",
       "      <td>19</td>\n",
       "      <td>[study site]</td>\n",
       "      <td>True</td>\n",
       "    </tr>\n",
       "    <tr>\n",
       "      <th>1</th>\n",
       "      <td>2</td>\n",
       "      <td>1</td>\n",
       "      <td>None</td>\n",
       "      <td>False</td>\n",
       "    </tr>\n",
       "    <tr>\n",
       "      <th>2</th>\n",
       "      <td>0</td>\n",
       "      <td>0</td>\n",
       "      <td>None</td>\n",
       "      <td>False</td>\n",
       "    </tr>\n",
       "    <tr>\n",
       "      <th>3</th>\n",
       "      <td>4</td>\n",
       "      <td>0</td>\n",
       "      <td>None</td>\n",
       "      <td>False</td>\n",
       "    </tr>\n",
       "    <tr>\n",
       "      <th>4</th>\n",
       "      <td>10</td>\n",
       "      <td>6</td>\n",
       "      <td>None</td>\n",
       "      <td>False</td>\n",
       "    </tr>\n",
       "    <tr>\n",
       "      <th>5</th>\n",
       "      <td>0</td>\n",
       "      <td>0</td>\n",
       "      <td>None</td>\n",
       "      <td>False</td>\n",
       "    </tr>\n",
       "    <tr>\n",
       "      <th>6</th>\n",
       "      <td>10</td>\n",
       "      <td>4</td>\n",
       "      <td>None</td>\n",
       "      <td>False</td>\n",
       "    </tr>\n",
       "    <tr>\n",
       "      <th>7</th>\n",
       "      <td>30</td>\n",
       "      <td>19</td>\n",
       "      <td>None</td>\n",
       "      <td>False</td>\n",
       "    </tr>\n",
       "    <tr>\n",
       "      <th>8</th>\n",
       "      <td>1</td>\n",
       "      <td>0</td>\n",
       "      <td>None</td>\n",
       "      <td>False</td>\n",
       "    </tr>\n",
       "    <tr>\n",
       "      <th>9</th>\n",
       "      <td>5</td>\n",
       "      <td>2</td>\n",
       "      <td>None</td>\n",
       "      <td>False</td>\n",
       "    </tr>\n",
       "    <tr>\n",
       "      <th>10</th>\n",
       "      <td>68</td>\n",
       "      <td>41</td>\n",
       "      <td>None</td>\n",
       "      <td>False</td>\n",
       "    </tr>\n",
       "    <tr>\n",
       "      <th>11</th>\n",
       "      <td>16</td>\n",
       "      <td>12</td>\n",
       "      <td>None</td>\n",
       "      <td>False</td>\n",
       "    </tr>\n",
       "    <tr>\n",
       "      <th>12</th>\n",
       "      <td>8</td>\n",
       "      <td>1</td>\n",
       "      <td>None</td>\n",
       "      <td>False</td>\n",
       "    </tr>\n",
       "    <tr>\n",
       "      <th>13</th>\n",
       "      <td>12</td>\n",
       "      <td>1</td>\n",
       "      <td>None</td>\n",
       "      <td>False</td>\n",
       "    </tr>\n",
       "    <tr>\n",
       "      <th>14</th>\n",
       "      <td>8</td>\n",
       "      <td>0</td>\n",
       "      <td>None</td>\n",
       "      <td>False</td>\n",
       "    </tr>\n",
       "    <tr>\n",
       "      <th>15</th>\n",
       "      <td>2</td>\n",
       "      <td>1</td>\n",
       "      <td>None</td>\n",
       "      <td>False</td>\n",
       "    </tr>\n",
       "    <tr>\n",
       "      <th>16</th>\n",
       "      <td>7</td>\n",
       "      <td>1</td>\n",
       "      <td>None</td>\n",
       "      <td>False</td>\n",
       "    </tr>\n",
       "    <tr>\n",
       "      <th>17</th>\n",
       "      <td>0</td>\n",
       "      <td>0</td>\n",
       "      <td>None</td>\n",
       "      <td>False</td>\n",
       "    </tr>\n",
       "    <tr>\n",
       "      <th>18</th>\n",
       "      <td>3</td>\n",
       "      <td>0</td>\n",
       "      <td>None</td>\n",
       "      <td>False</td>\n",
       "    </tr>\n",
       "    <tr>\n",
       "      <th>19</th>\n",
       "      <td>12</td>\n",
       "      <td>5</td>\n",
       "      <td>None</td>\n",
       "      <td>False</td>\n",
       "    </tr>\n",
       "    <tr>\n",
       "      <th>20</th>\n",
       "      <td>4</td>\n",
       "      <td>0</td>\n",
       "      <td>None</td>\n",
       "      <td>False</td>\n",
       "    </tr>\n",
       "    <tr>\n",
       "      <th>21</th>\n",
       "      <td>1</td>\n",
       "      <td>0</td>\n",
       "      <td>None</td>\n",
       "      <td>False</td>\n",
       "    </tr>\n",
       "    <tr>\n",
       "      <th>22</th>\n",
       "      <td>0</td>\n",
       "      <td>0</td>\n",
       "      <td>None</td>\n",
       "      <td>False</td>\n",
       "    </tr>\n",
       "    <tr>\n",
       "      <th>23</th>\n",
       "      <td>0</td>\n",
       "      <td>0</td>\n",
       "      <td>None</td>\n",
       "      <td>False</td>\n",
       "    </tr>\n",
       "    <tr>\n",
       "      <th>24</th>\n",
       "      <td>9</td>\n",
       "      <td>1</td>\n",
       "      <td>None</td>\n",
       "      <td>False</td>\n",
       "    </tr>\n",
       "  </tbody>\n",
       "</table>\n",
       "</div>"
      ],
      "text/plain": [
       "    n_spans  n_spans_over90  text_matches  any_matches\n",
       "0        26              19  [study site]         True\n",
       "1         2               1          None        False\n",
       "2         0               0          None        False\n",
       "3         4               0          None        False\n",
       "4        10               6          None        False\n",
       "5         0               0          None        False\n",
       "6        10               4          None        False\n",
       "7        30              19          None        False\n",
       "8         1               0          None        False\n",
       "9         5               2          None        False\n",
       "10       68              41          None        False\n",
       "11       16              12          None        False\n",
       "12        8               1          None        False\n",
       "13       12               1          None        False\n",
       "14        8               0          None        False\n",
       "15        2               1          None        False\n",
       "16        7               1          None        False\n",
       "17        0               0          None        False\n",
       "18        3               0          None        False\n",
       "19       12               5          None        False\n",
       "20        4               0          None        False\n",
       "21        1               0          None        False\n",
       "22        0               0          None        False\n",
       "23        0               0          None        False\n",
       "24        9               1          None        False"
      ]
     },
     "execution_count": 20,
     "metadata": {},
     "output_type": "execute_result"
    }
   ],
   "source": [
    "df"
   ]
  },
  {
   "cell_type": "markdown",
   "metadata": {},
   "source": [
    "Sample specifically articles matching terms"
   ]
  },
  {
   "cell_type": "code",
   "execution_count": 71,
   "metadata": {},
   "outputs": [],
   "source": [
    "with open(\"terms\") as f:\n",
    "    terms = [line.strip() for line in f.readlines()]"
   ]
  },
  {
   "cell_type": "code",
   "execution_count": 29,
   "metadata": {},
   "outputs": [],
   "source": [
    "n = 250"
   ]
  },
  {
   "cell_type": "code",
   "execution_count": 32,
   "metadata": {},
   "outputs": [],
   "source": [
    "terms_cursor = articles.find({ \"text_matches\": { \"$in\": terms } }, limit = n)\n",
    "noterms_cursor = articles.find({ \"text_matches\": { \"$not\": {\"$in\": terms } } }, limit = n)\n",
    "sample = list(terms_cursor) + list(noterms_cursor)"
   ]
  },
  {
   "cell_type": "code",
   "execution_count": 33,
   "metadata": {},
   "outputs": [
    {
     "name": "stdout",
     "output_type": "stream",
     "text": [
      "\u001b[F\u001b[KProcessed 500 articles (100.0%) in 31m57s; about 0m0s left.\n"
     ]
    }
   ],
   "source": [
    "reporter = Reporter(5, len(sample))\n",
    "\n",
    "rows = []\n",
    "for idx, record in enumerate(sample):\n",
    "    row = {}\n",
    "    article = AnnoDoc(record[\"extracted_text\"]).add_tier(geoname_annotator)\n",
    "    geospans = article.tiers[\"geonames\"]\n",
    "    row[\"text_matches\"] = record.get(\"text_matches\")\n",
    "    row[\"n_spans\"] = len(geospans)\n",
    "    row[\"n_spans_over90\"] = sum([1 for span in geospans if span.metadata[\"geoname\"].score > 0.9])\n",
    "    rows.append(row)\n",
    "    reporter.report(idx)\n",
    "\n",
    "df = pd.DataFrame.from_records(rows)\n",
    "df[\"any_matches\"] = [False if row is None else True for row in df[\"text_matches\"]]"
   ]
  },
  {
   "cell_type": "code",
   "execution_count": 56,
   "metadata": {},
   "outputs": [],
   "source": [
    "df.to_csv(os.path.join(\"data\", \"geonames.csv\"))"
   ]
  },
  {
   "cell_type": "code",
   "execution_count": 57,
   "metadata": {},
   "outputs": [
    {
     "name": "stdout",
     "output_type": "stream",
     "text": [
      "           n_spans  n_spans_over90\n",
      "count   250.000000      250.000000\n",
      "mean     52.204000       19.236000\n",
      "std     168.625826       49.785608\n",
      "min       0.000000        0.000000\n",
      "25%      11.000000        3.000000\n",
      "50%      24.000000        8.000000\n",
      "75%      45.750000       20.000000\n",
      "max    2448.000000      680.000000\n"
     ]
    }
   ],
   "source": [
    "df.loc[df[\"any_matches\"]].describe()"
   ]
  },
  {
   "cell_type": "code",
   "execution_count": 58,
   "metadata": {},
   "outputs": [
    {
     "name": "stdout",
     "output_type": "stream",
     "text": [
      "          n_spans  n_spans_over90\n",
      "count  250.000000      250.000000\n",
      "mean    12.508000        5.088000\n",
      "std     17.606188        9.266267\n",
      "min      0.000000        0.000000\n",
      "25%      2.000000        0.000000\n",
      "50%      7.000000        1.000000\n",
      "75%     15.000000        5.000000\n",
      "max    107.000000       59.000000\n"
     ]
    }
   ],
   "source": [
    "df.loc[~df[\"any_matches\"]].describe()"
   ]
  }
 ],
 "metadata": {
  "kernelspec": {
   "display_name": "Python 3",
   "language": "python",
   "name": "python3"
  },
  "language_info": {
   "codemirror_mode": {
    "name": "ipython",
    "version": 3
   },
   "file_extension": ".py",
   "mimetype": "text/x-python",
   "name": "python",
   "nbconvert_exporter": "python",
   "pygments_lexer": "ipython3",
   "version": "3.7.3"
  }
 },
 "nbformat": 4,
 "nbformat_minor": 2
}
