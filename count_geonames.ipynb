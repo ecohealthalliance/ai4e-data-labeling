{
 "cells": [
  {
   "cell_type": "code",
   "execution_count": 2,
   "metadata": {},
   "outputs": [
    {
     "name": "stdout",
     "output_type": "stream",
     "text": [
      "The autoreload extension is already loaded. To reload it, use:\n",
      "  %reload_ext autoreload\n"
     ]
    }
   ],
   "source": [
    "%load_ext autoreload\n",
    "%autoreload 2"
   ]
  },
  {
   "cell_type": "code",
   "execution_count": 8,
   "metadata": {},
   "outputs": [],
   "source": [
    "import os\n",
    "import pymongo\n",
    "\n",
    "import pandas as pd\n",
    "import numpy as np\n",
    "\n",
    "from pubcrawler.article import Article\n",
    "from epitator.annodoc import AnnoDoc\n",
    "from epitator.geoname_annotator import GeonameAnnotator\n",
    "\n",
    "from reporter import Reporter\n",
    "\n",
    "client = pymongo.MongoClient(\"localhost\", 27017)\n",
    "articles = client.pmc.articles\n",
    "\n",
    "geoname_annotator = GeonameAnnotator()"
   ]
  },
  {
   "cell_type": "markdown",
   "metadata": {},
   "source": [
    "Find one article and count geonames"
   ]
  },
  {
   "cell_type": "code",
   "execution_count": 19,
   "metadata": {},
   "outputs": [
    {
     "name": "stdout",
     "output_type": "stream",
     "text": [
      "\u001b[F\u001b[KProcessed 25 articles (100.0%) in 1m27s; about 0m0s left.\n"
     ]
    }
   ],
   "source": [
    "n = 25\n",
    "\n",
    "cursor = articles.find({}, limit = n)\n",
    "reporter = Reporter(5, n)\n",
    "\n",
    "rows = []\n",
    "for idx, record in enumerate(cursor):\n",
    "    row = {}\n",
    "    article = AnnoDoc(record[\"extracted_text\"]).add_tier(geoname_annotator)\n",
    "    geospans = article.tiers[\"geonames\"]\n",
    "    row[\"text_matches\"] = record.get(\"text_matches\")\n",
    "    row[\"n_spans\"] = len(geospans)\n",
    "    row[\"n_spans_over90\"] = sum([1 for span in geospans if span.metadata[\"geoname\"].score > 0.9])\n",
    "    rows.append(row)\n",
    "    reporter.report(idx)\n",
    "\n",
    "df = pd.DataFrame.from_records(rows)\n",
    "df[\"any_matches\"] = [False if row is None else True for row in df[\"text_matches\"]]"
   ]
  },
  {
   "cell_type": "code",
   "execution_count": 20,
   "metadata": {},
   "outputs": [
    {
     "data": {
      "text/html": [
       "<div>\n",
       "<style scoped>\n",
       "    .dataframe tbody tr th:only-of-type {\n",
       "        vertical-align: middle;\n",
       "    }\n",
       "\n",
       "    .dataframe tbody tr th {\n",
       "        vertical-align: top;\n",
       "    }\n",
       "\n",
       "    .dataframe thead th {\n",
       "        text-align: right;\n",
       "    }\n",
       "</style>\n",
       "<table border=\"1\" class=\"dataframe\">\n",
       "  <thead>\n",
       "    <tr style=\"text-align: right;\">\n",
       "      <th></th>\n",
       "      <th>n_spans</th>\n",
       "      <th>n_spans_over90</th>\n",
       "      <th>text_matches</th>\n",
       "      <th>any_matches</th>\n",
       "    </tr>\n",
       "  </thead>\n",
       "  <tbody>\n",
       "    <tr>\n",
       "      <th>0</th>\n",
       "      <td>26</td>\n",
       "      <td>19</td>\n",
       "      <td>[study site]</td>\n",
       "      <td>True</td>\n",
       "    </tr>\n",
       "    <tr>\n",
       "      <th>1</th>\n",
       "      <td>2</td>\n",
       "      <td>1</td>\n",
       "      <td>None</td>\n",
       "      <td>False</td>\n",
       "    </tr>\n",
       "    <tr>\n",
       "      <th>2</th>\n",
       "      <td>0</td>\n",
       "      <td>0</td>\n",
       "      <td>None</td>\n",
       "      <td>False</td>\n",
       "    </tr>\n",
       "    <tr>\n",
       "      <th>3</th>\n",
       "      <td>4</td>\n",
       "      <td>0</td>\n",
       "      <td>None</td>\n",
       "      <td>False</td>\n",
       "    </tr>\n",
       "    <tr>\n",
       "      <th>4</th>\n",
       "      <td>10</td>\n",
       "      <td>6</td>\n",
       "      <td>None</td>\n",
       "      <td>False</td>\n",
       "    </tr>\n",
       "    <tr>\n",
       "      <th>5</th>\n",
       "      <td>0</td>\n",
       "      <td>0</td>\n",
       "      <td>None</td>\n",
       "      <td>False</td>\n",
       "    </tr>\n",
       "    <tr>\n",
       "      <th>6</th>\n",
       "      <td>10</td>\n",
       "      <td>4</td>\n",
       "      <td>None</td>\n",
       "      <td>False</td>\n",
       "    </tr>\n",
       "    <tr>\n",
       "      <th>7</th>\n",
       "      <td>30</td>\n",
       "      <td>19</td>\n",
       "      <td>None</td>\n",
       "      <td>False</td>\n",
       "    </tr>\n",
       "    <tr>\n",
       "      <th>8</th>\n",
       "      <td>1</td>\n",
       "      <td>0</td>\n",
       "      <td>None</td>\n",
       "      <td>False</td>\n",
       "    </tr>\n",
       "    <tr>\n",
       "      <th>9</th>\n",
       "      <td>5</td>\n",
       "      <td>2</td>\n",
       "      <td>None</td>\n",
       "      <td>False</td>\n",
       "    </tr>\n",
       "    <tr>\n",
       "      <th>10</th>\n",
       "      <td>68</td>\n",
       "      <td>41</td>\n",
       "      <td>None</td>\n",
       "      <td>False</td>\n",
       "    </tr>\n",
       "    <tr>\n",
       "      <th>11</th>\n",
       "      <td>16</td>\n",
       "      <td>12</td>\n",
       "      <td>None</td>\n",
       "      <td>False</td>\n",
       "    </tr>\n",
       "    <tr>\n",
       "      <th>12</th>\n",
       "      <td>8</td>\n",
       "      <td>1</td>\n",
       "      <td>None</td>\n",
       "      <td>False</td>\n",
       "    </tr>\n",
       "    <tr>\n",
       "      <th>13</th>\n",
       "      <td>12</td>\n",
       "      <td>1</td>\n",
       "      <td>None</td>\n",
       "      <td>False</td>\n",
       "    </tr>\n",
       "    <tr>\n",
       "      <th>14</th>\n",
       "      <td>8</td>\n",
       "      <td>0</td>\n",
       "      <td>None</td>\n",
       "      <td>False</td>\n",
       "    </tr>\n",
       "    <tr>\n",
       "      <th>15</th>\n",
       "      <td>2</td>\n",
       "      <td>1</td>\n",
       "      <td>None</td>\n",
       "      <td>False</td>\n",
       "    </tr>\n",
       "    <tr>\n",
       "      <th>16</th>\n",
       "      <td>7</td>\n",
       "      <td>1</td>\n",
       "      <td>None</td>\n",
       "      <td>False</td>\n",
       "    </tr>\n",
       "    <tr>\n",
       "      <th>17</th>\n",
       "      <td>0</td>\n",
       "      <td>0</td>\n",
       "      <td>None</td>\n",
       "      <td>False</td>\n",
       "    </tr>\n",
       "    <tr>\n",
       "      <th>18</th>\n",
       "      <td>3</td>\n",
       "      <td>0</td>\n",
       "      <td>None</td>\n",
       "      <td>False</td>\n",
       "    </tr>\n",
       "    <tr>\n",
       "      <th>19</th>\n",
       "      <td>12</td>\n",
       "      <td>5</td>\n",
       "      <td>None</td>\n",
       "      <td>False</td>\n",
       "    </tr>\n",
       "    <tr>\n",
       "      <th>20</th>\n",
       "      <td>4</td>\n",
       "      <td>0</td>\n",
       "      <td>None</td>\n",
       "      <td>False</td>\n",
       "    </tr>\n",
       "    <tr>\n",
       "      <th>21</th>\n",
       "      <td>1</td>\n",
       "      <td>0</td>\n",
       "      <td>None</td>\n",
       "      <td>False</td>\n",
       "    </tr>\n",
       "    <tr>\n",
       "      <th>22</th>\n",
       "      <td>0</td>\n",
       "      <td>0</td>\n",
       "      <td>None</td>\n",
       "      <td>False</td>\n",
       "    </tr>\n",
       "    <tr>\n",
       "      <th>23</th>\n",
       "      <td>0</td>\n",
       "      <td>0</td>\n",
       "      <td>None</td>\n",
       "      <td>False</td>\n",
       "    </tr>\n",
       "    <tr>\n",
       "      <th>24</th>\n",
       "      <td>9</td>\n",
       "      <td>1</td>\n",
       "      <td>None</td>\n",
       "      <td>False</td>\n",
       "    </tr>\n",
       "  </tbody>\n",
       "</table>\n",
       "</div>"
      ],
      "text/plain": [
       "    n_spans  n_spans_over90  text_matches  any_matches\n",
       "0        26              19  [study site]         True\n",
       "1         2               1          None        False\n",
       "2         0               0          None        False\n",
       "3         4               0          None        False\n",
       "4        10               6          None        False\n",
       "5         0               0          None        False\n",
       "6        10               4          None        False\n",
       "7        30              19          None        False\n",
       "8         1               0          None        False\n",
       "9         5               2          None        False\n",
       "10       68              41          None        False\n",
       "11       16              12          None        False\n",
       "12        8               1          None        False\n",
       "13       12               1          None        False\n",
       "14        8               0          None        False\n",
       "15        2               1          None        False\n",
       "16        7               1          None        False\n",
       "17        0               0          None        False\n",
       "18        3               0          None        False\n",
       "19       12               5          None        False\n",
       "20        4               0          None        False\n",
       "21        1               0          None        False\n",
       "22        0               0          None        False\n",
       "23        0               0          None        False\n",
       "24        9               1          None        False"
      ]
     },
     "execution_count": 20,
     "metadata": {},
     "output_type": "execute_result"
    }
   ],
   "source": [
    "df"
   ]
  },
  {
   "cell_type": "markdown",
   "metadata": {},
   "source": [
    "Sample specifically articles matching terms"
   ]
  },
  {
   "cell_type": "code",
   "execution_count": 71,
   "metadata": {},
   "outputs": [],
   "source": [
    "with open(\"terms\") as f:\n",
    "    terms = [line.strip() for line in f.readlines()]"
   ]
  },
  {
   "cell_type": "code",
   "execution_count": 29,
   "metadata": {},
   "outputs": [],
   "source": [
    "n = 250"
   ]
  },
  {
   "cell_type": "code",
   "execution_count": 32,
   "metadata": {},
   "outputs": [],
   "source": [
    "terms_cursor = articles.find({ \"text_matches\": { \"$in\": terms } }, limit = n)\n",
    "noterms_cursor = articles.find({ \"text_matches\": { \"$not\": {\"$in\": terms } } }, limit = n)\n",
    "sample = list(terms_cursor) + list(noterms_cursor)"
   ]
  },
  {
   "cell_type": "code",
   "execution_count": 33,
   "metadata": {},
   "outputs": [
    {
     "name": "stdout",
     "output_type": "stream",
     "text": [
      "\u001b[F\u001b[KProcessed 500 articles (100.0%) in 31m57s; about 0m0s left.\n"
     ]
    }
   ],
   "source": [
    "reporter = Reporter(5, len(sample))\n",
    "\n",
    "rows = []\n",
    "for idx, record in enumerate(sample):\n",
    "    row = {}\n",
    "    article = AnnoDoc(record[\"extracted_text\"]).add_tier(geoname_annotator)\n",
    "    geospans = article.tiers[\"geonames\"]\n",
    "    row[\"text_matches\"] = record.get(\"text_matches\")\n",
    "    row[\"n_spans\"] = len(geospans)\n",
    "    row[\"n_spans_over90\"] = sum([1 for span in geospans if span.metadata[\"geoname\"].score > 0.9])\n",
    "    rows.append(row)\n",
    "    reporter.report(idx)\n",
    "\n",
    "df = pd.DataFrame.from_records(rows)\n",
    "df[\"any_matches\"] = [False if row is None else True for row in df[\"text_matches\"]]"
   ]
  },
  {
   "cell_type": "code",
   "execution_count": 56,
   "metadata": {},
   "outputs": [],
   "source": [
    "df.to_csv(os.path.join(\"data\", \"geonames.csv\"))"
   ]
  },
  {
   "cell_type": "code",
   "execution_count": 57,
   "metadata": {},
   "outputs": [
    {
     "name": "stdout",
     "output_type": "stream",
     "text": [
      "           n_spans  n_spans_over90\n",
      "count   250.000000      250.000000\n",
      "mean     52.204000       19.236000\n",
      "std     168.625826       49.785608\n",
      "min       0.000000        0.000000\n",
      "25%      11.000000        3.000000\n",
      "50%      24.000000        8.000000\n",
      "75%      45.750000       20.000000\n",
      "max    2448.000000      680.000000\n"
     ]
    }
   ],
   "source": [
    "df.loc[df[\"any_matches\"]].describe()"
   ]
  },
  {
   "cell_type": "code",
   "execution_count": 58,
   "metadata": {},
   "outputs": [
    {
     "name": "stdout",
     "output_type": "stream",
     "text": [
      "          n_spans  n_spans_over90\n",
      "count  250.000000      250.000000\n",
      "mean    12.508000        5.088000\n",
      "std     17.606188        9.266267\n",
      "min      0.000000        0.000000\n",
      "25%      2.000000        0.000000\n",
      "50%      7.000000        1.000000\n",
      "75%     15.000000        5.000000\n",
      "max    107.000000       59.000000\n"
     ]
    }
   ],
   "source": [
    "df.loc[~df[\"any_matches\"]].describe()"
   ]
  }
 ],
 "metadata": {
  "kernelspec": {
   "display_name": "Python 3",
   "language": "python",
   "name": "python3"
  },
  "language_info": {
   "codemirror_mode": {
    "name": "ipython",
    "version": 3
   },
   "file_extension": ".py",
   "mimetype": "text/x-python",
   "name": "python",
   "nbconvert_exporter": "python",
   "pygments_lexer": "ipython3",
   "version": "3.7.3"
  }
 },
 "nbformat": 4,
 "nbformat_minor": 2
}
