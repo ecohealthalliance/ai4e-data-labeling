{
 "cells": [
  {
   "cell_type": "code",
   "execution_count": 2,
   "metadata": {},
   "outputs": [],
   "source": [
    "%load_ext autoreload\n",
    "%autoreload 2"
   ]
  },
  {
   "cell_type": "code",
   "execution_count": 3,
   "metadata": {},
   "outputs": [],
   "source": [
    "import pymongo\n",
    "from collections import defaultdict"
   ]
  },
  {
   "cell_type": "code",
   "execution_count": 4,
   "metadata": {},
   "outputs": [],
   "source": [
    "import pandas as pd\n",
    "import numpy as np"
   ]
  },
  {
   "cell_type": "code",
   "execution_count": 5,
   "metadata": {},
   "outputs": [],
   "source": [
    "from IPython.display import clear_output"
   ]
  },
  {
   "cell_type": "code",
   "execution_count": 6,
   "metadata": {},
   "outputs": [],
   "source": [
    "from pubcrawler.article import Article"
   ]
  },
  {
   "cell_type": "code",
   "execution_count": 7,
   "metadata": {},
   "outputs": [],
   "source": [
    "from reporter import Reporter"
   ]
  },
  {
   "cell_type": "code",
   "execution_count": 8,
   "metadata": {},
   "outputs": [],
   "source": [
    "client = pymongo.MongoClient(\"localhost\", 27017)\n",
    "articles = client.pmc.articles"
   ]
  },
  {
   "cell_type": "code",
   "execution_count": 9,
   "metadata": {},
   "outputs": [
    {
     "data": {
      "text/plain": [
       "'extracted_text_text'"
      ]
     },
     "execution_count": 9,
     "metadata": {},
     "output_type": "execute_result"
    }
   ],
   "source": [
    "# Make sure we have a text index\n",
    "articles.create_index([(\"extracted_text\", pymongo.TEXT,)])"
   ]
  },
  {
   "cell_type": "markdown",
   "metadata": {},
   "source": [
    "## Search for articles matching terms"
   ]
  },
  {
   "cell_type": "code",
   "execution_count": 17,
   "metadata": {},
   "outputs": [],
   "source": [
    "with open(\"terms\") as f:\n",
    "    terms = [line.strip() for line in f.readlines()]"
   ]
  },
  {
   "cell_type": "code",
   "execution_count": 10,
   "metadata": {},
   "outputs": [],
   "source": [
    "by_term = dict()\n",
    "by_id = defaultdict(list)\n",
    "for term in terms:\n",
    "    results = articles.find(\n",
    "        { '$text': { '$search': '\"' + term + '\"' } },\n",
    "        { '_id': '_id', 'score': { '$meta': \"textScore\" } }\n",
    "    )\n",
    "    result_set = {result[\"_id\"] for result in results}\n",
    "    by_term[term] = result_set\n",
    "    [by_id[result].append(term) for result in result_set]"
   ]
  },
  {
   "cell_type": "code",
   "execution_count": 11,
   "metadata": {},
   "outputs": [],
   "source": [
    "all_matches = set.union(*by_term.values())"
   ]
  },
  {
   "cell_type": "code",
   "execution_count": 13,
   "metadata": {},
   "outputs": [
    {
     "data": {
      "text/plain": [
       "[('field work', 1), ('fieldwork', 1), ('field study', 0), ('study site', 8)]"
      ]
     },
     "execution_count": 13,
     "metadata": {},
     "output_type": "execute_result"
    }
   ],
   "source": [
    "[(term, len(ids)) for term, ids in by_term.items()]"
   ]
  },
  {
   "cell_type": "markdown",
   "metadata": {},
   "source": [
    "### Add an article.text_matches field"
   ]
  },
  {
   "cell_type": "code",
   "execution_count": 21,
   "metadata": {},
   "outputs": [
    {
     "ename": "KeyboardInterrupt",
     "evalue": "",
     "output_type": "error",
     "traceback": [
      "\u001b[0;31m---------------------------------------------------------------------------\u001b[0m",
      "\u001b[0;31mKeyboardInterrupt\u001b[0m                         Traceback (most recent call last)",
      "\u001b[0;32m<ipython-input-21-f414be3f3859>\u001b[0m in \u001b[0;36m<module>\u001b[0;34m\u001b[0m\n\u001b[1;32m      2\u001b[0m     results = articles.update_many(\n\u001b[1;32m      3\u001b[0m         \u001b[0mfilter\u001b[0m\u001b[0;34m=\u001b[0m\u001b[0;34m{\u001b[0m \u001b[0;34m'$text'\u001b[0m\u001b[0;34m:\u001b[0m \u001b[0;34m{\u001b[0m \u001b[0;34m'$search'\u001b[0m\u001b[0;34m:\u001b[0m \u001b[0;34m'\"'\u001b[0m \u001b[0;34m+\u001b[0m \u001b[0mterm\u001b[0m \u001b[0;34m+\u001b[0m \u001b[0;34m'\"'\u001b[0m \u001b[0;34m}\u001b[0m \u001b[0;34m}\u001b[0m\u001b[0;34m,\u001b[0m\u001b[0;34m\u001b[0m\u001b[0;34m\u001b[0m\u001b[0m\n\u001b[0;32m----> 4\u001b[0;31m         \u001b[0mupdate\u001b[0m\u001b[0;34m=\u001b[0m\u001b[0;34m{\u001b[0m\u001b[0;34m\"$addToSet\"\u001b[0m\u001b[0;34m:\u001b[0m \u001b[0;34m{\u001b[0m\u001b[0;34m\"text_matches\"\u001b[0m\u001b[0;34m:\u001b[0m \u001b[0mterm\u001b[0m\u001b[0;34m}\u001b[0m\u001b[0;34m}\u001b[0m\u001b[0;34m\u001b[0m\u001b[0;34m\u001b[0m\u001b[0m\n\u001b[0m\u001b[1;32m      5\u001b[0m     )\n\u001b[1;32m      6\u001b[0m \u001b[0marticles\u001b[0m\u001b[0;34m.\u001b[0m\u001b[0mcreate_index\u001b[0m\u001b[0;34m(\u001b[0m\u001b[0;34m\"text_matches\"\u001b[0m\u001b[0;34m)\u001b[0m\u001b[0;34m\u001b[0m\u001b[0;34m\u001b[0m\u001b[0m\n",
      "\u001b[0;32m~/.virtualenvs/ai4e-data-labeling/lib/python3.7/site-packages/pymongo/collection.py\u001b[0m in \u001b[0;36mupdate_many\u001b[0;34m(self, filter, update, upsert, array_filters, bypass_document_validation, collation, session)\u001b[0m\n\u001b[1;32m   1063\u001b[0m                 \u001b[0mbypass_doc_val\u001b[0m\u001b[0;34m=\u001b[0m\u001b[0mbypass_document_validation\u001b[0m\u001b[0;34m,\u001b[0m\u001b[0;34m\u001b[0m\u001b[0;34m\u001b[0m\u001b[0m\n\u001b[1;32m   1064\u001b[0m                 \u001b[0mcollation\u001b[0m\u001b[0;34m=\u001b[0m\u001b[0mcollation\u001b[0m\u001b[0;34m,\u001b[0m \u001b[0marray_filters\u001b[0m\u001b[0;34m=\u001b[0m\u001b[0marray_filters\u001b[0m\u001b[0;34m,\u001b[0m\u001b[0;34m\u001b[0m\u001b[0;34m\u001b[0m\u001b[0m\n\u001b[0;32m-> 1065\u001b[0;31m                 session=session),\n\u001b[0m\u001b[1;32m   1066\u001b[0m             write_concern.acknowledged)\n\u001b[1;32m   1067\u001b[0m \u001b[0;34m\u001b[0m\u001b[0m\n",
      "\u001b[0;32m~/.virtualenvs/ai4e-data-labeling/lib/python3.7/site-packages/pymongo/collection.py\u001b[0m in \u001b[0;36m_update_retryable\u001b[0;34m(self, criteria, document, upsert, check_keys, multi, manipulate, write_concern, op_id, ordered, bypass_doc_val, collation, array_filters, session)\u001b[0m\n\u001b[1;32m    849\u001b[0m         return self.__database.client._retryable_write(\n\u001b[1;32m    850\u001b[0m             \u001b[0;34m(\u001b[0m\u001b[0mwrite_concern\u001b[0m \u001b[0;32mor\u001b[0m \u001b[0mself\u001b[0m\u001b[0;34m.\u001b[0m\u001b[0mwrite_concern\u001b[0m\u001b[0;34m)\u001b[0m\u001b[0;34m.\u001b[0m\u001b[0macknowledged\u001b[0m \u001b[0;32mand\u001b[0m \u001b[0;32mnot\u001b[0m \u001b[0mmulti\u001b[0m\u001b[0;34m,\u001b[0m\u001b[0;34m\u001b[0m\u001b[0;34m\u001b[0m\u001b[0m\n\u001b[0;32m--> 851\u001b[0;31m             _update, session)\n\u001b[0m\u001b[1;32m    852\u001b[0m \u001b[0;34m\u001b[0m\u001b[0m\n\u001b[1;32m    853\u001b[0m     def replace_one(self, filter, replacement, upsert=False,\n",
      "\u001b[0;32m~/.virtualenvs/ai4e-data-labeling/lib/python3.7/site-packages/pymongo/mongo_client.py\u001b[0m in \u001b[0;36m_retryable_write\u001b[0;34m(self, retryable, func, session)\u001b[0m\n\u001b[1;32m   1246\u001b[0m         \u001b[0;34m\"\"\"Internal retryable write helper.\"\"\"\u001b[0m\u001b[0;34m\u001b[0m\u001b[0;34m\u001b[0m\u001b[0m\n\u001b[1;32m   1247\u001b[0m         \u001b[0;32mwith\u001b[0m \u001b[0mself\u001b[0m\u001b[0;34m.\u001b[0m\u001b[0m_tmp_session\u001b[0m\u001b[0;34m(\u001b[0m\u001b[0msession\u001b[0m\u001b[0;34m)\u001b[0m \u001b[0;32mas\u001b[0m \u001b[0ms\u001b[0m\u001b[0;34m:\u001b[0m\u001b[0;34m\u001b[0m\u001b[0;34m\u001b[0m\u001b[0m\n\u001b[0;32m-> 1248\u001b[0;31m             \u001b[0;32mreturn\u001b[0m \u001b[0mself\u001b[0m\u001b[0;34m.\u001b[0m\u001b[0m_retry_with_session\u001b[0m\u001b[0;34m(\u001b[0m\u001b[0mretryable\u001b[0m\u001b[0;34m,\u001b[0m \u001b[0mfunc\u001b[0m\u001b[0;34m,\u001b[0m \u001b[0ms\u001b[0m\u001b[0;34m,\u001b[0m \u001b[0;32mNone\u001b[0m\u001b[0;34m)\u001b[0m\u001b[0;34m\u001b[0m\u001b[0;34m\u001b[0m\u001b[0m\n\u001b[0m\u001b[1;32m   1249\u001b[0m \u001b[0;34m\u001b[0m\u001b[0m\n\u001b[1;32m   1250\u001b[0m     \u001b[0;32mdef\u001b[0m \u001b[0m__reset_server\u001b[0m\u001b[0;34m(\u001b[0m\u001b[0mself\u001b[0m\u001b[0;34m,\u001b[0m \u001b[0maddress\u001b[0m\u001b[0;34m)\u001b[0m\u001b[0;34m:\u001b[0m\u001b[0;34m\u001b[0m\u001b[0;34m\u001b[0m\u001b[0m\n",
      "\u001b[0;32m~/.virtualenvs/ai4e-data-labeling/lib/python3.7/site-packages/pymongo/mongo_client.py\u001b[0m in \u001b[0;36m_retry_with_session\u001b[0;34m(self, retryable, func, session, bulk)\u001b[0m\n\u001b[1;32m   1199\u001b[0m                             \u001b[0;32mraise\u001b[0m \u001b[0mlast_error\u001b[0m\u001b[0;34m\u001b[0m\u001b[0;34m\u001b[0m\u001b[0m\n\u001b[1;32m   1200\u001b[0m                         \u001b[0mretryable\u001b[0m \u001b[0;34m=\u001b[0m \u001b[0;32mFalse\u001b[0m\u001b[0;34m\u001b[0m\u001b[0;34m\u001b[0m\u001b[0m\n\u001b[0;32m-> 1201\u001b[0;31m                     \u001b[0;32mreturn\u001b[0m \u001b[0mfunc\u001b[0m\u001b[0;34m(\u001b[0m\u001b[0msession\u001b[0m\u001b[0;34m,\u001b[0m \u001b[0msock_info\u001b[0m\u001b[0;34m,\u001b[0m \u001b[0mretryable\u001b[0m\u001b[0;34m)\u001b[0m\u001b[0;34m\u001b[0m\u001b[0;34m\u001b[0m\u001b[0m\n\u001b[0m\u001b[1;32m   1202\u001b[0m             \u001b[0;32mexcept\u001b[0m \u001b[0mServerSelectionTimeoutError\u001b[0m\u001b[0;34m:\u001b[0m\u001b[0;34m\u001b[0m\u001b[0;34m\u001b[0m\u001b[0m\n\u001b[1;32m   1203\u001b[0m                 \u001b[0;32mif\u001b[0m \u001b[0mis_retrying\u001b[0m\u001b[0;34m(\u001b[0m\u001b[0;34m)\u001b[0m\u001b[0;34m:\u001b[0m\u001b[0;34m\u001b[0m\u001b[0;34m\u001b[0m\u001b[0m\n",
      "\u001b[0;32m~/.virtualenvs/ai4e-data-labeling/lib/python3.7/site-packages/pymongo/collection.py\u001b[0m in \u001b[0;36m_update\u001b[0;34m(session, sock_info, retryable_write)\u001b[0m\n\u001b[1;32m    845\u001b[0m                 \u001b[0mbypass_doc_val\u001b[0m\u001b[0;34m=\u001b[0m\u001b[0mbypass_doc_val\u001b[0m\u001b[0;34m,\u001b[0m \u001b[0mcollation\u001b[0m\u001b[0;34m=\u001b[0m\u001b[0mcollation\u001b[0m\u001b[0;34m,\u001b[0m\u001b[0;34m\u001b[0m\u001b[0;34m\u001b[0m\u001b[0m\n\u001b[1;32m    846\u001b[0m                 \u001b[0marray_filters\u001b[0m\u001b[0;34m=\u001b[0m\u001b[0marray_filters\u001b[0m\u001b[0;34m,\u001b[0m \u001b[0msession\u001b[0m\u001b[0;34m=\u001b[0m\u001b[0msession\u001b[0m\u001b[0;34m,\u001b[0m\u001b[0;34m\u001b[0m\u001b[0;34m\u001b[0m\u001b[0m\n\u001b[0;32m--> 847\u001b[0;31m                 retryable_write=retryable_write)\n\u001b[0m\u001b[1;32m    848\u001b[0m \u001b[0;34m\u001b[0m\u001b[0m\n\u001b[1;32m    849\u001b[0m         return self.__database.client._retryable_write(\n",
      "\u001b[0;32m~/.virtualenvs/ai4e-data-labeling/lib/python3.7/site-packages/pymongo/collection.py\u001b[0m in \u001b[0;36m_update\u001b[0;34m(self, sock_info, criteria, document, upsert, check_keys, multi, manipulate, write_concern, op_id, ordered, bypass_doc_val, collation, array_filters, session, retryable_write)\u001b[0m\n\u001b[1;32m    815\u001b[0m             \u001b[0msession\u001b[0m\u001b[0;34m=\u001b[0m\u001b[0msession\u001b[0m\u001b[0;34m,\u001b[0m\u001b[0;34m\u001b[0m\u001b[0;34m\u001b[0m\u001b[0m\n\u001b[1;32m    816\u001b[0m             \u001b[0mclient\u001b[0m\u001b[0;34m=\u001b[0m\u001b[0mself\u001b[0m\u001b[0;34m.\u001b[0m\u001b[0m__database\u001b[0m\u001b[0;34m.\u001b[0m\u001b[0mclient\u001b[0m\u001b[0;34m,\u001b[0m\u001b[0;34m\u001b[0m\u001b[0;34m\u001b[0m\u001b[0m\n\u001b[0;32m--> 817\u001b[0;31m             retryable_write=retryable_write).copy()\n\u001b[0m\u001b[1;32m    818\u001b[0m         \u001b[0m_check_write_command_response\u001b[0m\u001b[0;34m(\u001b[0m\u001b[0mresult\u001b[0m\u001b[0;34m)\u001b[0m\u001b[0;34m\u001b[0m\u001b[0;34m\u001b[0m\u001b[0m\n\u001b[1;32m    819\u001b[0m         \u001b[0;31m# Add the updatedExisting field for compatibility.\u001b[0m\u001b[0;34m\u001b[0m\u001b[0;34m\u001b[0m\u001b[0;34m\u001b[0m\u001b[0m\n",
      "\u001b[0;32m~/.virtualenvs/ai4e-data-labeling/lib/python3.7/site-packages/pymongo/pool.py\u001b[0m in \u001b[0;36mcommand\u001b[0;34m(self, dbname, spec, slave_ok, read_preference, codec_options, check, allowable_errors, check_keys, read_concern, write_concern, parse_write_concern_error, collation, session, client, retryable_write, publish_events)\u001b[0m\n\u001b[1;32m    582\u001b[0m         \u001b[0;31m# Catch socket.error, KeyboardInterrupt, etc. and close ourselves.\u001b[0m\u001b[0;34m\u001b[0m\u001b[0;34m\u001b[0m\u001b[0;34m\u001b[0m\u001b[0m\n\u001b[1;32m    583\u001b[0m         \u001b[0;32mexcept\u001b[0m \u001b[0mBaseException\u001b[0m \u001b[0;32mas\u001b[0m \u001b[0merror\u001b[0m\u001b[0;34m:\u001b[0m\u001b[0;34m\u001b[0m\u001b[0;34m\u001b[0m\u001b[0m\n\u001b[0;32m--> 584\u001b[0;31m             \u001b[0mself\u001b[0m\u001b[0;34m.\u001b[0m\u001b[0m_raise_connection_failure\u001b[0m\u001b[0;34m(\u001b[0m\u001b[0merror\u001b[0m\u001b[0;34m)\u001b[0m\u001b[0;34m\u001b[0m\u001b[0;34m\u001b[0m\u001b[0m\n\u001b[0m\u001b[1;32m    585\u001b[0m \u001b[0;34m\u001b[0m\u001b[0m\n\u001b[1;32m    586\u001b[0m     \u001b[0;32mdef\u001b[0m \u001b[0msend_message\u001b[0m\u001b[0;34m(\u001b[0m\u001b[0mself\u001b[0m\u001b[0;34m,\u001b[0m \u001b[0mmessage\u001b[0m\u001b[0;34m,\u001b[0m \u001b[0mmax_doc_size\u001b[0m\u001b[0;34m)\u001b[0m\u001b[0;34m:\u001b[0m\u001b[0;34m\u001b[0m\u001b[0;34m\u001b[0m\u001b[0m\n",
      "\u001b[0;32m~/.virtualenvs/ai4e-data-labeling/lib/python3.7/site-packages/pymongo/pool.py\u001b[0m in \u001b[0;36m_raise_connection_failure\u001b[0;34m(self, error)\u001b[0m\n\u001b[1;32m    743\u001b[0m             \u001b[0m_raise_connection_failure\u001b[0m\u001b[0;34m(\u001b[0m\u001b[0mself\u001b[0m\u001b[0;34m.\u001b[0m\u001b[0maddress\u001b[0m\u001b[0;34m,\u001b[0m \u001b[0merror\u001b[0m\u001b[0;34m)\u001b[0m\u001b[0;34m\u001b[0m\u001b[0;34m\u001b[0m\u001b[0m\n\u001b[1;32m    744\u001b[0m         \u001b[0;32melse\u001b[0m\u001b[0;34m:\u001b[0m\u001b[0;34m\u001b[0m\u001b[0;34m\u001b[0m\u001b[0m\n\u001b[0;32m--> 745\u001b[0;31m             \u001b[0;32mraise\u001b[0m \u001b[0merror\u001b[0m\u001b[0;34m\u001b[0m\u001b[0;34m\u001b[0m\u001b[0m\n\u001b[0m\u001b[1;32m    746\u001b[0m \u001b[0;34m\u001b[0m\u001b[0m\n\u001b[1;32m    747\u001b[0m     \u001b[0;32mdef\u001b[0m \u001b[0m__eq__\u001b[0m\u001b[0;34m(\u001b[0m\u001b[0mself\u001b[0m\u001b[0;34m,\u001b[0m \u001b[0mother\u001b[0m\u001b[0;34m)\u001b[0m\u001b[0;34m:\u001b[0m\u001b[0;34m\u001b[0m\u001b[0;34m\u001b[0m\u001b[0m\n",
      "\u001b[0;32m~/.virtualenvs/ai4e-data-labeling/lib/python3.7/site-packages/pymongo/pool.py\u001b[0m in \u001b[0;36mcommand\u001b[0;34m(self, dbname, spec, slave_ok, read_preference, codec_options, check, allowable_errors, check_keys, read_concern, write_concern, parse_write_concern_error, collation, session, client, retryable_write, publish_events)\u001b[0m\n\u001b[1;32m    577\u001b[0m                            \u001b[0mcompression_ctx\u001b[0m\u001b[0;34m=\u001b[0m\u001b[0mself\u001b[0m\u001b[0;34m.\u001b[0m\u001b[0mcompression_context\u001b[0m\u001b[0;34m,\u001b[0m\u001b[0;34m\u001b[0m\u001b[0;34m\u001b[0m\u001b[0m\n\u001b[1;32m    578\u001b[0m                            \u001b[0muse_op_msg\u001b[0m\u001b[0;34m=\u001b[0m\u001b[0mself\u001b[0m\u001b[0;34m.\u001b[0m\u001b[0mop_msg_enabled\u001b[0m\u001b[0;34m,\u001b[0m\u001b[0;34m\u001b[0m\u001b[0;34m\u001b[0m\u001b[0m\n\u001b[0;32m--> 579\u001b[0;31m                            unacknowledged=unacknowledged)\n\u001b[0m\u001b[1;32m    580\u001b[0m         \u001b[0;32mexcept\u001b[0m \u001b[0mOperationFailure\u001b[0m\u001b[0;34m:\u001b[0m\u001b[0;34m\u001b[0m\u001b[0;34m\u001b[0m\u001b[0m\n\u001b[1;32m    581\u001b[0m             \u001b[0;32mraise\u001b[0m\u001b[0;34m\u001b[0m\u001b[0;34m\u001b[0m\u001b[0m\n",
      "\u001b[0;32m~/.virtualenvs/ai4e-data-labeling/lib/python3.7/site-packages/pymongo/network.py\u001b[0m in \u001b[0;36mcommand\u001b[0;34m(sock, dbname, spec, slave_ok, is_mongos, read_preference, codec_options, session, client, check, allowable_errors, address, check_keys, listeners, max_bson_size, read_concern, parse_write_concern_error, collation, compression_ctx, use_op_msg, unacknowledged)\u001b[0m\n\u001b[1;32m    139\u001b[0m             \u001b[0mresponse_doc\u001b[0m \u001b[0;34m=\u001b[0m \u001b[0;34m{\u001b[0m\u001b[0;34m\"ok\"\u001b[0m\u001b[0;34m:\u001b[0m \u001b[0;36m1\u001b[0m\u001b[0;34m}\u001b[0m\u001b[0;34m\u001b[0m\u001b[0;34m\u001b[0m\u001b[0m\n\u001b[1;32m    140\u001b[0m         \u001b[0;32melse\u001b[0m\u001b[0;34m:\u001b[0m\u001b[0;34m\u001b[0m\u001b[0;34m\u001b[0m\u001b[0m\n\u001b[0;32m--> 141\u001b[0;31m             \u001b[0mreply\u001b[0m \u001b[0;34m=\u001b[0m \u001b[0mreceive_message\u001b[0m\u001b[0;34m(\u001b[0m\u001b[0msock\u001b[0m\u001b[0;34m,\u001b[0m \u001b[0mrequest_id\u001b[0m\u001b[0;34m)\u001b[0m\u001b[0;34m\u001b[0m\u001b[0;34m\u001b[0m\u001b[0m\n\u001b[0m\u001b[1;32m    142\u001b[0m             \u001b[0munpacked_docs\u001b[0m \u001b[0;34m=\u001b[0m \u001b[0mreply\u001b[0m\u001b[0;34m.\u001b[0m\u001b[0munpack_response\u001b[0m\u001b[0;34m(\u001b[0m\u001b[0mcodec_options\u001b[0m\u001b[0;34m=\u001b[0m\u001b[0mcodec_options\u001b[0m\u001b[0;34m)\u001b[0m\u001b[0;34m\u001b[0m\u001b[0;34m\u001b[0m\u001b[0m\n\u001b[1;32m    143\u001b[0m \u001b[0;34m\u001b[0m\u001b[0m\n",
      "\u001b[0;32m~/.virtualenvs/ai4e-data-labeling/lib/python3.7/site-packages/pymongo/network.py\u001b[0m in \u001b[0;36mreceive_message\u001b[0;34m(sock, request_id, max_message_size)\u001b[0m\n\u001b[1;32m    171\u001b[0m     \u001b[0;31m# Ignore the response's request id.\u001b[0m\u001b[0;34m\u001b[0m\u001b[0;34m\u001b[0m\u001b[0;34m\u001b[0m\u001b[0m\n\u001b[1;32m    172\u001b[0m     length, _, response_to, op_code = _UNPACK_HEADER(\n\u001b[0;32m--> 173\u001b[0;31m         _receive_data_on_socket(sock, 16))\n\u001b[0m\u001b[1;32m    174\u001b[0m     \u001b[0;31m# No request_id for exhaust cursor \"getMore\".\u001b[0m\u001b[0;34m\u001b[0m\u001b[0;34m\u001b[0m\u001b[0;34m\u001b[0m\u001b[0m\n\u001b[1;32m    175\u001b[0m     \u001b[0;32mif\u001b[0m \u001b[0mrequest_id\u001b[0m \u001b[0;32mis\u001b[0m \u001b[0;32mnot\u001b[0m \u001b[0;32mNone\u001b[0m\u001b[0;34m:\u001b[0m\u001b[0;34m\u001b[0m\u001b[0;34m\u001b[0m\u001b[0m\n",
      "\u001b[0;32m~/.virtualenvs/ai4e-data-labeling/lib/python3.7/site-packages/pymongo/network.py\u001b[0m in \u001b[0;36m_receive_data_on_socket\u001b[0;34m(sock, length)\u001b[0m\n\u001b[1;32m    230\u001b[0m         \u001b[0;32mwhile\u001b[0m \u001b[0mbytes_read\u001b[0m \u001b[0;34m<\u001b[0m \u001b[0mlength\u001b[0m\u001b[0;34m:\u001b[0m\u001b[0;34m\u001b[0m\u001b[0;34m\u001b[0m\u001b[0m\n\u001b[1;32m    231\u001b[0m             \u001b[0;32mtry\u001b[0m\u001b[0;34m:\u001b[0m\u001b[0;34m\u001b[0m\u001b[0;34m\u001b[0m\u001b[0m\n\u001b[0;32m--> 232\u001b[0;31m                 \u001b[0mchunk_length\u001b[0m \u001b[0;34m=\u001b[0m \u001b[0msock\u001b[0m\u001b[0;34m.\u001b[0m\u001b[0mrecv_into\u001b[0m\u001b[0;34m(\u001b[0m\u001b[0mmv\u001b[0m\u001b[0;34m[\u001b[0m\u001b[0mbytes_read\u001b[0m\u001b[0;34m:\u001b[0m\u001b[0;34m]\u001b[0m\u001b[0;34m)\u001b[0m\u001b[0;34m\u001b[0m\u001b[0;34m\u001b[0m\u001b[0m\n\u001b[0m\u001b[1;32m    233\u001b[0m             \u001b[0;32mexcept\u001b[0m \u001b[0;34m(\u001b[0m\u001b[0mIOError\u001b[0m\u001b[0;34m,\u001b[0m \u001b[0mOSError\u001b[0m\u001b[0;34m)\u001b[0m \u001b[0;32mas\u001b[0m \u001b[0mexc\u001b[0m\u001b[0;34m:\u001b[0m\u001b[0;34m\u001b[0m\u001b[0;34m\u001b[0m\u001b[0m\n\u001b[1;32m    234\u001b[0m                 \u001b[0;32mif\u001b[0m \u001b[0m_errno_from_exception\u001b[0m\u001b[0;34m(\u001b[0m\u001b[0mexc\u001b[0m\u001b[0;34m)\u001b[0m \u001b[0;34m==\u001b[0m \u001b[0merrno\u001b[0m\u001b[0;34m.\u001b[0m\u001b[0mEINTR\u001b[0m\u001b[0;34m:\u001b[0m\u001b[0;34m\u001b[0m\u001b[0;34m\u001b[0m\u001b[0m\n",
      "\u001b[0;31mKeyboardInterrupt\u001b[0m: "
     ]
    }
   ],
   "source": [
    "for term in terms:\n",
    "    results = articles.update_many(\n",
    "        filter={ '$text': { '$search': '\"' + term + '\"' } },\n",
    "        update={\"$addToSet\": {\"text_matches\": term}}\n",
    "    )\n",
    "articles.create_index(\"text_matches\")"
   ]
  },
  {
   "cell_type": "markdown",
   "metadata": {},
   "source": [
    "This is an alternative version of the original search that uses the created index."
   ]
  },
  {
   "cell_type": "code",
   "execution_count": 22,
   "metadata": {},
   "outputs": [
    {
     "data": {
      "text/plain": [
       "[('field work', 96),\n",
       " ('fieldwork', 0),\n",
       " ('field study', 0),\n",
       " ('field site', 0),\n",
       " ('field area', 0),\n",
       " ('study site', 0),\n",
       " ('study location', 0),\n",
       " ('study area', 0),\n",
       " ('research site', 0),\n",
       " ('research location', 0),\n",
       " ('research area', 0),\n",
       " ('sampling site', 0),\n",
       " ('sampling location', 0),\n",
       " ('sampling area', 0)]"
      ]
     },
     "execution_count": 22,
     "metadata": {},
     "output_type": "execute_result"
    }
   ],
   "source": [
    "by_term = dict()\n",
    "by_id = defaultdict(list)\n",
    "for term in terms:\n",
    "    results = articles.find(\n",
    "        { \"text_matches\": term },\n",
    "        { '_id': '_id'}\n",
    "    )\n",
    "    result_set = {result[\"_id\"] for result in results}\n",
    "    by_term[term] = result_set\n",
    "    [by_id[result].append(term) for result in result_set]\n",
    "\n",
    "all_matches = set.union(*by_term.values())\n",
    "\n",
    "[(term, len(ids)) for term, ids in by_term.items()]"
   ]
  },
  {
   "cell_type": "markdown",
   "metadata": {},
   "source": [
    "This query will then allow us to find \"one of\" for all those text queries, *within* a Mongo pipeline."
   ]
  },
  {
   "cell_type": "code",
   "execution_count": 18,
   "metadata": {},
   "outputs": [
    {
     "data": {
      "text/plain": [
       "['field work',\n",
       " 'fieldwork',\n",
       " 'field study',\n",
       " 'field site',\n",
       " 'field area',\n",
       " 'study site',\n",
       " 'study location',\n",
       " 'study area',\n",
       " 'research site',\n",
       " 'research location',\n",
       " 'research area',\n",
       " 'sampling site',\n",
       " 'sampling location',\n",
       " 'sampling area']"
      ]
     },
     "execution_count": 18,
     "metadata": {},
     "output_type": "execute_result"
    }
   ],
   "source": [
    "terms"
   ]
  },
  {
   "cell_type": "code",
   "execution_count": 19,
   "metadata": {},
   "outputs": [],
   "source": [
    "art = articles.find_one(\n",
    "    { \"text_matches\": { \"$in\": terms } }\n",
    ")"
   ]
  },
  {
   "cell_type": "code",
   "execution_count": 19,
   "metadata": {},
   "outputs": [
    {
     "ename": "StopIteration",
     "evalue": "",
     "output_type": "error",
     "traceback": [
      "\u001b[0;31m---------------------------------------------------------------------------\u001b[0m",
      "\u001b[0;31mStopIteration\u001b[0m                             Traceback (most recent call last)",
      "\u001b[0;32m<ipython-input-19-407664acc7d1>\u001b[0m in \u001b[0;36m<module>\u001b[0;34m\u001b[0m\n\u001b[1;32m      1\u001b[0m art = articles.aggregate([\n\u001b[1;32m      2\u001b[0m     \u001b[0;34m{\u001b[0m \u001b[0;34m\"$match\"\u001b[0m\u001b[0;34m:\u001b[0m \u001b[0;34m{\u001b[0m \u001b[0;34m\"text_matches\"\u001b[0m\u001b[0;34m:\u001b[0m \u001b[0;34m{\u001b[0m \u001b[0;34m\"$in\"\u001b[0m\u001b[0;34m:\u001b[0m \u001b[0mterms\u001b[0m \u001b[0;34m}\u001b[0m \u001b[0;34m}\u001b[0m \u001b[0;34m}\u001b[0m\u001b[0;34m,\u001b[0m\u001b[0;34m\u001b[0m\u001b[0;34m\u001b[0m\u001b[0m\n\u001b[0;32m----> 3\u001b[0;31m     \u001b[0;34m{\u001b[0m \u001b[0;34m\"$sample\"\u001b[0m\u001b[0;34m:\u001b[0m \u001b[0;34m{\u001b[0m \u001b[0;34m\"size\"\u001b[0m\u001b[0;34m:\u001b[0m \u001b[0;36m1\u001b[0m \u001b[0;34m}\u001b[0m \u001b[0;34m}\u001b[0m\u001b[0;34m\u001b[0m\u001b[0;34m\u001b[0m\u001b[0m\n\u001b[0m\u001b[1;32m      4\u001b[0m ]).next()\n",
      "\u001b[0;32m~/.virtualenvs/ai4e-data-labeling/lib/python3.7/site-packages/pymongo/command_cursor.py\u001b[0m in \u001b[0;36mnext\u001b[0;34m(self)\u001b[0m\n\u001b[1;32m    292\u001b[0m             \u001b[0;32mreturn\u001b[0m \u001b[0mcoll\u001b[0m\u001b[0;34m.\u001b[0m\u001b[0mdatabase\u001b[0m\u001b[0;34m.\u001b[0m\u001b[0m_fix_outgoing\u001b[0m\u001b[0;34m(\u001b[0m\u001b[0mself\u001b[0m\u001b[0;34m.\u001b[0m\u001b[0m__data\u001b[0m\u001b[0;34m.\u001b[0m\u001b[0mpopleft\u001b[0m\u001b[0;34m(\u001b[0m\u001b[0;34m)\u001b[0m\u001b[0;34m,\u001b[0m \u001b[0mcoll\u001b[0m\u001b[0;34m)\u001b[0m\u001b[0;34m\u001b[0m\u001b[0;34m\u001b[0m\u001b[0m\n\u001b[1;32m    293\u001b[0m         \u001b[0;32melse\u001b[0m\u001b[0;34m:\u001b[0m\u001b[0;34m\u001b[0m\u001b[0;34m\u001b[0m\u001b[0m\n\u001b[0;32m--> 294\u001b[0;31m             \u001b[0;32mraise\u001b[0m \u001b[0mStopIteration\u001b[0m\u001b[0;34m\u001b[0m\u001b[0;34m\u001b[0m\u001b[0m\n\u001b[0m\u001b[1;32m    295\u001b[0m \u001b[0;34m\u001b[0m\u001b[0m\n\u001b[1;32m    296\u001b[0m     \u001b[0m__next__\u001b[0m \u001b[0;34m=\u001b[0m \u001b[0mnext\u001b[0m\u001b[0;34m\u001b[0m\u001b[0;34m\u001b[0m\u001b[0m\n",
      "\u001b[0;31mStopIteration\u001b[0m: "
     ]
    }
   ],
   "source": [
    "art = articles.aggregate([\n",
    "    { \"$match\": { \"text_matches\": { \"$in\": terms } } },\n",
    "    { \"$sample\": { \"size\": 1 } }\n",
    "]).next()"
   ]
  },
  {
   "cell_type": "code",
   "execution_count": 59,
   "metadata": {},
   "outputs": [
    {
     "name": "stdout",
     "output_type": "stream",
     "text": [
      "\n",
      "\n",
      "\n",
      "Introduction\n",
      "\n",
      "Long-term cognitive impairment has been reported in up to 65% of individuals with moderate-severe traumatic brain injury (TBI) with adverse effects on independence, homemaking tasks, interpersonal relationships, leisure, employment, and other aspects of life.1 In spite of limited evidence of efficacy, prescribing pharmacological agents to improve chronic cognitive dysfunction after TBI is common practice. The dopaminergic agent and N-methyl-D-aspartate (NMDA) antagonist, amantadine (approved by the U.S. Food and Drug Administration for influenza prevention and Parkinson's disease), is commonly used for this purpose.2 Amantadine has a relatively benign side-effect profile (assuming adequate renal function) compared to other agents. Although previous studies are limited by small sample size and design flaws, preliminary evidence suggests some cognitive benefit from amantadine. Notably, there is strong evidence that amantadine improves rate of recovery acutely in those with severe TBI and prolonged disorder of consciousness.3,4\n",
      "\n",
      "Kraus and colleagues5 found a positive effect of amantadine on executive function, but not attention and memory, in an open-label, prospective study of 22 individuals with chronic TBI receiving 400 mg of amantadine daily over 12 weeks. A retrospective study by Reddy and colleagues6 studied amantadine use in 25 adolescents whose cognitive function failed to return to baseline after 21 days of rest after sports-related concussion. This cohort who received amantadine 100 mg twice-daily was compared to a cohort (matched on age, sex, and concussion history) who were not treated with pharmacological agents. This comparison found superior pre- to post-test improvements in concussion symptoms (total score on 22-item self-report symptom inventory), verbal memory, and reaction time for the amantadine group, but no between-group differences for visual memory and visual motor processing speed. In contrast, a small (n = 10), double-blind, placebo-controlled, cross-over study demonstrated no differences in the rate of cognitive improvement (orientation, attention, executive function, memory, behavior, and a composite variable) between patients treated with amantadine (100–300 daily) and placebo during acute inpatient rehabilitation.7 In a systematic literature review on dopaminergic agents for cognition and agitation, Leone and colleagues8 concluded that amantadine may be a reasonable option to improve cognition and reduce agitation after a TBI, but confirmatory evidence is needed. Despite the limited evidence to support amantadine use to enhance cognitive function after TBI, clinical use for this purpose is highly prevalent and is often based on inferred beliefs. This common practice has been demonstrated through data collected on prescribing patterns9,10 and a survey of brain injury physicians, which indicated that amantadine is a popular pharmacological choice for treating memory impairment, inattention, slow mental processing, and abulia.11\n",
      "\n",
      "Given the common use of amantadine to enhance cognitive performance after TBI and the limited evidence of efficacy, there is a need for rigorous scientific evaluation of amantadine's effect on cognition. The Amantadine Irritability Multi-site Study (AIMS) was a large, multi-site, randomized, placebo-controlled study performed to assess the effect of amantadine on irritability (primary outcome) and aggression, anger, and cognitive function (secondary outcomes).12 The current study investigated the effect of amantadine on cognitive function for participants in the AIMS study. Based on past literature, we hypothesized that, compared to placebo, amantadine (100 mg every morning and noon) would significantly improve cognitive function (overall cognitive performance, processing speed, memory, attention, and executive function) from baseline assessment to days 28 and 60.\n",
      "\n",
      "\n",
      "Methods\n",
      "\n",
      "\n",
      "Setting\n",
      "\n",
      "Study sites were: Carolinas Rehabilitation in Charlotte, North Carolina (lead site); Rehabilitation Hospital of Indiana (Indianapolis, IN); Kessler Institute of Rehabilitation (West Orange, NJ); Spaulding Rehabilitation Hospital (Boston, MA); TIRR Memorial Hermann (Houston, TX); The Ohio State University (Columbus, OH); and University of Washington (Seattle, WA).\n",
      "\n",
      "\n",
      "Study oversight\n",
      "\n",
      "Institutional review board approval was received at each site, informed consent obtained from all participants and their observers, and the study registered on www.clinicaltrials.gov (#NCT00779324). An external Data and Safety Monitoring Board provided independent oversight. A data coordinating center (DCC) managed the concealed treatment allocation, data storage, and data monitoring and, upon study closure, transferred the data to the statistician.\n",
      "\n",
      "\n",
      "Participants\n",
      "\n",
      "Recruitment was through referrals, physician letters, and newsletters. Individuals were eligible if 16–75 years of age, sustained a nonpenetrating TBI at least 6 months prior to enrollment, and obtained a score ≥6 on observer-rated Neuropsychiatric Inventory–Irritability. TBI was verified by record review and clinician interview as meeting at least one of the following criteria: 1) post-resuscitation Glasgow Coma Scale (GCS) <13; 2) GCS Motor <6 off paralytics; 3) loss of consciousness attributable to TBI; 4) post-traumatic amnesia lasting ≥24 h; 5) neuroimaging consistent with TBI; and/or 6) other evidence of TBI-related focal neurological findings. An observer (family member, close friend, or employer) with adequate interaction to observe irritability was required. Enrollment was further contingent upon medical and neurological stability, ability to comply with study protocol, negative pregnancy test, and creatinine clearance >60. Individuals were excluded if: 1) unable to interact and communicate; 2) threat of harm to self or other; 3) history of neurologic disorder, schizophrenia, or psychosis; 4) seizure in month preceding enrollment; 5) concomitant use of typical neuroleptic agents or monoamine oxidase inhibitors (because of potential drug interactions); and 6) amantadine ingested during the month preceding enrollment. All medications were on stable dosing for at least 1 month before enrollment with no plans to change medications during the 60-day study. Active rehabilitation therapies, behavior treatments, and counseling, if present, were started at least 1 month before enrollment, and none were started during the study. We did not attempt to record and compare groups on therapy involvement because both rehabilitation and psychological therapies may vary considerably in approach and quality among providers with no accepted method to quantify therapy impact. We relied on random assignment to control for this and other potential group differences.\n",
      "\n",
      "A sample of 168 was enrolled based on the sample needed to replicate the study of the effect of amantadine on the primary outcome (irritability).12 From the 168 study participants, a subset of 119 was selected with significant cognitive impairment as indicated by two or more cognitive test scores at least 1 standard deviation (SD) below normative values. Of this subset, 59 were in the amantadine group and 60 in the placebo group.\n",
      "\n",
      "\n",
      "Procedures\n",
      "\n",
      "Demographic, medical history, and injury data were collected and verified through interview and record review. Measures of participant mood and behavior were administered to the participant and the participant's observer. Cognitive performance tests were administered by trained study coordinators and audio recorded for quality assurance review. After confirmation of eligibility and baseline assessment, participants were randomly allocated 1:1 to take amantadine (100 mg every morning and noon) or placebo equivalent. In cases of presumed drug intolerance, the dose was reduced or terminated per pre-specified protocol. Participants and observers completed the assessment measures at baseline and treatment days 28 and 60.\n",
      "\n",
      "\n",
      "Randomization and masking\n",
      "\n",
      "The DCC conducted computer-generated block randomization and concealed group allocation. After the site coordinators entered the participant's eligibility data into the study webpage and eligibility confirmed, the DCC assigned a study number that indicated which study drug kit to dispense. Randomization was stratified on presence of depression at time of enrollment (<13 vs. ≥13 on the Beck Depression Inventory [BDI]–II)13 based on possible association of depression with irritability. The compounding pharmacist and DCC had access to group assignment; all other study personnel, participants, and observers were blinded to group allocation.\n",
      "\n",
      "\n",
      "Measures\n",
      "\n",
      "A battery of neuropsychological measures with well-established psychometric properties was used14–19 (see Table 1). Scores from these measures were converted to standardized scores using the appropriate norm sets.\n",
      "\n",
      " 1.\n",
      "Measure\tCognitive functions measured\n",
      "Digit Span, Wechsler Memory Scale–III\tAttention, working memory\n",
      "Trail Making Test\tAlternating attention, visual-motor coordination\n",
      "Controlled Oral Word Association Test (COWAT)\tVerbal fluency, executive function\n",
      "California Verbal Learning Test-II (CVLT-II)\tVerbal learning and recall\n",
      "WAIS-III Processing Speed Index (PSI; comprised of Digit Symbol and Symbol Search)\tAttention, visual-motor coordination, and psychomotor speed\n",
      "\n",
      "\n",
      "Other measures\n",
      "\n",
      "Data were collected to characterize the sample (see Table 2).\n",
      "\n",
      " 2.\n",
      " \tTreatment group\n",
      "Characteristic\tOverall\tPlacebo\tTreatment\tSig.\n",
      "Subjects\t119\t60\t59\t \n",
      "Age, years\t \n",
      "Mean (SD)\t38.6 (12.4)\t37.4 (12.2)\t39.9 (12.6)\t0.258\n",
      "<40\t67 (56%)\t34 (57%)\t33 (56%)\t \n",
      "≥40\t52 (44%)\t26 (43%)\t26 (44%)\t \n",
      "Years post-injury\t \n",
      "Mean (SD)\t6.2 (5.5)\t6.0 (5.1)\t6.3 (6.0)\t0.823\n",
      "<5\t64 (54%)\t34 (57%)\t30 (51%)\t \n",
      "≥5\t55 (46%)\t26 (43%)\t29 (49%)\t \n",
      "Race\t \n",
      "White\t103 (87%)\t52 (87%)\t51 (86%)\t1.000\n",
      "Black\t9 (8%)\t4 (7%)\t5 (8%)\t \n",
      "Other\t7 (6%)\t4 (7%)\t3 (5%)\t \n",
      "Education years\t \n",
      "Mean (SD)\t13.3 (2.1)\t13.3 (2.2)\t13.3 (1.9)\t0.983\n",
      "A: Less than HS\t11 (9%)\t7 (12%)\t4 (7%)\t \n",
      "B: High school/GED\t42 (35%)\t19 (32%)\t23 (39%)\t \n",
      "C: Some college\t49 (41%)\t26 (43%)\t23 (39%)\t \n",
      "D: 4yr+ degree\t17 (14%)\t8 (13%)\t9 (15%)\t \n",
      "Primary activity\t \n",
      "Student\t8 (7%)\t3 (5%)\t5 (8%)\t0.332\n",
      "Competitively employed\t17 (14%)\t11 (18%)\t6 (10%)\t \n",
      "Retired\t51 (43%)\t25 (42%)\t26 (44%)\t \n",
      "Unemployed\t32 (27%)\t18 (30%)\t14 (24%)\t \n",
      "Other\t11 (9%)\t3 (5%)\t8 (14%)\t \n",
      "Post-traumatic amnesia\t \n",
      "0: None\t5 (4%)\t2 (4%)\t3 (5%)\t0.709\n",
      "1: 1–30 min\t3 (3%)\t2 (4%)\t1 (2%)\t \n",
      "2: >30 min to <1 day\t1 (1%)\t0 (0%)\t1 (2%)\t \n",
      "3: ≥1 day\t104 (92%)\t53 (93%)\t51 (91%)\t \n",
      "Unknown\t6\t3\t \n",
      "Loss of consciousness\t \n",
      "0: None\t9 (8%)\t6 (10%)\t3 (5%)\t0.192\n",
      "1: 1–30 min\t11 (10%)\t6 (10%)\t5 (9%)\t \n",
      "2: >30 min to <1 day\t14 (12%)\t9 (15%)\t5 (9%)\t \n",
      "3: ≥1 day\t81 (70%)\t39 (65%)\t42 (76%)\t \n",
      "Unknown\t4\t0\t4\t \n",
      "Depression\t \n",
      "BDI <13\t38 (32%)\t19 (32%)\t1.000\n",
      "BDI ≥13\t81 (68%)\t41 (68%)\t40 (68%)\t \n",
      " \n",
      "\n",
      "\n",
      "Statistical analysis\n",
      "\n",
      "Analyses were performed using SAS® statistical software (version 9.3; SAS Institute Inc., Cary, NC).20 A two-tailed p value <0.05 was considered statistically significant.\n",
      "\n",
      "Cognitive performance composites were constructed by converting each individual score to a sample percentile (i.e., the rank divided by the number of available scores) and calculating the mean percentile for each subject across all relevant measures.21 A high score corresponded to a good outcome for all measures and composites. (Note: Due to a few missing values, the overall sample mean for each composite does not equal exactly 50.) The following indices were created:\n",
      "\n",
      "\n",
      "\n",
      "Learning Memory Index (LMI): Comprised of the following California Verbal Learning Test (CVLT) measures: Trials 1–5 Total Score (T-score), Short Delay Free Recall (Z score), Short Delay Cued Recall (Z score), Long Delay Free Recall (Z score), and Long Delay Cued Recall (Z score).\n",
      "\n",
      "\n",
      "Attention/Processing Speed Index (APSI): Comprised of Digit Span (Scaled Score), Processing Speed Index, Trail Making Test–A (T Score), Trail Making Test–B (T score), and Controlled Oral Word Association Test (COWAT; T score).\n",
      "\n",
      "\n",
      "General Cognitive Index (CGI): Comprised of measures in LMI and APSI.\n",
      "\n",
      "\n",
      "Baseline Cognitive Index (BCI): Baseline CGI.\n",
      "\n",
      "Treatment groups were compared on baseline characteristics and BCI. For ordinal variables, the normal approximation for the Wilcoxon rank-sum test was used. For categorical variables, Fisher's exact tests were used.\n",
      "\n",
      "Analyses were performed using the intention-to-treat principle. Pre-specified outcome analyses included: 1) comparison of the change in cognitive performance scores from baseline to day 28 and baseline to day 60 and 2) comparison of the change in cognitive indices (GCI, LMI, and APSI) from baseline to day 28 and baseline to day 60 using linear mixed-effects modeling, where each subject was modeled with a random slope and intercept, time was treated as categorical, and no other covariates were included in the models.\n",
      "\n",
      "\n",
      "Results\n",
      "\n",
      "\n",
      "Participants\n",
      "\n",
      "From August 2009 to April 2013, 168 individuals (enrollment target for irritability outcome) were enrolled and randomized, with 119 meeting criteria for cognitive impairment (60 placebo and 59 amantadine) as outlined in Figure 1.8 Compliance, defined as ≥80% prescribed study drug consumed per pill count, was high (88.5% in amantadine group and 86.9% in placebo group). Eleven participants (6.6%; 4 placebo and 7 amantadine) did not complete the study. On rare occasions, study participants were unable to complete the cognitive tests (e.g., inability to present in-person). Supplementary Digital Content Table (see online supplementary material at http://www.liebertpub.com) provides an inventory of neuropsychological measure availability (sample size) for each treatment group by assessment interval.\n",
      "\n",
      "FIG. 1. Participant flow diagram. SD, standard deviation.\n",
      "\n",
      "\n",
      "Table 2 summarizes and compares the baseline demographic and injury characteristics of the amantadine and placebo groups. Groups were well matched with respect to baseline factors. Table 3 compares the baseline scores for the neuropsychological test variables by treatment group. Baseline scores for the placebo group were slightly lower than that for the treatment group, but only PSI was nominally significant (p = 0.048).\n",
      "\n",
      " 3.\n",
      " \tRaw scores\tLinear model\n",
      "Outcome measure\tDay\tPlacebo\tTreatment\tDifference\tChange from baseline\tModel-adjusted change\tSig.\t95% CI\n",
      "Rey (T)\t0\t34.5\t37.7\t3.16\t \n",
      " \t28\t41.7\t41.1\t–0.58\t–3.74\t–3.62\t0.045\t(−7.16, −0.08)\n",
      " \t60\t43.5\t46.9\t3.45\t0.29\t–0.46\t0.801\t(−4.05, 3.13)\n",
      "Short Delay Free (Z)\t0\t–1.43\t–1.32\t0.11\t \n",
      " \t28\t–0.94\t–1.01\t–0.07\t–0.18\t–0.21\t0.231\t(−0.55, 0.13)\n",
      " \t60\t-0.77\t–0.63\t0.15\t0.04\t–0.06\t0.720\t(−0.41, 0.29)\n",
      "Short Delay Cued (Z)\t0\t–1.43\t–1.30\t0.13\t \n",
      " \t28\t–0.91\t–1.01\t–0.10\t–0.22\t–0.25\t0.154\t(−0.58, 0.09)\n",
      " \t60\t–0.71\t–0.60\t0.11\t–0.01\t–0.12\t0.482\t(−0.47, 0.22)\n",
      "Long Delay Free (Z)\t0\t–1.66\t–1.45\t0.21\t \n",
      " \t28\t–1.00\t–1.16\t–0.16\t–0.37\t–0.40\t0.020\t(−0.73, −0.06)\n",
      " \t60\t–0.88\t–0.79\t0.09\t–0.12\t–0.24\t0.171\t(−0.58, 0.10)\n",
      "Long Delay Cued (Z)\t0\t–1.58\t–1.44\t0.13\t \n",
      " \t28\t–0.95\t–1.08\t–0.13\t–0.27\t–0.28\t0.074\t(−0.59, 0.03)\n",
      " \t60\t–0.71\t–0.64\t0.06\t–0.07\t–0.20\t0.216\t(−0.51, 0.12)\n",
      "Digit Span\t0\t8.47\t8.75\t0.28\t \n",
      " \t28\t9.02\t9.07\t0.06\t–0.22\t–0.14\t0.670\t(−0.76, 0.49)\n",
      " \t60\t8.95\t9.27\t0.33\t0.05\t0.13\t0.682\t(−0.50, 0.77)\n",
      "PSI\t0\t78.5\t83.0\t4.53\t \n",
      " \t28\t83.6\t85.9\t2.34\t–2.19\t–1.33\t0.299\t(−3.85, 1.19)\n",
      " \t60\t84.5\t88.8\t4.36\t–0.17\t0.14\t0.914\t(−2.42, 2.71)\n",
      "Trail A (T)\t0\t36.4\t39.8\t3.46\t \n",
      " \t28\t40.3\t42.0\t1.69\t–1.78\t–0.85\t0.625\t(−4.25, 2.56)\n",
      " \t60\t41.9\t45.0\t3.14\t–0.32\t–0.25\t0.888\t(−3.71, 3.22)\n",
      "Trail B (T)\t0\t37.6\t39.5\t1.93\t \n",
      " \t28\t41.4\t41.0\t–0.35\t–2.28\t–1.20\t0.522\t(−4.91, 2.50)\n",
      " \t60\t40.1\t42.5\t2.34\t0.41\t0.37\t0.846\t(−3.38, 4.13)\n",
      "COWAT\t0\t37.6\t36.3\t–1.36\t \n",
      " \t28\t38.8\t38.5\t–0.26\t1.10\t1.34\t0.251\t(−0.95, 3.63)\n",
      " \t60\t39.5\t39.9\t0.42\t1.79\t2.12\t0.074\t(−0.21, 4.45)\n",
      "Overall Composite (GCI)\t0\t47.3\t52.7\t5.37\t \n",
      " \t28\t50.6\t49.2\t–1.39\t-6.76\t–6.24\t0.002\t(−10.14, −2.34)\n",
      " \t60\t48.3\t51.9\t3.58\t–1.79\t–2.62\t0.195\t(−6.59, 1.35)\n",
      "Learning/ Memory Index (LMI)\t0\t46.7\t53.4\t6.69\t \n",
      " \t28\t51.5\t48.3\t–3.20\t–9.90\t–10.16\t0.001\t(−16.32, −4.00)\n",
      " \t60\t48.4\t51.9\t3.49\t–3.20\t–5.37\t0.093\t(−11.63, 0.90)\n",
      "Attention/ Processing Speed Index (APSI)\t0\t48.0\t52.0\t4.04\t \n",
      " \t28\t49.6\t50.2\t0.57\t–3.46\t–2.11\t0.250\t(−5.71, 1.49)\n",
      " \t60\t48.2\t51.9\t3.67\t–0.36\t0.26\t0.889\t(−3.41, 3.93)\n",
      "\n",
      "\n",
      "Treatment group comparisons\n",
      "\n",
      "The unadjusted standardized scores and change from baseline are displayed in Table 3 sorted by assessment interval and treatment group. At day 28, the mean change for the placebo group demonstrated greater improvement than for the amantadine group for all the measures except Digit Span and COWAT. Because change from baseline was apparent at day 28 on the memory measures but not the nonmemory measures, we examined the degree of change on individual memory tests included in the CVLT. A high percent of those in the placebo group showed positive change from baseline to day 28 (59–65%) compared to the amantadine group (46–53%) on all CVLT measures. Note that except for baseline measures in the placebo group, all scores for both groups were within normal limits defined as within 1 SD of the normative group mean.\n",
      "\n",
      "Results of the mixed-effects linear regression modeling of the cognitive indices are summarized in Table 3. Greater improvement in GCI (6.2 percentiles; 95% confidence interval [CI], 2.3–10.1; p = 0.002) and LMI (10.2; 95% CI, 4.0–16.3; p = 0.001) was found for the placebo group compared to the amantadine group at day 28. Improvement in APSI did not significantly differ between the groups (p = 0.250). At day 60, no significant between-group differences were observed for any of the indices.\n",
      "\n",
      "\n",
      "Adverse events\n",
      "\n",
      "Amantadine was well tolerated among study participants with no significant between-group differences on withdrawals/lost or adverse events (using Fisher's exact test). Adverse events are summarized elsewhere.12\n",
      "\n",
      "\n",
      "Discussion\n",
      "\n",
      "This is the largest study to examine the effect of amantadine on cognitive performance in chronic TBI. In this chronic (>6 months) TBI sample with behavioral disturbance, both amantadine and placebo groups showed improvement on the cognitive measures and indices, with several memory measures demonstrating superior improvements in the placebo group at day 28. No significant group differences were found at day 60. Such significant placebo effects can be observed in chronic populations, but the difference suggests a marginally negative impact of amantadine on cognition.22\n",
      "\n",
      "Both groups showed increases in normed scores on memory measures from baseline to day 28 and day 28 to day 60, likely attributed to practice effects. On most tests, the placebo group started from a nonsignificantly lower baseline. However, controlling for baseline, the placebo group showed slightly greater improvement on both GCI and LMI from baseline to day 28 compared to the treatment group, amounting to approximately 0.25 SD. However, by day 60, any difference in the amount of change from baseline between the two groups on memory measures was negligible. The most straightforward explanation could be that amantadine in the treatment group caused a temporary decrease in the expected practice effect on these memory measures, but by day 60, this temporary practice effect inhibition resolved so that both groups had equivalent practice effect from baseline to day 60. Alternatively, amantadine may have acted on limbic instability in this population with behavioral dysregulation, possibly downregulating behavioral and cognitive processing. In theory, amantadine might help mediate mesolimbic circuit regulation through dopaminergic mechanisms and impact behavior. However, the impact of amantadine on new learning and long-term potentiation is less clear given that these functions could be negatively impacted by amantadine's NMDA receptor antagonism.23 Other potential mechanisms include induction of depression and altered striatal plasticity.24 It is unlikely that a ceiling effect inhibited the practice effect in the amantadine group at 28 days given that this group continued to achieve higher scores at 60 days, and at 60 days reasserted their advantage observed at baseline.\n",
      "\n",
      "The community-dwelling sample studied here was significantly impaired as demonstrated in Table 3. The mean on most tests for the sample is greater than 1.5 SD below the normative mean at baseline, suggesting that a substantial proportion of the sample scored even lower on these tests. It is possible that an extremely cognitively impaired population requiring residential care might respond to amantadine.\n",
      "\n",
      "Although LMI improvement was superior for the placebo group, the effect may not have been specific to learning and memory. Learning and memory are dependent on other functions, such as distractibility or fatigue with extended cognitive tasks, which may have contributed to the transient reduction in cognitive functioning in the treatment group. Other than assuring that medications were not added or dosage changed during the study, we did not control for the use of other drugs, which may have affected our findings. Additionally, a constant challenge in chronic TBI intervention studies is the heterogeneous nature of the injuries. In future studies, it would be interesting to evaluate other markers of brain function, including blood flow or inflammation, to further characterize the participants and evaluate the brain's ability to respond to stimuli.\n",
      "\n",
      "From a clinical standpoint, any neurostimulant or other neuromodulatory treatment may not be effective without additional directed therapy to practice the targeted cognitive ability. Amantadine has been shown to accelerate functional outcome acutely in minimally conscious state and vegetative state3,4 and improve irritable and aggressive behavior in chronic TBI.12,25 The risk-benefit profile of deciding on treatment will be different for each individual.\n",
      "\n",
      "Taken together, these findings provide no evidence to support the prevailing belief that amantadine at 100 mg twice-daily dosing improves overall cognitive function, learning memory, attention, and processing speed in patients with chronic TBI, as measured by the neuropsychological measures used in this study. Only a couple of small studies have looked at the effect of amantadine on cognition previously. These earlier studies, using 200–400 mg/day, had mixed results. Along with our findings, studies to date provide no consistent evidence of amantadine's efficacy for improving overall cognitive function or specific aspects of cognitive function in individuals with complex mild-to-severe TBI. It would be useful, however, to reproduce this study in children and adolescents.\n",
      "\n",
      "This study reports solely on changes on neuropsychological measures and does not include other means of function. The cohort's response of amantadine in respect to neurobehavioral function has been reported elsewhere.12,25 A study of the effect of amantadine on recovery of consciousness in patients with acute TBI (median 47 or 48 days post-injury)3 found that patients treated with amantadine showed more rapid improvement in responsiveness than those treated with a placebo, with no group differences after a washout period. A smaller study (n = 35) of individuals with acute TBI found greater improvements in Mini-Mental Status, Disability Rating Scale, GCS, and Functional Independence Measure who received amantadine 200 mg as compared to placebo for 6 weeks from time of injury to up to 12 weeks post-injury in a cross-over design.26 Perhaps there is a critical interval early post-injury during which treatment with amantadine improves consciousness even if this advantage is short-lived. Such an effect would not have been detected in the current investigation with randomization an average of 6 years post-injury. Certainly, arousal and consciousness differ from cognitive function, and amantadine would be expected to differentially impact these functions.\n",
      "\n",
      "Of note, the date of injury for this cohort occurred up to as early as 6 months post-injury. Given that cognitive and neurobehavioral improvements may continue over the years post-injury, we do not know to what extent these individuals have or have not reached a cognitive and/or neurobehavioral plateau. Whereas the study enrolled individuals up to 6 months post-injury, the average time post-injury was 6.2 years (5.5 SD), with 46% more than 5 years post-injury.27 If the study had found positive changes post-injury, it is reasonable to ask how much is attributed to natural recovery versus how much is attributed to amantadine. However, in this study, which did not find positive change in cognitive function, the issue of ongoing recovery/change is not an explanation for our findings.\n",
      "\n",
      "\n",
      "Limitations\n",
      "\n",
      "An evaluation of the effect of amantadine on cognition was not the primary focus of this study. Participants were not screened for a particular level of cognitive impairment. This resulted in a cohort that was probably performing at expectation for persons with history of complicated mild-to-severe TBI. If we had screened for persons with greater than typical cognitive impairment in the chronic period after TBI, our study may have provided a more useful test of the possible effect of amantadine on cognitive impairment. Additionally, by selecting those with behavioral disturbance, the benefit may have focused on behavioral dysfunction at the price of cognitive processing perhaps by regulating limbic function. Last, the heterogeneity of the group may have impacted the results, and those with either more-severe or less-severe patterns of deficits or specific biological patterns may have represented a better focused target.\n",
      "\n",
      "\n",
      "Conclusion\n",
      "\n",
      "This is the largest known clinical trial to assess the effect of amantadine on cognitive function among individuals with chronic TBI. Amantadine 100 mg twice-daily in this population with chronic TBI appears not to be beneficial for overall cognition. Amantadine may have a small, transient negative impact on cognitive functioning during the first month of treatment. The use of amantadine to enhance cognitive function is not supported by the study findings.\n",
      "\n",
      "\n",
      "Supplementary Material\n",
      "\n",
      "\n",
      "Supplemental data\n"
     ]
    }
   ],
   "source": [
    "print(art[\"extracted_text\"])"
   ]
  },
  {
   "cell_type": "code",
   "execution_count": 36,
   "metadata": {},
   "outputs": [],
   "source": [
    "article = Article(art[\"xml\"])"
   ]
  },
  {
   "cell_type": "code",
   "execution_count": 136,
   "metadata": {},
   "outputs": [
    {
     "data": {
      "text/plain": [
       "'research-article'"
      ]
     },
     "execution_count": 136,
     "metadata": {},
     "output_type": "execute_result"
    }
   ],
   "source": [
    "article.article_type()"
   ]
  },
  {
   "cell_type": "code",
   "execution_count": 175,
   "metadata": {},
   "outputs": [
    {
     "data": {
      "text/plain": [
       "'PLoS ONE'"
      ]
     },
     "execution_count": 175,
     "metadata": {},
     "output_type": "execute_result"
    }
   ],
   "source": [
    "article.soup.find(\"front\").find(\"journal-meta\").find(\"journal-title\").get_text()"
   ]
  },
  {
   "cell_type": "code",
   "execution_count": 176,
   "metadata": {},
   "outputs": [
    {
     "data": {
      "text/plain": [
       "'PLoS ONE'"
      ]
     },
     "execution_count": 176,
     "metadata": {},
     "output_type": "execute_result"
    }
   ],
   "source": [
    "article.journal_title()"
   ]
  },
  {
   "cell_type": "markdown",
   "metadata": {},
   "source": [
    "## DataFrame scratch"
   ]
  },
  {
   "cell_type": "code",
   "execution_count": 107,
   "metadata": {},
   "outputs": [],
   "source": [
    "foo = pd.DataFrame()"
   ]
  },
  {
   "cell_type": "code",
   "execution_count": 117,
   "metadata": {},
   "outputs": [
    {
     "data": {
      "text/html": [
       "<div>\n",
       "<style scoped>\n",
       "    .dataframe tbody tr th:only-of-type {\n",
       "        vertical-align: middle;\n",
       "    }\n",
       "\n",
       "    .dataframe tbody tr th {\n",
       "        vertical-align: top;\n",
       "    }\n",
       "\n",
       "    .dataframe thead th {\n",
       "        text-align: right;\n",
       "    }\n",
       "</style>\n",
       "<table border=\"1\" class=\"dataframe\">\n",
       "  <thead>\n",
       "    <tr style=\"text-align: right;\">\n",
       "      <th></th>\n",
       "      <th>one</th>\n",
       "      <th>two</th>\n",
       "    </tr>\n",
       "  </thead>\n",
       "  <tbody>\n",
       "    <tr>\n",
       "      <th>0</th>\n",
       "      <td>10</td>\n",
       "      <td>dog</td>\n",
       "    </tr>\n",
       "  </tbody>\n",
       "</table>\n",
       "</div>"
      ],
      "text/plain": [
       "   one  two\n",
       "0   10  dog"
      ]
     },
     "execution_count": 117,
     "metadata": {},
     "output_type": "execute_result"
    }
   ],
   "source": [
    "pd.DataFrame({\"one\": [10], \"two\": [\"dog\"]})"
   ]
  },
  {
   "cell_type": "code",
   "execution_count": 119,
   "metadata": {},
   "outputs": [
    {
     "data": {
      "text/html": [
       "<div>\n",
       "<style scoped>\n",
       "    .dataframe tbody tr th:only-of-type {\n",
       "        vertical-align: middle;\n",
       "    }\n",
       "\n",
       "    .dataframe tbody tr th {\n",
       "        vertical-align: top;\n",
       "    }\n",
       "\n",
       "    .dataframe thead th {\n",
       "        text-align: right;\n",
       "    }\n",
       "</style>\n",
       "<table border=\"1\" class=\"dataframe\">\n",
       "  <thead>\n",
       "    <tr style=\"text-align: right;\">\n",
       "      <th></th>\n",
       "      <th>one</th>\n",
       "      <th>two</th>\n",
       "    </tr>\n",
       "  </thead>\n",
       "  <tbody>\n",
       "    <tr>\n",
       "      <th>0</th>\n",
       "      <td>10</td>\n",
       "      <td>dog</td>\n",
       "    </tr>\n",
       "  </tbody>\n",
       "</table>\n",
       "</div>"
      ],
      "text/plain": [
       "   one  two\n",
       "0   10  dog"
      ]
     },
     "execution_count": 119,
     "metadata": {},
     "output_type": "execute_result"
    }
   ],
   "source": [
    "pd.DataFrame.from_records([{\"one\": 10, \"two\": \"dog\"}])"
   ]
  },
  {
   "cell_type": "code",
   "execution_count": 112,
   "metadata": {},
   "outputs": [
    {
     "data": {
      "text/html": [
       "<div>\n",
       "<style scoped>\n",
       "    .dataframe tbody tr th:only-of-type {\n",
       "        vertical-align: middle;\n",
       "    }\n",
       "\n",
       "    .dataframe tbody tr th {\n",
       "        vertical-align: top;\n",
       "    }\n",
       "\n",
       "    .dataframe thead th {\n",
       "        text-align: right;\n",
       "    }\n",
       "</style>\n",
       "<table border=\"1\" class=\"dataframe\">\n",
       "  <thead>\n",
       "    <tr style=\"text-align: right;\">\n",
       "      <th></th>\n",
       "      <th>A</th>\n",
       "    </tr>\n",
       "  </thead>\n",
       "  <tbody>\n",
       "    <tr>\n",
       "      <th>0</th>\n",
       "      <td>0</td>\n",
       "    </tr>\n",
       "    <tr>\n",
       "      <th>1</th>\n",
       "      <td>1</td>\n",
       "    </tr>\n",
       "    <tr>\n",
       "      <th>2</th>\n",
       "      <td>2</td>\n",
       "    </tr>\n",
       "    <tr>\n",
       "      <th>3</th>\n",
       "      <td>3</td>\n",
       "    </tr>\n",
       "    <tr>\n",
       "      <th>4</th>\n",
       "      <td>4</td>\n",
       "    </tr>\n",
       "  </tbody>\n",
       "</table>\n",
       "</div>"
      ],
      "text/plain": [
       "   A\n",
       "0  0\n",
       "1  1\n",
       "2  2\n",
       "3  3\n",
       "4  4"
      ]
     },
     "execution_count": 112,
     "metadata": {},
     "output_type": "execute_result"
    }
   ],
   "source": [
    "pd.concat([pd.DataFrame([i], columns=['A']) for i in range(5)],ignore_index=True)"
   ]
  },
  {
   "cell_type": "code",
   "execution_count": null,
   "metadata": {},
   "outputs": [],
   "source": [
    "pd.concat([foo])"
   ]
  },
  {
   "cell_type": "markdown",
   "metadata": {},
   "source": [
    "## Count article types and other metadata"
   ]
  },
  {
   "cell_type": "markdown",
   "metadata": {},
   "source": [
    "TODO: Check if an article's `_id` is in `result_set` and add those to a different default_dict"
   ]
  },
  {
   "cell_type": "code",
   "execution_count": 25,
   "metadata": {},
   "outputs": [
    {
     "data": {
      "text/plain": [
       "211"
      ]
     },
     "execution_count": 25,
     "metadata": {},
     "output_type": "execute_result"
    }
   ],
   "source": [
    "articles.count_documents({})"
   ]
  },
  {
   "cell_type": "code",
   "execution_count": 15,
   "metadata": {},
   "outputs": [
    {
     "ename": "KeyboardInterrupt",
     "evalue": "",
     "output_type": "error",
     "traceback": [
      "\u001b[0;31m---------------------------------------------------------------------------\u001b[0m",
      "\u001b[0;31mKeyboardInterrupt\u001b[0m                         Traceback (most recent call last)",
      "\u001b[0;32m<ipython-input-15-ff577f9bb7c5>\u001b[0m in \u001b[0;36m<module>\u001b[0;34m\u001b[0m\n\u001b[0;32m----> 1\u001b[0;31m \u001b[0mcursor\u001b[0m \u001b[0;34m=\u001b[0m \u001b[0marticles\u001b[0m\u001b[0;34m.\u001b[0m\u001b[0maggregate\u001b[0m\u001b[0;34m(\u001b[0m\u001b[0;34m[\u001b[0m\u001b[0;34m{\u001b[0m \u001b[0;34m\"$sample\"\u001b[0m\u001b[0;34m:\u001b[0m \u001b[0;34m{\u001b[0m \u001b[0;34m\"size\"\u001b[0m\u001b[0;34m:\u001b[0m \u001b[0marticles\u001b[0m\u001b[0;34m.\u001b[0m\u001b[0mcount_documents\u001b[0m\u001b[0;34m(\u001b[0m\u001b[0;34m{\u001b[0m\u001b[0;34m}\u001b[0m\u001b[0;34m)\u001b[0m \u001b[0;34m}\u001b[0m \u001b[0;34m}\u001b[0m\u001b[0;34m]\u001b[0m\u001b[0;34m)\u001b[0m\u001b[0;34m\u001b[0m\u001b[0;34m\u001b[0m\u001b[0m\n\u001b[0m",
      "\u001b[0;32m~/.virtualenvs/ai4e-data-labeling/lib/python3.7/site-packages/pymongo/collection.py\u001b[0m in \u001b[0;36mcount_documents\u001b[0;34m(self, filter, session, **kwargs)\u001b[0m\n\u001b[1;32m   1683\u001b[0m         \u001b[0;32mwith\u001b[0m \u001b[0mself\u001b[0m\u001b[0;34m.\u001b[0m\u001b[0m_socket_for_reads\u001b[0m\u001b[0;34m(\u001b[0m\u001b[0msession\u001b[0m\u001b[0;34m)\u001b[0m \u001b[0;32mas\u001b[0m \u001b[0;34m(\u001b[0m\u001b[0msock_info\u001b[0m\u001b[0;34m,\u001b[0m \u001b[0mslave_ok\u001b[0m\u001b[0;34m)\u001b[0m\u001b[0;34m:\u001b[0m\u001b[0;34m\u001b[0m\u001b[0;34m\u001b[0m\u001b[0m\n\u001b[1;32m   1684\u001b[0m             result = self._aggregate_one_result(\n\u001b[0;32m-> 1685\u001b[0;31m                 sock_info, slave_ok, cmd, collation, session)\n\u001b[0m\u001b[1;32m   1686\u001b[0m         \u001b[0;32mif\u001b[0m \u001b[0;32mnot\u001b[0m \u001b[0mresult\u001b[0m\u001b[0;34m:\u001b[0m\u001b[0;34m\u001b[0m\u001b[0;34m\u001b[0m\u001b[0m\n\u001b[1;32m   1687\u001b[0m             \u001b[0;32mreturn\u001b[0m \u001b[0;36m0\u001b[0m\u001b[0;34m\u001b[0m\u001b[0;34m\u001b[0m\u001b[0m\n",
      "\u001b[0;32m~/.virtualenvs/ai4e-data-labeling/lib/python3.7/site-packages/pymongo/collection.py\u001b[0m in \u001b[0;36m_aggregate_one_result\u001b[0;34m(self, sock_info, slave_ok, cmd, collation, session)\u001b[0m\n\u001b[1;32m   1585\u001b[0m             \u001b[0mread_concern\u001b[0m\u001b[0;34m=\u001b[0m\u001b[0mself\u001b[0m\u001b[0;34m.\u001b[0m\u001b[0mread_concern\u001b[0m\u001b[0;34m,\u001b[0m\u001b[0;34m\u001b[0m\u001b[0;34m\u001b[0m\u001b[0m\n\u001b[1;32m   1586\u001b[0m             \u001b[0mcollation\u001b[0m\u001b[0;34m=\u001b[0m\u001b[0mcollation\u001b[0m\u001b[0;34m,\u001b[0m\u001b[0;34m\u001b[0m\u001b[0;34m\u001b[0m\u001b[0m\n\u001b[0;32m-> 1587\u001b[0;31m             session=session)\n\u001b[0m\u001b[1;32m   1588\u001b[0m         \u001b[0mbatch\u001b[0m \u001b[0;34m=\u001b[0m \u001b[0mresult\u001b[0m\u001b[0;34m[\u001b[0m\u001b[0;34m'cursor'\u001b[0m\u001b[0;34m]\u001b[0m\u001b[0;34m[\u001b[0m\u001b[0;34m'firstBatch'\u001b[0m\u001b[0;34m]\u001b[0m\u001b[0;34m\u001b[0m\u001b[0;34m\u001b[0m\u001b[0m\n\u001b[1;32m   1589\u001b[0m         \u001b[0;32mreturn\u001b[0m \u001b[0mbatch\u001b[0m\u001b[0;34m[\u001b[0m\u001b[0;36m0\u001b[0m\u001b[0;34m]\u001b[0m \u001b[0;32mif\u001b[0m \u001b[0mbatch\u001b[0m \u001b[0;32melse\u001b[0m \u001b[0;32mNone\u001b[0m\u001b[0;34m\u001b[0m\u001b[0;34m\u001b[0m\u001b[0m\n",
      "\u001b[0;32m~/.virtualenvs/ai4e-data-labeling/lib/python3.7/site-packages/pymongo/collection.py\u001b[0m in \u001b[0;36m_command\u001b[0;34m(self, sock_info, command, slave_ok, read_preference, codec_options, check, allowable_errors, read_concern, write_concern, collation, session, retryable_write)\u001b[0m\n\u001b[1;32m    242\u001b[0m                 \u001b[0msession\u001b[0m\u001b[0;34m=\u001b[0m\u001b[0ms\u001b[0m\u001b[0;34m,\u001b[0m\u001b[0;34m\u001b[0m\u001b[0;34m\u001b[0m\u001b[0m\n\u001b[1;32m    243\u001b[0m                 \u001b[0mclient\u001b[0m\u001b[0;34m=\u001b[0m\u001b[0mself\u001b[0m\u001b[0;34m.\u001b[0m\u001b[0m__database\u001b[0m\u001b[0;34m.\u001b[0m\u001b[0mclient\u001b[0m\u001b[0;34m,\u001b[0m\u001b[0;34m\u001b[0m\u001b[0;34m\u001b[0m\u001b[0m\n\u001b[0;32m--> 244\u001b[0;31m                 retryable_write=retryable_write)\n\u001b[0m\u001b[1;32m    245\u001b[0m \u001b[0;34m\u001b[0m\u001b[0m\n\u001b[1;32m    246\u001b[0m     \u001b[0;32mdef\u001b[0m \u001b[0m__create\u001b[0m\u001b[0;34m(\u001b[0m\u001b[0mself\u001b[0m\u001b[0;34m,\u001b[0m \u001b[0moptions\u001b[0m\u001b[0;34m,\u001b[0m \u001b[0mcollation\u001b[0m\u001b[0;34m,\u001b[0m \u001b[0msession\u001b[0m\u001b[0;34m)\u001b[0m\u001b[0;34m:\u001b[0m\u001b[0;34m\u001b[0m\u001b[0;34m\u001b[0m\u001b[0m\n",
      "\u001b[0;32m~/.virtualenvs/ai4e-data-labeling/lib/python3.7/site-packages/pymongo/pool.py\u001b[0m in \u001b[0;36mcommand\u001b[0;34m(self, dbname, spec, slave_ok, read_preference, codec_options, check, allowable_errors, check_keys, read_concern, write_concern, parse_write_concern_error, collation, session, client, retryable_write, publish_events)\u001b[0m\n\u001b[1;32m    582\u001b[0m         \u001b[0;31m# Catch socket.error, KeyboardInterrupt, etc. and close ourselves.\u001b[0m\u001b[0;34m\u001b[0m\u001b[0;34m\u001b[0m\u001b[0;34m\u001b[0m\u001b[0m\n\u001b[1;32m    583\u001b[0m         \u001b[0;32mexcept\u001b[0m \u001b[0mBaseException\u001b[0m \u001b[0;32mas\u001b[0m \u001b[0merror\u001b[0m\u001b[0;34m:\u001b[0m\u001b[0;34m\u001b[0m\u001b[0;34m\u001b[0m\u001b[0m\n\u001b[0;32m--> 584\u001b[0;31m             \u001b[0mself\u001b[0m\u001b[0;34m.\u001b[0m\u001b[0m_raise_connection_failure\u001b[0m\u001b[0;34m(\u001b[0m\u001b[0merror\u001b[0m\u001b[0;34m)\u001b[0m\u001b[0;34m\u001b[0m\u001b[0;34m\u001b[0m\u001b[0m\n\u001b[0m\u001b[1;32m    585\u001b[0m \u001b[0;34m\u001b[0m\u001b[0m\n\u001b[1;32m    586\u001b[0m     \u001b[0;32mdef\u001b[0m \u001b[0msend_message\u001b[0m\u001b[0;34m(\u001b[0m\u001b[0mself\u001b[0m\u001b[0;34m,\u001b[0m \u001b[0mmessage\u001b[0m\u001b[0;34m,\u001b[0m \u001b[0mmax_doc_size\u001b[0m\u001b[0;34m)\u001b[0m\u001b[0;34m:\u001b[0m\u001b[0;34m\u001b[0m\u001b[0;34m\u001b[0m\u001b[0m\n",
      "\u001b[0;32m~/.virtualenvs/ai4e-data-labeling/lib/python3.7/site-packages/pymongo/pool.py\u001b[0m in \u001b[0;36m_raise_connection_failure\u001b[0;34m(self, error)\u001b[0m\n\u001b[1;32m    743\u001b[0m             \u001b[0m_raise_connection_failure\u001b[0m\u001b[0;34m(\u001b[0m\u001b[0mself\u001b[0m\u001b[0;34m.\u001b[0m\u001b[0maddress\u001b[0m\u001b[0;34m,\u001b[0m \u001b[0merror\u001b[0m\u001b[0;34m)\u001b[0m\u001b[0;34m\u001b[0m\u001b[0;34m\u001b[0m\u001b[0m\n\u001b[1;32m    744\u001b[0m         \u001b[0;32melse\u001b[0m\u001b[0;34m:\u001b[0m\u001b[0;34m\u001b[0m\u001b[0;34m\u001b[0m\u001b[0m\n\u001b[0;32m--> 745\u001b[0;31m             \u001b[0;32mraise\u001b[0m \u001b[0merror\u001b[0m\u001b[0;34m\u001b[0m\u001b[0;34m\u001b[0m\u001b[0m\n\u001b[0m\u001b[1;32m    746\u001b[0m \u001b[0;34m\u001b[0m\u001b[0m\n\u001b[1;32m    747\u001b[0m     \u001b[0;32mdef\u001b[0m \u001b[0m__eq__\u001b[0m\u001b[0;34m(\u001b[0m\u001b[0mself\u001b[0m\u001b[0;34m,\u001b[0m \u001b[0mother\u001b[0m\u001b[0;34m)\u001b[0m\u001b[0;34m:\u001b[0m\u001b[0;34m\u001b[0m\u001b[0;34m\u001b[0m\u001b[0m\n",
      "\u001b[0;32m~/.virtualenvs/ai4e-data-labeling/lib/python3.7/site-packages/pymongo/pool.py\u001b[0m in \u001b[0;36mcommand\u001b[0;34m(self, dbname, spec, slave_ok, read_preference, codec_options, check, allowable_errors, check_keys, read_concern, write_concern, parse_write_concern_error, collation, session, client, retryable_write, publish_events)\u001b[0m\n\u001b[1;32m    577\u001b[0m                            \u001b[0mcompression_ctx\u001b[0m\u001b[0;34m=\u001b[0m\u001b[0mself\u001b[0m\u001b[0;34m.\u001b[0m\u001b[0mcompression_context\u001b[0m\u001b[0;34m,\u001b[0m\u001b[0;34m\u001b[0m\u001b[0;34m\u001b[0m\u001b[0m\n\u001b[1;32m    578\u001b[0m                            \u001b[0muse_op_msg\u001b[0m\u001b[0;34m=\u001b[0m\u001b[0mself\u001b[0m\u001b[0;34m.\u001b[0m\u001b[0mop_msg_enabled\u001b[0m\u001b[0;34m,\u001b[0m\u001b[0;34m\u001b[0m\u001b[0;34m\u001b[0m\u001b[0m\n\u001b[0;32m--> 579\u001b[0;31m                            unacknowledged=unacknowledged)\n\u001b[0m\u001b[1;32m    580\u001b[0m         \u001b[0;32mexcept\u001b[0m \u001b[0mOperationFailure\u001b[0m\u001b[0;34m:\u001b[0m\u001b[0;34m\u001b[0m\u001b[0;34m\u001b[0m\u001b[0m\n\u001b[1;32m    581\u001b[0m             \u001b[0;32mraise\u001b[0m\u001b[0;34m\u001b[0m\u001b[0;34m\u001b[0m\u001b[0m\n",
      "\u001b[0;32m~/.virtualenvs/ai4e-data-labeling/lib/python3.7/site-packages/pymongo/network.py\u001b[0m in \u001b[0;36mcommand\u001b[0;34m(sock, dbname, spec, slave_ok, is_mongos, read_preference, codec_options, session, client, check, allowable_errors, address, check_keys, listeners, max_bson_size, read_concern, parse_write_concern_error, collation, compression_ctx, use_op_msg, unacknowledged)\u001b[0m\n\u001b[1;32m    139\u001b[0m             \u001b[0mresponse_doc\u001b[0m \u001b[0;34m=\u001b[0m \u001b[0;34m{\u001b[0m\u001b[0;34m\"ok\"\u001b[0m\u001b[0;34m:\u001b[0m \u001b[0;36m1\u001b[0m\u001b[0;34m}\u001b[0m\u001b[0;34m\u001b[0m\u001b[0;34m\u001b[0m\u001b[0m\n\u001b[1;32m    140\u001b[0m         \u001b[0;32melse\u001b[0m\u001b[0;34m:\u001b[0m\u001b[0;34m\u001b[0m\u001b[0;34m\u001b[0m\u001b[0m\n\u001b[0;32m--> 141\u001b[0;31m             \u001b[0mreply\u001b[0m \u001b[0;34m=\u001b[0m \u001b[0mreceive_message\u001b[0m\u001b[0;34m(\u001b[0m\u001b[0msock\u001b[0m\u001b[0;34m,\u001b[0m \u001b[0mrequest_id\u001b[0m\u001b[0;34m)\u001b[0m\u001b[0;34m\u001b[0m\u001b[0;34m\u001b[0m\u001b[0m\n\u001b[0m\u001b[1;32m    142\u001b[0m             \u001b[0munpacked_docs\u001b[0m \u001b[0;34m=\u001b[0m \u001b[0mreply\u001b[0m\u001b[0;34m.\u001b[0m\u001b[0munpack_response\u001b[0m\u001b[0;34m(\u001b[0m\u001b[0mcodec_options\u001b[0m\u001b[0;34m=\u001b[0m\u001b[0mcodec_options\u001b[0m\u001b[0;34m)\u001b[0m\u001b[0;34m\u001b[0m\u001b[0;34m\u001b[0m\u001b[0m\n\u001b[1;32m    143\u001b[0m \u001b[0;34m\u001b[0m\u001b[0m\n",
      "\u001b[0;32m~/.virtualenvs/ai4e-data-labeling/lib/python3.7/site-packages/pymongo/network.py\u001b[0m in \u001b[0;36mreceive_message\u001b[0;34m(sock, request_id, max_message_size)\u001b[0m\n\u001b[1;32m    171\u001b[0m     \u001b[0;31m# Ignore the response's request id.\u001b[0m\u001b[0;34m\u001b[0m\u001b[0;34m\u001b[0m\u001b[0;34m\u001b[0m\u001b[0m\n\u001b[1;32m    172\u001b[0m     length, _, response_to, op_code = _UNPACK_HEADER(\n\u001b[0;32m--> 173\u001b[0;31m         _receive_data_on_socket(sock, 16))\n\u001b[0m\u001b[1;32m    174\u001b[0m     \u001b[0;31m# No request_id for exhaust cursor \"getMore\".\u001b[0m\u001b[0;34m\u001b[0m\u001b[0;34m\u001b[0m\u001b[0;34m\u001b[0m\u001b[0m\n\u001b[1;32m    175\u001b[0m     \u001b[0;32mif\u001b[0m \u001b[0mrequest_id\u001b[0m \u001b[0;32mis\u001b[0m \u001b[0;32mnot\u001b[0m \u001b[0;32mNone\u001b[0m\u001b[0;34m:\u001b[0m\u001b[0;34m\u001b[0m\u001b[0;34m\u001b[0m\u001b[0m\n",
      "\u001b[0;32m~/.virtualenvs/ai4e-data-labeling/lib/python3.7/site-packages/pymongo/network.py\u001b[0m in \u001b[0;36m_receive_data_on_socket\u001b[0;34m(sock, length)\u001b[0m\n\u001b[1;32m    230\u001b[0m         \u001b[0;32mwhile\u001b[0m \u001b[0mbytes_read\u001b[0m \u001b[0;34m<\u001b[0m \u001b[0mlength\u001b[0m\u001b[0;34m:\u001b[0m\u001b[0;34m\u001b[0m\u001b[0;34m\u001b[0m\u001b[0m\n\u001b[1;32m    231\u001b[0m             \u001b[0;32mtry\u001b[0m\u001b[0;34m:\u001b[0m\u001b[0;34m\u001b[0m\u001b[0;34m\u001b[0m\u001b[0m\n\u001b[0;32m--> 232\u001b[0;31m                 \u001b[0mchunk_length\u001b[0m \u001b[0;34m=\u001b[0m \u001b[0msock\u001b[0m\u001b[0;34m.\u001b[0m\u001b[0mrecv_into\u001b[0m\u001b[0;34m(\u001b[0m\u001b[0mmv\u001b[0m\u001b[0;34m[\u001b[0m\u001b[0mbytes_read\u001b[0m\u001b[0;34m:\u001b[0m\u001b[0;34m]\u001b[0m\u001b[0;34m)\u001b[0m\u001b[0;34m\u001b[0m\u001b[0;34m\u001b[0m\u001b[0m\n\u001b[0m\u001b[1;32m    233\u001b[0m             \u001b[0;32mexcept\u001b[0m \u001b[0;34m(\u001b[0m\u001b[0mIOError\u001b[0m\u001b[0;34m,\u001b[0m \u001b[0mOSError\u001b[0m\u001b[0;34m)\u001b[0m \u001b[0;32mas\u001b[0m \u001b[0mexc\u001b[0m\u001b[0;34m:\u001b[0m\u001b[0;34m\u001b[0m\u001b[0;34m\u001b[0m\u001b[0m\n\u001b[1;32m    234\u001b[0m                 \u001b[0;32mif\u001b[0m \u001b[0m_errno_from_exception\u001b[0m\u001b[0;34m(\u001b[0m\u001b[0mexc\u001b[0m\u001b[0;34m)\u001b[0m \u001b[0;34m==\u001b[0m \u001b[0merrno\u001b[0m\u001b[0;34m.\u001b[0m\u001b[0mEINTR\u001b[0m\u001b[0;34m:\u001b[0m\u001b[0;34m\u001b[0m\u001b[0;34m\u001b[0m\u001b[0m\n",
      "\u001b[0;31mKeyboardInterrupt\u001b[0m: "
     ]
    }
   ],
   "source": [
    "cursor = articles.aggregate([{ \"$sample\": { \"size\": articles.count_documents({}) } }])"
   ]
  },
  {
   "cell_type": "code",
   "execution_count": null,
   "metadata": {},
   "outputs": [],
   "source": [
    "count = articles.count_documents({})\n",
    "cursor = articles.find({})"
   ]
  },
  {
   "cell_type": "code",
   "execution_count": 46,
   "metadata": {},
   "outputs": [
    {
     "name": "stdout",
     "output_type": "stream",
     "text": [
      "\u001b[F\u001b[KProcessed 175 articles (82.9%) in 0m8s; about 0m2s left.\n"
     ]
    },
    {
     "ename": "KeyboardInterrupt",
     "evalue": "",
     "output_type": "error",
     "traceback": [
      "\u001b[0;31m---------------------------------------------------------------------------\u001b[0m",
      "\u001b[0;31mKeyboardInterrupt\u001b[0m                         Traceback (most recent call last)",
      "\u001b[0;32m<ipython-input-46-1f74dba360bf>\u001b[0m in \u001b[0;36m<module>\u001b[0;34m\u001b[0m\n\u001b[1;32m      7\u001b[0m \u001b[0;34m\u001b[0m\u001b[0m\n\u001b[1;32m      8\u001b[0m     \u001b[0mrow\u001b[0m \u001b[0;34m=\u001b[0m \u001b[0;34m{\u001b[0m\u001b[0;34m}\u001b[0m\u001b[0;34m\u001b[0m\u001b[0;34m\u001b[0m\u001b[0m\n\u001b[0;32m----> 9\u001b[0;31m     \u001b[0marticle\u001b[0m \u001b[0;34m=\u001b[0m \u001b[0mArticle\u001b[0m\u001b[0;34m(\u001b[0m\u001b[0mrecord\u001b[0m\u001b[0;34m[\u001b[0m\u001b[0;34m\"xml\"\u001b[0m\u001b[0;34m]\u001b[0m\u001b[0;34m)\u001b[0m\u001b[0;34m\u001b[0m\u001b[0;34m\u001b[0m\u001b[0m\n\u001b[0m\u001b[1;32m     10\u001b[0m \u001b[0;34m\u001b[0m\u001b[0m\n\u001b[1;32m     11\u001b[0m     \u001b[0mrow\u001b[0m\u001b[0;34m[\u001b[0m\u001b[0;34m\"id\"\u001b[0m\u001b[0;34m]\u001b[0m \u001b[0;34m=\u001b[0m \u001b[0mrecord\u001b[0m\u001b[0;34m[\u001b[0m\u001b[0;34m\"_id\"\u001b[0m\u001b[0;34m]\u001b[0m\u001b[0;34m\u001b[0m\u001b[0;34m\u001b[0m\u001b[0m\n",
      "\u001b[0;32m~/Dropbox (EHA)/repositories/pubcrawler/pubcrawler/article.py\u001b[0m in \u001b[0;36m__init__\u001b[0;34m(self, xml)\u001b[0m\n\u001b[1;32m     13\u001b[0m     \u001b[0;32mdef\u001b[0m \u001b[0m__init__\u001b[0m\u001b[0;34m(\u001b[0m\u001b[0mself\u001b[0m\u001b[0;34m,\u001b[0m \u001b[0mxml\u001b[0m\u001b[0;34m)\u001b[0m\u001b[0;34m:\u001b[0m\u001b[0;34m\u001b[0m\u001b[0;34m\u001b[0m\u001b[0m\n\u001b[1;32m     14\u001b[0m         \u001b[0mself\u001b[0m\u001b[0;34m.\u001b[0m\u001b[0mxml\u001b[0m \u001b[0;34m=\u001b[0m \u001b[0mxml\u001b[0m\u001b[0;34m\u001b[0m\u001b[0;34m\u001b[0m\u001b[0m\n\u001b[0;32m---> 15\u001b[0;31m         \u001b[0mself\u001b[0m\u001b[0;34m.\u001b[0m\u001b[0msoup\u001b[0m \u001b[0;34m=\u001b[0m \u001b[0mBeautifulSoup\u001b[0m\u001b[0;34m(\u001b[0m\u001b[0mself\u001b[0m\u001b[0;34m.\u001b[0m\u001b[0mxml\u001b[0m\u001b[0;34m,\u001b[0m \u001b[0;34m'lxml-xml'\u001b[0m\u001b[0;34m)\u001b[0m\u001b[0;34m\u001b[0m\u001b[0;34m\u001b[0m\u001b[0m\n\u001b[0m\u001b[1;32m     16\u001b[0m         \u001b[0;31m# self._id = article_dict['_id']\u001b[0m\u001b[0;34m\u001b[0m\u001b[0;34m\u001b[0m\u001b[0;34m\u001b[0m\u001b[0m\n\u001b[1;32m     17\u001b[0m \u001b[0;34m\u001b[0m\u001b[0m\n",
      "\u001b[0;32m~/.virtualenvs/ai4e-data-labeling/lib/python3.7/site-packages/bs4/__init__.py\u001b[0m in \u001b[0;36m__init__\u001b[0;34m(self, markup, features, builder, parse_only, from_encoding, exclude_encodings, **kwargs)\u001b[0m\n\u001b[1;32m    279\u001b[0m             \u001b[0mself\u001b[0m\u001b[0;34m.\u001b[0m\u001b[0mreset\u001b[0m\u001b[0;34m(\u001b[0m\u001b[0;34m)\u001b[0m\u001b[0;34m\u001b[0m\u001b[0;34m\u001b[0m\u001b[0m\n\u001b[1;32m    280\u001b[0m             \u001b[0;32mtry\u001b[0m\u001b[0;34m:\u001b[0m\u001b[0;34m\u001b[0m\u001b[0;34m\u001b[0m\u001b[0m\n\u001b[0;32m--> 281\u001b[0;31m                 \u001b[0mself\u001b[0m\u001b[0;34m.\u001b[0m\u001b[0m_feed\u001b[0m\u001b[0;34m(\u001b[0m\u001b[0;34m)\u001b[0m\u001b[0;34m\u001b[0m\u001b[0;34m\u001b[0m\u001b[0m\n\u001b[0m\u001b[1;32m    282\u001b[0m                 \u001b[0;32mbreak\u001b[0m\u001b[0;34m\u001b[0m\u001b[0;34m\u001b[0m\u001b[0m\n\u001b[1;32m    283\u001b[0m             \u001b[0;32mexcept\u001b[0m \u001b[0mParserRejectedMarkup\u001b[0m\u001b[0;34m:\u001b[0m\u001b[0;34m\u001b[0m\u001b[0;34m\u001b[0m\u001b[0m\n",
      "\u001b[0;32m~/.virtualenvs/ai4e-data-labeling/lib/python3.7/site-packages/bs4/__init__.py\u001b[0m in \u001b[0;36m_feed\u001b[0;34m(self)\u001b[0m\n\u001b[1;32m    340\u001b[0m         \u001b[0mself\u001b[0m\u001b[0;34m.\u001b[0m\u001b[0mbuilder\u001b[0m\u001b[0;34m.\u001b[0m\u001b[0mreset\u001b[0m\u001b[0;34m(\u001b[0m\u001b[0;34m)\u001b[0m\u001b[0;34m\u001b[0m\u001b[0;34m\u001b[0m\u001b[0m\n\u001b[1;32m    341\u001b[0m \u001b[0;34m\u001b[0m\u001b[0m\n\u001b[0;32m--> 342\u001b[0;31m         \u001b[0mself\u001b[0m\u001b[0;34m.\u001b[0m\u001b[0mbuilder\u001b[0m\u001b[0;34m.\u001b[0m\u001b[0mfeed\u001b[0m\u001b[0;34m(\u001b[0m\u001b[0mself\u001b[0m\u001b[0;34m.\u001b[0m\u001b[0mmarkup\u001b[0m\u001b[0;34m)\u001b[0m\u001b[0;34m\u001b[0m\u001b[0;34m\u001b[0m\u001b[0m\n\u001b[0m\u001b[1;32m    343\u001b[0m         \u001b[0;31m# Close out any unfinished strings and close all the open tags.\u001b[0m\u001b[0;34m\u001b[0m\u001b[0;34m\u001b[0m\u001b[0;34m\u001b[0m\u001b[0m\n\u001b[1;32m    344\u001b[0m         \u001b[0mself\u001b[0m\u001b[0;34m.\u001b[0m\u001b[0mendData\u001b[0m\u001b[0;34m(\u001b[0m\u001b[0;34m)\u001b[0m\u001b[0;34m\u001b[0m\u001b[0;34m\u001b[0m\u001b[0m\n",
      "\u001b[0;32m~/.virtualenvs/ai4e-data-labeling/lib/python3.7/site-packages/bs4/builder/_lxml.py\u001b[0m in \u001b[0;36mfeed\u001b[0;34m(self, markup)\u001b[0m\n\u001b[1;32m    166\u001b[0m                 \u001b[0mdata\u001b[0m \u001b[0;34m=\u001b[0m \u001b[0mmarkup\u001b[0m\u001b[0;34m.\u001b[0m\u001b[0mread\u001b[0m\u001b[0;34m(\u001b[0m\u001b[0mself\u001b[0m\u001b[0;34m.\u001b[0m\u001b[0mCHUNK_SIZE\u001b[0m\u001b[0;34m)\u001b[0m\u001b[0;34m\u001b[0m\u001b[0;34m\u001b[0m\u001b[0m\n\u001b[1;32m    167\u001b[0m                 \u001b[0;32mif\u001b[0m \u001b[0mlen\u001b[0m\u001b[0;34m(\u001b[0m\u001b[0mdata\u001b[0m\u001b[0;34m)\u001b[0m \u001b[0;34m!=\u001b[0m \u001b[0;36m0\u001b[0m\u001b[0;34m:\u001b[0m\u001b[0;34m\u001b[0m\u001b[0;34m\u001b[0m\u001b[0m\n\u001b[0;32m--> 168\u001b[0;31m                     \u001b[0mself\u001b[0m\u001b[0;34m.\u001b[0m\u001b[0mparser\u001b[0m\u001b[0;34m.\u001b[0m\u001b[0mfeed\u001b[0m\u001b[0;34m(\u001b[0m\u001b[0mdata\u001b[0m\u001b[0;34m)\u001b[0m\u001b[0;34m\u001b[0m\u001b[0;34m\u001b[0m\u001b[0m\n\u001b[0m\u001b[1;32m    169\u001b[0m             \u001b[0mself\u001b[0m\u001b[0;34m.\u001b[0m\u001b[0mparser\u001b[0m\u001b[0;34m.\u001b[0m\u001b[0mclose\u001b[0m\u001b[0;34m(\u001b[0m\u001b[0;34m)\u001b[0m\u001b[0;34m\u001b[0m\u001b[0;34m\u001b[0m\u001b[0m\n\u001b[1;32m    170\u001b[0m         \u001b[0;32mexcept\u001b[0m \u001b[0;34m(\u001b[0m\u001b[0mUnicodeDecodeError\u001b[0m\u001b[0;34m,\u001b[0m \u001b[0mLookupError\u001b[0m\u001b[0;34m,\u001b[0m \u001b[0metree\u001b[0m\u001b[0;34m.\u001b[0m\u001b[0mParserError\u001b[0m\u001b[0;34m)\u001b[0m \u001b[0;32mas\u001b[0m \u001b[0me\u001b[0m\u001b[0;34m:\u001b[0m\u001b[0;34m\u001b[0m\u001b[0;34m\u001b[0m\u001b[0m\n",
      "\u001b[0;32msrc/lxml/parser.pxi\u001b[0m in \u001b[0;36mlxml.etree._FeedParser.feed\u001b[0;34m()\u001b[0m\n",
      "\u001b[0;32msrc/lxml/parser.pxi\u001b[0m in \u001b[0;36mlxml.etree._FeedParser.feed\u001b[0;34m()\u001b[0m\n",
      "\u001b[0;32msrc/lxml/parsertarget.pxi\u001b[0m in \u001b[0;36mlxml.etree._TargetParserContext._handleParseResult\u001b[0;34m()\u001b[0m\n",
      "\u001b[0;32msrc/lxml/parsertarget.pxi\u001b[0m in \u001b[0;36mlxml.etree._TargetParserContext._handleParseResult\u001b[0;34m()\u001b[0m\n",
      "\u001b[0;32msrc/lxml/etree.pyx\u001b[0m in \u001b[0;36mlxml.etree._ExceptionContext._raise_if_stored\u001b[0;34m()\u001b[0m\n",
      "\u001b[0;32msrc/lxml/saxparser.pxi\u001b[0m in \u001b[0;36mlxml.etree._handleSaxTargetStart\u001b[0;34m()\u001b[0m\n",
      "\u001b[0;32msrc/lxml/saxparser.pxi\u001b[0m in \u001b[0;36mlxml.etree._callTargetSaxStart\u001b[0;34m()\u001b[0m\n",
      "\u001b[0;32msrc/lxml/parsertarget.pxi\u001b[0m in \u001b[0;36mlxml.etree._PythonSaxParserTarget._handleSaxStart\u001b[0;34m()\u001b[0m\n",
      "\u001b[0;32m~/.virtualenvs/ai4e-data-labeling/lib/python3.7/site-packages/bs4/builder/_lxml.py\u001b[0m in \u001b[0;36mstart\u001b[0;34m(self, name, attrs, nsmap)\u001b[0m\n\u001b[1;32m    218\u001b[0m         \u001b[0mnamespace\u001b[0m\u001b[0;34m,\u001b[0m \u001b[0mname\u001b[0m \u001b[0;34m=\u001b[0m \u001b[0mself\u001b[0m\u001b[0;34m.\u001b[0m\u001b[0m_getNsTag\u001b[0m\u001b[0;34m(\u001b[0m\u001b[0mname\u001b[0m\u001b[0;34m)\u001b[0m\u001b[0;34m\u001b[0m\u001b[0;34m\u001b[0m\u001b[0m\n\u001b[1;32m    219\u001b[0m         \u001b[0mnsprefix\u001b[0m \u001b[0;34m=\u001b[0m \u001b[0mself\u001b[0m\u001b[0;34m.\u001b[0m\u001b[0m_prefix_for_namespace\u001b[0m\u001b[0;34m(\u001b[0m\u001b[0mnamespace\u001b[0m\u001b[0;34m)\u001b[0m\u001b[0;34m\u001b[0m\u001b[0;34m\u001b[0m\u001b[0m\n\u001b[0;32m--> 220\u001b[0;31m         \u001b[0mself\u001b[0m\u001b[0;34m.\u001b[0m\u001b[0msoup\u001b[0m\u001b[0;34m.\u001b[0m\u001b[0mhandle_starttag\u001b[0m\u001b[0;34m(\u001b[0m\u001b[0mname\u001b[0m\u001b[0;34m,\u001b[0m \u001b[0mnamespace\u001b[0m\u001b[0;34m,\u001b[0m \u001b[0mnsprefix\u001b[0m\u001b[0;34m,\u001b[0m \u001b[0mattrs\u001b[0m\u001b[0;34m)\u001b[0m\u001b[0;34m\u001b[0m\u001b[0;34m\u001b[0m\u001b[0m\n\u001b[0m\u001b[1;32m    221\u001b[0m \u001b[0;34m\u001b[0m\u001b[0m\n\u001b[1;32m    222\u001b[0m     \u001b[0;32mdef\u001b[0m \u001b[0m_prefix_for_namespace\u001b[0m\u001b[0;34m(\u001b[0m\u001b[0mself\u001b[0m\u001b[0;34m,\u001b[0m \u001b[0mnamespace\u001b[0m\u001b[0;34m)\u001b[0m\u001b[0;34m:\u001b[0m\u001b[0;34m\u001b[0m\u001b[0;34m\u001b[0m\u001b[0m\n",
      "\u001b[0;32m~/.virtualenvs/ai4e-data-labeling/lib/python3.7/site-packages/bs4/__init__.py\u001b[0m in \u001b[0;36mhandle_starttag\u001b[0;34m(self, name, namespace, nsprefix, attrs)\u001b[0m\n\u001b[1;32m    528\u001b[0m \u001b[0;34m\u001b[0m\u001b[0m\n\u001b[1;32m    529\u001b[0m         tag = Tag(self, self.builder, name, namespace, nsprefix, attrs,\n\u001b[0;32m--> 530\u001b[0;31m                   self.currentTag, self._most_recent_element)\n\u001b[0m\u001b[1;32m    531\u001b[0m         \u001b[0;32mif\u001b[0m \u001b[0mtag\u001b[0m \u001b[0;32mis\u001b[0m \u001b[0;32mNone\u001b[0m\u001b[0;34m:\u001b[0m\u001b[0;34m\u001b[0m\u001b[0;34m\u001b[0m\u001b[0m\n\u001b[1;32m    532\u001b[0m             \u001b[0;32mreturn\u001b[0m \u001b[0mtag\u001b[0m\u001b[0;34m\u001b[0m\u001b[0;34m\u001b[0m\u001b[0m\n",
      "\u001b[0;32m~/.virtualenvs/ai4e-data-labeling/lib/python3.7/site-packages/bs4/element.py\u001b[0m in \u001b[0;36m__init__\u001b[0;34m(self, parser, builder, name, namespace, prefix, attrs, parent, previous, is_xml)\u001b[0m\n\u001b[1;32m    859\u001b[0m         \u001b[0mself\u001b[0m\u001b[0;34m.\u001b[0m\u001b[0mattrs\u001b[0m \u001b[0;34m=\u001b[0m \u001b[0mattrs\u001b[0m\u001b[0;34m\u001b[0m\u001b[0;34m\u001b[0m\u001b[0m\n\u001b[1;32m    860\u001b[0m         \u001b[0mself\u001b[0m\u001b[0;34m.\u001b[0m\u001b[0mcontents\u001b[0m \u001b[0;34m=\u001b[0m \u001b[0;34m[\u001b[0m\u001b[0;34m]\u001b[0m\u001b[0;34m\u001b[0m\u001b[0;34m\u001b[0m\u001b[0m\n\u001b[0;32m--> 861\u001b[0;31m         \u001b[0mself\u001b[0m\u001b[0;34m.\u001b[0m\u001b[0msetup\u001b[0m\u001b[0;34m(\u001b[0m\u001b[0mparent\u001b[0m\u001b[0;34m,\u001b[0m \u001b[0mprevious\u001b[0m\u001b[0;34m)\u001b[0m\u001b[0;34m\u001b[0m\u001b[0;34m\u001b[0m\u001b[0m\n\u001b[0m\u001b[1;32m    862\u001b[0m         \u001b[0mself\u001b[0m\u001b[0;34m.\u001b[0m\u001b[0mhidden\u001b[0m \u001b[0;34m=\u001b[0m \u001b[0;32mFalse\u001b[0m\u001b[0;34m\u001b[0m\u001b[0;34m\u001b[0m\u001b[0m\n\u001b[1;32m    863\u001b[0m \u001b[0;34m\u001b[0m\u001b[0m\n",
      "\u001b[0;32m~/.virtualenvs/ai4e-data-labeling/lib/python3.7/site-packages/bs4/element.py\u001b[0m in \u001b[0;36msetup\u001b[0;34m(self, parent, previous_element, next_element, previous_sibling, next_sibling)\u001b[0m\n\u001b[1;32m    260\u001b[0m         \"\"\"Sets up the initial relations between this element and\n\u001b[1;32m    261\u001b[0m         other elements.\"\"\"\n\u001b[0;32m--> 262\u001b[0;31m         \u001b[0mself\u001b[0m\u001b[0;34m.\u001b[0m\u001b[0mparent\u001b[0m \u001b[0;34m=\u001b[0m \u001b[0mparent\u001b[0m\u001b[0;34m\u001b[0m\u001b[0;34m\u001b[0m\u001b[0m\n\u001b[0m\u001b[1;32m    263\u001b[0m \u001b[0;34m\u001b[0m\u001b[0m\n\u001b[1;32m    264\u001b[0m         \u001b[0mself\u001b[0m\u001b[0;34m.\u001b[0m\u001b[0mprevious_element\u001b[0m \u001b[0;34m=\u001b[0m \u001b[0mprevious_element\u001b[0m\u001b[0;34m\u001b[0m\u001b[0;34m\u001b[0m\u001b[0m\n",
      "\u001b[0;31mKeyboardInterrupt\u001b[0m: "
     ]
    }
   ],
   "source": [
    "reporter = Reporter(25, len(matches))\n",
    "\n",
    "rows = []\n",
    "\n",
    "for idx, record in enumerate(matches):\n",
    "    reporter.report(idx)\n",
    "\n",
    "    row = {}\n",
    "    article = Article(record[\"xml\"])\n",
    "\n",
    "    row[\"id\"] = record[\"_id\"]\n",
    "    row[\"keywords\"] = article.keywords()\n",
    "    row[\"id_types\"] = list(article.pub_ids().keys())\n",
    "    row[\"article_type\"] = article.article_type()\n",
    "    row[\"has_body\"] = True if article.soup.body else False\n",
    "    row[\"text_matches\"] = record.get(\"text_matches\")\n",
    "    row[\"article_title\"] = article.article_title()\n",
    "    row[\"journal_title\"] = article.journal_title()\n",
    "    row[\"text_length\"] = len(record[\"extracted_text\"])\n",
    "\n",
    "    rows.append(row)"
   ]
  },
  {
   "cell_type": "code",
   "execution_count": 47,
   "metadata": {},
   "outputs": [],
   "source": [
    "article_df = pd.DataFrame.from_records(rows)"
   ]
  },
  {
   "cell_type": "code",
   "execution_count": 282,
   "metadata": {},
   "outputs": [
    {
     "data": {
      "text/plain": [
       "any_matches\n",
       "False    19519\n",
       "True       481\n",
       "dtype: int64"
      ]
     },
     "execution_count": 282,
     "metadata": {},
     "output_type": "execute_result"
    }
   ],
   "source": [
    "article_df[\"any_matches\"] = [False if row is None else True for row in article_df[\"text_matches\"]]\n",
    "article_df.groupby([\"any_matches\"]).size()"
   ]
  },
  {
   "cell_type": "code",
   "execution_count": 356,
   "metadata": {},
   "outputs": [],
   "source": [
    "article_df.to_csv(\"article_sample.csv\")"
   ]
  },
  {
   "cell_type": "code",
   "execution_count": 285,
   "metadata": {},
   "outputs": [
    {
     "data": {
      "text/html": [
       "<div>\n",
       "<style scoped>\n",
       "    .dataframe tbody tr th:only-of-type {\n",
       "        vertical-align: middle;\n",
       "    }\n",
       "\n",
       "    .dataframe tbody tr th {\n",
       "        vertical-align: top;\n",
       "    }\n",
       "\n",
       "    .dataframe thead th {\n",
       "        text-align: right;\n",
       "    }\n",
       "</style>\n",
       "<table border=\"1\" class=\"dataframe\">\n",
       "  <thead>\n",
       "    <tr style=\"text-align: right;\">\n",
       "      <th></th>\n",
       "      <th>any_matches</th>\n",
       "      <th>article_type</th>\n",
       "      <th>count</th>\n",
       "    </tr>\n",
       "  </thead>\n",
       "  <tbody>\n",
       "    <tr>\n",
       "      <th>39</th>\n",
       "      <td>True</td>\n",
       "      <td>research-article</td>\n",
       "      <td>446</td>\n",
       "    </tr>\n",
       "    <tr>\n",
       "      <th>40</th>\n",
       "      <td>True</td>\n",
       "      <td>review-article</td>\n",
       "      <td>15</td>\n",
       "    </tr>\n",
       "    <tr>\n",
       "      <th>32</th>\n",
       "      <td>True</td>\n",
       "      <td>brief-report</td>\n",
       "      <td>7</td>\n",
       "    </tr>\n",
       "    <tr>\n",
       "      <th>38</th>\n",
       "      <td>True</td>\n",
       "      <td>protocol</td>\n",
       "      <td>4</td>\n",
       "    </tr>\n",
       "    <tr>\n",
       "      <th>33</th>\n",
       "      <td>True</td>\n",
       "      <td>case-report</td>\n",
       "      <td>3</td>\n",
       "    </tr>\n",
       "    <tr>\n",
       "      <th>37</th>\n",
       "      <td>True</td>\n",
       "      <td>other</td>\n",
       "      <td>3</td>\n",
       "    </tr>\n",
       "    <tr>\n",
       "      <th>34</th>\n",
       "      <td>True</td>\n",
       "      <td>data-paper</td>\n",
       "      <td>1</td>\n",
       "    </tr>\n",
       "    <tr>\n",
       "      <th>35</th>\n",
       "      <td>True</td>\n",
       "      <td>editorial</td>\n",
       "      <td>1</td>\n",
       "    </tr>\n",
       "    <tr>\n",
       "      <th>36</th>\n",
       "      <td>True</td>\n",
       "      <td>letter</td>\n",
       "      <td>1</td>\n",
       "    </tr>\n",
       "    <tr>\n",
       "      <th>28</th>\n",
       "      <td>False</td>\n",
       "      <td>research-article</td>\n",
       "      <td>14138</td>\n",
       "    </tr>\n",
       "    <tr>\n",
       "      <th>30</th>\n",
       "      <td>False</td>\n",
       "      <td>review-article</td>\n",
       "      <td>1279</td>\n",
       "    </tr>\n",
       "    <tr>\n",
       "      <th>9</th>\n",
       "      <td>False</td>\n",
       "      <td>case-report</td>\n",
       "      <td>896</td>\n",
       "    </tr>\n",
       "    <tr>\n",
       "      <th>22</th>\n",
       "      <td>False</td>\n",
       "      <td>other</td>\n",
       "      <td>745</td>\n",
       "    </tr>\n",
       "    <tr>\n",
       "      <th>1</th>\n",
       "      <td>False</td>\n",
       "      <td>abstract</td>\n",
       "      <td>507</td>\n",
       "    </tr>\n",
       "    <tr>\n",
       "      <th>13</th>\n",
       "      <td>False</td>\n",
       "      <td>editorial</td>\n",
       "      <td>314</td>\n",
       "    </tr>\n",
       "    <tr>\n",
       "      <th>7</th>\n",
       "      <td>False</td>\n",
       "      <td>brief-report</td>\n",
       "      <td>311</td>\n",
       "    </tr>\n",
       "    <tr>\n",
       "      <th>5</th>\n",
       "      <td>False</td>\n",
       "      <td>book-review</td>\n",
       "      <td>306</td>\n",
       "    </tr>\n",
       "    <tr>\n",
       "      <th>16</th>\n",
       "      <td>False</td>\n",
       "      <td>letter</td>\n",
       "      <td>301</td>\n",
       "    </tr>\n",
       "    <tr>\n",
       "      <th>10</th>\n",
       "      <td>False</td>\n",
       "      <td>correction</td>\n",
       "      <td>245</td>\n",
       "    </tr>\n",
       "    <tr>\n",
       "      <th>4</th>\n",
       "      <td>False</td>\n",
       "      <td>article-commentary</td>\n",
       "      <td>92</td>\n",
       "    </tr>\n",
       "    <tr>\n",
       "      <th>19</th>\n",
       "      <td>False</td>\n",
       "      <td>news</td>\n",
       "      <td>82</td>\n",
       "    </tr>\n",
       "    <tr>\n",
       "      <th>17</th>\n",
       "      <td>False</td>\n",
       "      <td>meeting-report</td>\n",
       "      <td>67</td>\n",
       "    </tr>\n",
       "    <tr>\n",
       "      <th>12</th>\n",
       "      <td>False</td>\n",
       "      <td>discussion</td>\n",
       "      <td>42</td>\n",
       "    </tr>\n",
       "    <tr>\n",
       "      <th>23</th>\n",
       "      <td>False</td>\n",
       "      <td>product-review</td>\n",
       "      <td>31</td>\n",
       "    </tr>\n",
       "    <tr>\n",
       "      <th>20</th>\n",
       "      <td>False</td>\n",
       "      <td>obituary</td>\n",
       "      <td>29</td>\n",
       "    </tr>\n",
       "    <tr>\n",
       "      <th>24</th>\n",
       "      <td>False</td>\n",
       "      <td>protocol</td>\n",
       "      <td>27</td>\n",
       "    </tr>\n",
       "    <tr>\n",
       "      <th>14</th>\n",
       "      <td>False</td>\n",
       "      <td>in-brief</td>\n",
       "      <td>17</td>\n",
       "    </tr>\n",
       "    <tr>\n",
       "      <th>25</th>\n",
       "      <td>False</td>\n",
       "      <td>rapid-communication</td>\n",
       "      <td>15</td>\n",
       "    </tr>\n",
       "    <tr>\n",
       "      <th>18</th>\n",
       "      <td>False</td>\n",
       "      <td>methods-article</td>\n",
       "      <td>13</td>\n",
       "    </tr>\n",
       "    <tr>\n",
       "      <th>29</th>\n",
       "      <td>False</td>\n",
       "      <td>retraction</td>\n",
       "      <td>12</td>\n",
       "    </tr>\n",
       "    <tr>\n",
       "      <th>31</th>\n",
       "      <td>False</td>\n",
       "      <td>systematic-review</td>\n",
       "      <td>11</td>\n",
       "    </tr>\n",
       "    <tr>\n",
       "      <th>15</th>\n",
       "      <td>False</td>\n",
       "      <td>introduction</td>\n",
       "      <td>9</td>\n",
       "    </tr>\n",
       "    <tr>\n",
       "      <th>26</th>\n",
       "      <td>False</td>\n",
       "      <td>reply</td>\n",
       "      <td>9</td>\n",
       "    </tr>\n",
       "    <tr>\n",
       "      <th>11</th>\n",
       "      <td>False</td>\n",
       "      <td>data-paper</td>\n",
       "      <td>7</td>\n",
       "    </tr>\n",
       "    <tr>\n",
       "      <th>2</th>\n",
       "      <td>False</td>\n",
       "      <td>addendum</td>\n",
       "      <td>3</td>\n",
       "    </tr>\n",
       "    <tr>\n",
       "      <th>6</th>\n",
       "      <td>False</td>\n",
       "      <td>books-received</td>\n",
       "      <td>3</td>\n",
       "    </tr>\n",
       "    <tr>\n",
       "      <th>3</th>\n",
       "      <td>False</td>\n",
       "      <td>announcement</td>\n",
       "      <td>2</td>\n",
       "    </tr>\n",
       "    <tr>\n",
       "      <th>21</th>\n",
       "      <td>False</td>\n",
       "      <td>oration</td>\n",
       "      <td>2</td>\n",
       "    </tr>\n",
       "    <tr>\n",
       "      <th>27</th>\n",
       "      <td>False</td>\n",
       "      <td>report</td>\n",
       "      <td>2</td>\n",
       "    </tr>\n",
       "    <tr>\n",
       "      <th>0</th>\n",
       "      <td>False</td>\n",
       "      <td>case-report</td>\n",
       "      <td>1</td>\n",
       "    </tr>\n",
       "    <tr>\n",
       "      <th>8</th>\n",
       "      <td>False</td>\n",
       "      <td>calendar</td>\n",
       "      <td>1</td>\n",
       "    </tr>\n",
       "  </tbody>\n",
       "</table>\n",
       "</div>"
      ],
      "text/plain": [
       "    any_matches         article_type  count\n",
       "39         True     research-article    446\n",
       "40         True       review-article     15\n",
       "32         True         brief-report      7\n",
       "38         True             protocol      4\n",
       "33         True          case-report      3\n",
       "37         True                other      3\n",
       "34         True           data-paper      1\n",
       "35         True            editorial      1\n",
       "36         True               letter      1\n",
       "28        False     research-article  14138\n",
       "30        False       review-article   1279\n",
       "9         False          case-report    896\n",
       "22        False                other    745\n",
       "1         False             abstract    507\n",
       "13        False            editorial    314\n",
       "7         False         brief-report    311\n",
       "5         False          book-review    306\n",
       "16        False               letter    301\n",
       "10        False           correction    245\n",
       "4         False   article-commentary     92\n",
       "19        False                 news     82\n",
       "17        False       meeting-report     67\n",
       "12        False           discussion     42\n",
       "23        False       product-review     31\n",
       "20        False             obituary     29\n",
       "24        False             protocol     27\n",
       "14        False             in-brief     17\n",
       "25        False  rapid-communication     15\n",
       "18        False      methods-article     13\n",
       "29        False           retraction     12\n",
       "31        False    systematic-review     11\n",
       "15        False         introduction      9\n",
       "26        False                reply      9\n",
       "11        False           data-paper      7\n",
       "2         False             addendum      3\n",
       "6         False       books-received      3\n",
       "3         False         announcement      2\n",
       "21        False              oration      2\n",
       "27        False               report      2\n",
       "0         False          case-report      1\n",
       "8         False             calendar      1"
      ]
     },
     "execution_count": 285,
     "metadata": {},
     "output_type": "execute_result"
    }
   ],
   "source": [
    "article_df.groupby([\"any_matches\", \"article_type\"]).size()\n",
    "art_types = article_df.groupby([\"any_matches\", \"article_type\"]).size().reset_index()\n",
    "art_types.columns = [\"any_matches\", \"article_type\", \"count\"]\n",
    "art_types.sort_values(by = [\"any_matches\", \"count\"], ascending=False)"
   ]
  },
  {
   "cell_type": "code",
   "execution_count": 364,
   "metadata": {},
   "outputs": [],
   "source": [
    "keep_vars = [\"id\", \"any_matches\"]\n",
    "unnest_var = \"keywords\"\n",
    "\n",
    "def unnest(data, unnest_var, keep_vars):\n",
    "    all_vars = keep_vars + [unnest_var]\n",
    "    nested = article_df.loc[:, keep_vars + [unnest_var]]\n",
    "    lens = [len(item) if item is not None else 1 for item in nested[unnest_var]]\n",
    "    unnested_dict = {var: np.repeat([nested[var].values], lens) for var in keep_vars}\n",
    "    unnested_dict[unnest_var] = np.hstack(nested[unnest_var])\n",
    "    unnested = pd.DataFrame(unnested_dict)\n",
    "    return(unnested)"
   ]
  },
  {
   "cell_type": "code",
   "execution_count": 369,
   "metadata": {},
   "outputs": [],
   "source": [
    "keywords = unnest(article_df, \"keywords\", [\"id\", \"any_matches\"])\n",
    "\n",
    "keywords.to_csv(\"keywords.csv\")\n",
    "\n",
    "id_types = unnest(article_df, \"id_types\", [\"id\", \"any_matches\"])\n",
    "\n",
    "id_types.to_csv(\"id_types.csv\")\n",
    "\n",
    "text_matches = unnest(article_df, \"text_matches\", [\"id\"])\n",
    "\n",
    "text_matches.to_csv(\"text_matches.csv\")"
   ]
  },
  {
   "cell_type": "code",
   "execution_count": null,
   "metadata": {},
   "outputs": [],
   "source": []
  },
  {
   "cell_type": "code",
   "execution_count": null,
   "metadata": {},
   "outputs": [],
   "source": []
  },
  {
   "cell_type": "code",
   "execution_count": null,
   "metadata": {},
   "outputs": [],
   "source": []
  },
  {
   "cell_type": "markdown",
   "metadata": {},
   "source": [
    "### Old version"
   ]
  },
  {
   "cell_type": "code",
   "execution_count": 131,
   "metadata": {},
   "outputs": [
    {
     "name": "stdout",
     "output_type": "stream",
     "text": [
      "Processed 240 articles (96.0%) in 0m12s; about 0m1s left.\n"
     ]
    }
   ],
   "source": [
    "id_types = defaultdict(int)\n",
    "article_types = defaultdict(int)\n",
    "keywords = defaultdict(int)\n",
    "\n",
    "reporter = Reporter(10, len(matches))\n",
    "\n",
    "for idx, doc in enumerate(matches):\n",
    "    if idx is not 0 and idx % reporter.interval is 0:\n",
    "        reporter.report(idx)\n",
    "    article = Article(doc[\"xml\"])\n",
    "    \n",
    "    kwds = article.keywords()\n",
    "    if kwds:\n",
    "        for kwd in kwds:\n",
    "            keywords[kwd] += 1\n",
    "    \n",
    "    ids = article.pub_ids().keys()\n",
    "    if len(ids) is 0:\n",
    "        id_types[\"none\"] += 1\n",
    "    else:\n",
    "        for item in ids:\n",
    "            id_types[item] += 1\n",
    "    \n",
    "    article_type = article.article_type()\n",
    "    if article_type:\n",
    "        article_types[article_type] += 1\n",
    "\n"
   ]
  },
  {
   "cell_type": "code",
   "execution_count": 105,
   "metadata": {},
   "outputs": [],
   "source": [
    "keywords = pd.DataFrame(list(keywords.items()), columns=[\"keyword\", \"count\"])"
   ]
  },
  {
   "cell_type": "code",
   "execution_count": 106,
   "metadata": {},
   "outputs": [
    {
     "data": {
      "text/html": [
       "<div>\n",
       "<style scoped>\n",
       "    .dataframe tbody tr th:only-of-type {\n",
       "        vertical-align: middle;\n",
       "    }\n",
       "\n",
       "    .dataframe tbody tr th {\n",
       "        vertical-align: top;\n",
       "    }\n",
       "\n",
       "    .dataframe thead th {\n",
       "        text-align: right;\n",
       "    }\n",
       "</style>\n",
       "<table border=\"1\" class=\"dataframe\">\n",
       "  <thead>\n",
       "    <tr style=\"text-align: right;\">\n",
       "      <th></th>\n",
       "      <th>keyword</th>\n",
       "      <th>count</th>\n",
       "    </tr>\n",
       "  </thead>\n",
       "  <tbody>\n",
       "    <tr>\n",
       "      <th>43</th>\n",
       "      <td>inflammation</td>\n",
       "      <td>6</td>\n",
       "    </tr>\n",
       "    <tr>\n",
       "      <th>587</th>\n",
       "      <td>oxidative stress</td>\n",
       "      <td>5</td>\n",
       "    </tr>\n",
       "    <tr>\n",
       "      <th>159</th>\n",
       "      <td>epidemiology</td>\n",
       "      <td>5</td>\n",
       "    </tr>\n",
       "    <tr>\n",
       "      <th>183</th>\n",
       "      <td>Obesity</td>\n",
       "      <td>4</td>\n",
       "    </tr>\n",
       "    <tr>\n",
       "      <th>279</th>\n",
       "      <td>Prostate cancer</td>\n",
       "      <td>4</td>\n",
       "    </tr>\n",
       "    <tr>\n",
       "      <th>1220</th>\n",
       "      <td>breast cancer</td>\n",
       "      <td>4</td>\n",
       "    </tr>\n",
       "    <tr>\n",
       "      <th>647</th>\n",
       "      <td>SNP</td>\n",
       "      <td>4</td>\n",
       "    </tr>\n",
       "    <tr>\n",
       "      <th>1833</th>\n",
       "      <td>cytotoxicity</td>\n",
       "      <td>4</td>\n",
       "    </tr>\n",
       "    <tr>\n",
       "      <th>45</th>\n",
       "      <td>mitochondria</td>\n",
       "      <td>4</td>\n",
       "    </tr>\n",
       "    <tr>\n",
       "      <th>294</th>\n",
       "      <td>depression</td>\n",
       "      <td>4</td>\n",
       "    </tr>\n",
       "    <tr>\n",
       "      <th>801</th>\n",
       "      <td>Parkinson’s disease</td>\n",
       "      <td>4</td>\n",
       "    </tr>\n",
       "    <tr>\n",
       "      <th>388</th>\n",
       "      <td>Breast cancer</td>\n",
       "      <td>4</td>\n",
       "    </tr>\n",
       "    <tr>\n",
       "      <th>1566</th>\n",
       "      <td>Prognosis</td>\n",
       "      <td>3</td>\n",
       "    </tr>\n",
       "    <tr>\n",
       "      <th>2259</th>\n",
       "      <td>autophagy</td>\n",
       "      <td>3</td>\n",
       "    </tr>\n",
       "    <tr>\n",
       "      <th>1274</th>\n",
       "      <td>Cancer</td>\n",
       "      <td>3</td>\n",
       "    </tr>\n",
       "    <tr>\n",
       "      <th>42</th>\n",
       "      <td>obesity</td>\n",
       "      <td>3</td>\n",
       "    </tr>\n",
       "    <tr>\n",
       "      <th>819</th>\n",
       "      <td>Saccharomyces cerevisiae</td>\n",
       "      <td>3</td>\n",
       "    </tr>\n",
       "    <tr>\n",
       "      <th>459</th>\n",
       "      <td>Aging</td>\n",
       "      <td>3</td>\n",
       "    </tr>\n",
       "    <tr>\n",
       "      <th>543</th>\n",
       "      <td>Proliferation</td>\n",
       "      <td>3</td>\n",
       "    </tr>\n",
       "    <tr>\n",
       "      <th>464</th>\n",
       "      <td>drug resistance</td>\n",
       "      <td>3</td>\n",
       "    </tr>\n",
       "    <tr>\n",
       "      <th>466</th>\n",
       "      <td>tuberculosis</td>\n",
       "      <td>3</td>\n",
       "    </tr>\n",
       "    <tr>\n",
       "      <th>1320</th>\n",
       "      <td>cancer</td>\n",
       "      <td>3</td>\n",
       "    </tr>\n",
       "    <tr>\n",
       "      <th>1523</th>\n",
       "      <td>diagnosis</td>\n",
       "      <td>3</td>\n",
       "    </tr>\n",
       "    <tr>\n",
       "      <th>1731</th>\n",
       "      <td>apoptosis</td>\n",
       "      <td>3</td>\n",
       "    </tr>\n",
       "    <tr>\n",
       "      <th>361</th>\n",
       "      <td>PD-1</td>\n",
       "      <td>3</td>\n",
       "    </tr>\n",
       "    <tr>\n",
       "      <th>694</th>\n",
       "      <td>Depression</td>\n",
       "      <td>3</td>\n",
       "    </tr>\n",
       "    <tr>\n",
       "      <th>1223</th>\n",
       "      <td>clinical trial</td>\n",
       "      <td>3</td>\n",
       "    </tr>\n",
       "    <tr>\n",
       "      <th>1762</th>\n",
       "      <td>Apoptosis</td>\n",
       "      <td>3</td>\n",
       "    </tr>\n",
       "    <tr>\n",
       "      <th>662</th>\n",
       "      <td>rehabilitation</td>\n",
       "      <td>3</td>\n",
       "    </tr>\n",
       "    <tr>\n",
       "      <th>396</th>\n",
       "      <td>colorectal cancer</td>\n",
       "      <td>3</td>\n",
       "    </tr>\n",
       "    <tr>\n",
       "      <th>...</th>\n",
       "      <td>...</td>\n",
       "      <td>...</td>\n",
       "    </tr>\n",
       "    <tr>\n",
       "      <th>1003</th>\n",
       "      <td>Personality disorders</td>\n",
       "      <td>1</td>\n",
       "    </tr>\n",
       "    <tr>\n",
       "      <th>1004</th>\n",
       "      <td>Carbon footprint</td>\n",
       "      <td>1</td>\n",
       "    </tr>\n",
       "    <tr>\n",
       "      <th>1005</th>\n",
       "      <td>Economic evaluation</td>\n",
       "      <td>1</td>\n",
       "    </tr>\n",
       "    <tr>\n",
       "      <th>1006</th>\n",
       "      <td>Online education</td>\n",
       "      <td>1</td>\n",
       "    </tr>\n",
       "    <tr>\n",
       "      <th>1008</th>\n",
       "      <td>evaluation</td>\n",
       "      <td>1</td>\n",
       "    </tr>\n",
       "    <tr>\n",
       "      <th>1009</th>\n",
       "      <td>star trackers</td>\n",
       "      <td>1</td>\n",
       "    </tr>\n",
       "    <tr>\n",
       "      <th>1010</th>\n",
       "      <td>slew tolerance</td>\n",
       "      <td>1</td>\n",
       "    </tr>\n",
       "    <tr>\n",
       "      <th>1011</th>\n",
       "      <td>attitude availability</td>\n",
       "      <td>1</td>\n",
       "    </tr>\n",
       "    <tr>\n",
       "      <th>1012</th>\n",
       "      <td>star detection</td>\n",
       "      <td>1</td>\n",
       "    </tr>\n",
       "    <tr>\n",
       "      <th>993</th>\n",
       "      <td>celiac disease</td>\n",
       "      <td>1</td>\n",
       "    </tr>\n",
       "    <tr>\n",
       "      <th>992</th>\n",
       "      <td>Helicobacter pylori</td>\n",
       "      <td>1</td>\n",
       "    </tr>\n",
       "    <tr>\n",
       "      <th>991</th>\n",
       "      <td>immunoglobulin A</td>\n",
       "      <td>1</td>\n",
       "    </tr>\n",
       "    <tr>\n",
       "      <th>981</th>\n",
       "      <td>data association</td>\n",
       "      <td>1</td>\n",
       "    </tr>\n",
       "    <tr>\n",
       "      <th>974</th>\n",
       "      <td>[18F]FP-(+)-DTBZ</td>\n",
       "      <td>1</td>\n",
       "    </tr>\n",
       "    <tr>\n",
       "      <th>975</th>\n",
       "      <td>PET</td>\n",
       "      <td>1</td>\n",
       "    </tr>\n",
       "    <tr>\n",
       "      <th>976</th>\n",
       "      <td>Test-retest</td>\n",
       "      <td>1</td>\n",
       "    </tr>\n",
       "    <tr>\n",
       "      <th>977</th>\n",
       "      <td>Cryptococcosis</td>\n",
       "      <td>1</td>\n",
       "    </tr>\n",
       "    <tr>\n",
       "      <th>978</th>\n",
       "      <td>Pulmonary Tuberculosis</td>\n",
       "      <td>1</td>\n",
       "    </tr>\n",
       "    <tr>\n",
       "      <th>979</th>\n",
       "      <td>Coinfection</td>\n",
       "      <td>1</td>\n",
       "    </tr>\n",
       "    <tr>\n",
       "      <th>980</th>\n",
       "      <td>multi-object tracking</td>\n",
       "      <td>1</td>\n",
       "    </tr>\n",
       "    <tr>\n",
       "      <th>982</th>\n",
       "      <td>deep neural network</td>\n",
       "      <td>1</td>\n",
       "    </tr>\n",
       "    <tr>\n",
       "      <th>990</th>\n",
       "      <td>lysosomal enzymes</td>\n",
       "      <td>1</td>\n",
       "    </tr>\n",
       "    <tr>\n",
       "      <th>983</th>\n",
       "      <td>long short-term memory network</td>\n",
       "      <td>1</td>\n",
       "    </tr>\n",
       "    <tr>\n",
       "      <th>984</th>\n",
       "      <td>nanoparticles</td>\n",
       "      <td>1</td>\n",
       "    </tr>\n",
       "    <tr>\n",
       "      <th>985</th>\n",
       "      <td>turkey</td>\n",
       "      <td>1</td>\n",
       "    </tr>\n",
       "    <tr>\n",
       "      <th>986</th>\n",
       "      <td>aminopeptidases</td>\n",
       "      <td>1</td>\n",
       "    </tr>\n",
       "    <tr>\n",
       "      <th>987</th>\n",
       "      <td>poultry meat</td>\n",
       "      <td>1</td>\n",
       "    </tr>\n",
       "    <tr>\n",
       "      <th>988</th>\n",
       "      <td>nutrition</td>\n",
       "      <td>1</td>\n",
       "    </tr>\n",
       "    <tr>\n",
       "      <th>989</th>\n",
       "      <td>supplementation</td>\n",
       "      <td>1</td>\n",
       "    </tr>\n",
       "    <tr>\n",
       "      <th>2796</th>\n",
       "      <td>argonaute</td>\n",
       "      <td>1</td>\n",
       "    </tr>\n",
       "  </tbody>\n",
       "</table>\n",
       "<p>2797 rows × 2 columns</p>\n",
       "</div>"
      ],
      "text/plain": [
       "                             keyword  count\n",
       "43                      inflammation      6\n",
       "587                 oxidative stress      5\n",
       "159                     epidemiology      5\n",
       "183                          Obesity      4\n",
       "279                  Prostate cancer      4\n",
       "1220                   breast cancer      4\n",
       "647                              SNP      4\n",
       "1833                    cytotoxicity      4\n",
       "45                      mitochondria      4\n",
       "294                       depression      4\n",
       "801              Parkinson’s disease      4\n",
       "388                    Breast cancer      4\n",
       "1566                       Prognosis      3\n",
       "2259                       autophagy      3\n",
       "1274                          Cancer      3\n",
       "42                           obesity      3\n",
       "819         Saccharomyces cerevisiae      3\n",
       "459                            Aging      3\n",
       "543                    Proliferation      3\n",
       "464                  drug resistance      3\n",
       "466                     tuberculosis      3\n",
       "1320                          cancer      3\n",
       "1523                       diagnosis      3\n",
       "1731                       apoptosis      3\n",
       "361                             PD-1      3\n",
       "694                       Depression      3\n",
       "1223                  clinical trial      3\n",
       "1762                       Apoptosis      3\n",
       "662                   rehabilitation      3\n",
       "396                colorectal cancer      3\n",
       "...                              ...    ...\n",
       "1003           Personality disorders      1\n",
       "1004                Carbon footprint      1\n",
       "1005             Economic evaluation      1\n",
       "1006                Online education      1\n",
       "1008                      evaluation      1\n",
       "1009                   star trackers      1\n",
       "1010                  slew tolerance      1\n",
       "1011           attitude availability      1\n",
       "1012                  star detection      1\n",
       "993                   celiac disease      1\n",
       "992              Helicobacter pylori      1\n",
       "991                 immunoglobulin A      1\n",
       "981                 data association      1\n",
       "974                 [18F]FP-(+)-DTBZ      1\n",
       "975                              PET      1\n",
       "976                      Test-retest      1\n",
       "977                   Cryptococcosis      1\n",
       "978           Pulmonary Tuberculosis      1\n",
       "979                      Coinfection      1\n",
       "980            multi-object tracking      1\n",
       "982              deep neural network      1\n",
       "990                lysosomal enzymes      1\n",
       "983   long short-term memory network      1\n",
       "984                    nanoparticles      1\n",
       "985                           turkey      1\n",
       "986                  aminopeptidases      1\n",
       "987                     poultry meat      1\n",
       "988                        nutrition      1\n",
       "989                  supplementation      1\n",
       "2796                       argonaute      1\n",
       "\n",
       "[2797 rows x 2 columns]"
      ]
     },
     "execution_count": 106,
     "metadata": {},
     "output_type": "execute_result"
    }
   ],
   "source": [
    "keywords.sort_values(\"count\", ascending=False)"
   ]
  },
  {
   "cell_type": "code",
   "execution_count": 97,
   "metadata": {},
   "outputs": [
    {
     "data": {
      "text/plain": [
       "defaultdict(int,\n",
       "            {'pmid': 18771,\n",
       "             'pmc': 20000,\n",
       "             'publisher-id': 13829,\n",
       "             'doi': 17408,\n",
       "             'pii': 1117,\n",
       "             'pmc-scan': 1198,\n",
       "             'manuscript': 206,\n",
       "             'coden': 219,\n",
       "             'art-access-id': 208,\n",
       "             'other': 134,\n",
       "             'publisher-manuscript': 22,\n",
       "             'sici': 27,\n",
       "             'medline': 4})"
      ]
     },
     "execution_count": 97,
     "metadata": {},
     "output_type": "execute_result"
    }
   ],
   "source": [
    "id_types"
   ]
  },
  {
   "cell_type": "code",
   "execution_count": 98,
   "metadata": {},
   "outputs": [
    {
     "data": {
      "text/plain": [
       "defaultdict(int,\n",
       "            {'research-article': 14584,\n",
       "             'abstract': 507,\n",
       "             'brief-report': 318,\n",
       "             'retraction': 12,\n",
       "             'other': 748,\n",
       "             'review-article': 1294,\n",
       "             'editorial': 315,\n",
       "             'case-report': 899,\n",
       "             'correction': 245,\n",
       "             'news': 82,\n",
       "             'discussion': 42,\n",
       "             'letter': 302,\n",
       "             'meeting-report': 67,\n",
       "             'product-review': 31,\n",
       "             'reply': 9,\n",
       "             'article-commentary': 92,\n",
       "             'addendum': 3,\n",
       "             'book-review': 306,\n",
       "             'protocol': 31,\n",
       "             'obituary': 29,\n",
       "             'rapid-communication': 15,\n",
       "             'methods-article': 13,\n",
       "             'in-brief': 17,\n",
       "             'systematic-review': 11,\n",
       "             'introduction': 9,\n",
       "             'oration': 2,\n",
       "             'books-received': 3,\n",
       "             ' case-report': 1,\n",
       "             'data-paper': 8,\n",
       "             'report': 2,\n",
       "             'announcement': 2,\n",
       "             'calendar': 1})"
      ]
     },
     "execution_count": 98,
     "metadata": {},
     "output_type": "execute_result"
    }
   ],
   "source": [
    "article_types"
   ]
  },
  {
   "cell_type": "code",
   "execution_count": null,
   "metadata": {},
   "outputs": [],
   "source": []
  },
  {
   "cell_type": "markdown",
   "metadata": {},
   "source": [
    "## Look at the text of a single document matching a search result"
   ]
  },
  {
   "cell_type": "code",
   "execution_count": 23,
   "metadata": {},
   "outputs": [
    {
     "data": {
      "text/plain": [
       "<pymongo.results.UpdateResult at 0x10d353408>"
      ]
     },
     "execution_count": 23,
     "metadata": {},
     "output_type": "execute_result"
    }
   ],
   "source": [
    "articles.update_many(\n",
    "    filter={},\n",
    "    update={ \"$unset\": { \"text_matches\": \"\" } }\n",
    ")"
   ]
  }
 ],
 "metadata": {
  "kernelspec": {
   "display_name": "Python 3",
   "language": "python",
   "name": "python3"
  },
  "language_info": {
   "codemirror_mode": {
    "name": "ipython",
    "version": 3
   },
   "file_extension": ".py",
   "mimetype": "text/x-python",
   "name": "python",
   "nbconvert_exporter": "python",
   "pygments_lexer": "ipython3",
   "version": "3.7.3"
  }
 },
 "nbformat": 4,
 "nbformat_minor": 2
}
